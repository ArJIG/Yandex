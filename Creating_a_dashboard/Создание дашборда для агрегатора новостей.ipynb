{
 "cells": [
  {
   "cell_type": "markdown",
   "id": "b403066a",
   "metadata": {},
   "source": [
    "# Материалы"
   ]
  },
  {
   "cell_type": "markdown",
   "id": "b62ac642",
   "metadata": {},
   "source": [
    "Дашбор: https://public.tableau.com/views/YandexDzen_16868292617110/sheet4?:language=en-US&publish=yes&:display_count=n&:origin=viz_share_link"
   ]
  },
  {
   "cell_type": "markdown",
   "id": "9333914f",
   "metadata": {},
   "source": [
    "Презентация: https://drive.google.com/file/d/1GvK7EGjs0eMFZae_q8u5AzO1w0k1YY51/view?usp=sharing"
   ]
  },
  {
   "cell_type": "markdown",
   "id": "6e6249df",
   "metadata": {},
   "source": [
    "# Запрос csv файла"
   ]
  },
  {
   "cell_type": "code",
   "execution_count": null,
   "id": "b4874db3",
   "metadata": {},
   "outputs": [],
   "source": [
    "import pandas as pd\n",
    "from sqlalchemy import create_engine\n",
    "# !pip install psycopg2"
   ]
  },
  {
   "cell_type": "code",
   "execution_count": 2,
   "id": "c39af73d",
   "metadata": {},
   "outputs": [],
   "source": [
    "db_config = {'user': 'praktikum_student', # имя пользователя\n",
    "            'pwd': 'Sdf4$2;d-d30pp', # пароль\n",
    "            'host': 'rc1b-wcoijxj3yxfsf3fs.mdb.yandexcloud.net',\n",
    "            'port': 6432, # порт подключения\n",
    "            'db': 'data-analyst-zen-project-db'} # название базы данных"
   ]
  },
  {
   "cell_type": "code",
   "execution_count": 3,
   "id": "80a2b7a0",
   "metadata": {},
   "outputs": [],
   "source": [
    "connection_string = 'postgresql://{}:{}@{}:{}/{}'.format(db_config['user'],\n",
    "                                                db_config['pwd'],\n",
    "                                                db_config['host'],\n",
    "                                                db_config['port'],\n",
    "                                                db_config['db'])"
   ]
  },
  {
   "cell_type": "code",
   "execution_count": 4,
   "id": "f902f3c2",
   "metadata": {},
   "outputs": [],
   "source": [
    "engine = create_engine(connection_string)"
   ]
  },
  {
   "cell_type": "code",
   "execution_count": 5,
   "id": "86e53f90",
   "metadata": {},
   "outputs": [],
   "source": [
    "query = '''\n",
    "            SELECT * FROM dash_visits\n",
    "        '''"
   ]
  },
  {
   "cell_type": "code",
   "execution_count": 6,
   "id": "0996eb80",
   "metadata": {},
   "outputs": [],
   "source": [
    "with engine.begin() as conn:\n",
    "    dash_visits = pd.io.sql.read_sql(query, con=conn, index_col=\"record_id\")"
   ]
  },
  {
   "cell_type": "code",
   "execution_count": 7,
   "id": "00cf2bf1",
   "metadata": {},
   "outputs": [
    {
     "data": {
      "text/html": [
       "<div>\n",
       "<style scoped>\n",
       "    .dataframe tbody tr th:only-of-type {\n",
       "        vertical-align: middle;\n",
       "    }\n",
       "\n",
       "    .dataframe tbody tr th {\n",
       "        vertical-align: top;\n",
       "    }\n",
       "\n",
       "    .dataframe thead th {\n",
       "        text-align: right;\n",
       "    }\n",
       "</style>\n",
       "<table border=\"1\" class=\"dataframe\">\n",
       "  <thead>\n",
       "    <tr style=\"text-align: right;\">\n",
       "      <th></th>\n",
       "      <th>item_topic</th>\n",
       "      <th>source_topic</th>\n",
       "      <th>age_segment</th>\n",
       "      <th>dt</th>\n",
       "      <th>visits</th>\n",
       "    </tr>\n",
       "    <tr>\n",
       "      <th>record_id</th>\n",
       "      <th></th>\n",
       "      <th></th>\n",
       "      <th></th>\n",
       "      <th></th>\n",
       "      <th></th>\n",
       "    </tr>\n",
       "  </thead>\n",
       "  <tbody>\n",
       "    <tr>\n",
       "      <th>1040597</th>\n",
       "      <td>Деньги</td>\n",
       "      <td>Авто</td>\n",
       "      <td>18-25</td>\n",
       "      <td>2019-09-24 18:32:00</td>\n",
       "      <td>3</td>\n",
       "    </tr>\n",
       "    <tr>\n",
       "      <th>1040598</th>\n",
       "      <td>Деньги</td>\n",
       "      <td>Авто</td>\n",
       "      <td>18-25</td>\n",
       "      <td>2019-09-24 18:35:00</td>\n",
       "      <td>1</td>\n",
       "    </tr>\n",
       "    <tr>\n",
       "      <th>1040599</th>\n",
       "      <td>Деньги</td>\n",
       "      <td>Авто</td>\n",
       "      <td>18-25</td>\n",
       "      <td>2019-09-24 18:54:00</td>\n",
       "      <td>4</td>\n",
       "    </tr>\n",
       "    <tr>\n",
       "      <th>1040600</th>\n",
       "      <td>Деньги</td>\n",
       "      <td>Авто</td>\n",
       "      <td>18-25</td>\n",
       "      <td>2019-09-24 18:55:00</td>\n",
       "      <td>17</td>\n",
       "    </tr>\n",
       "    <tr>\n",
       "      <th>1040601</th>\n",
       "      <td>Деньги</td>\n",
       "      <td>Авто</td>\n",
       "      <td>18-25</td>\n",
       "      <td>2019-09-24 18:56:00</td>\n",
       "      <td>27</td>\n",
       "    </tr>\n",
       "  </tbody>\n",
       "</table>\n",
       "</div>"
      ],
      "text/plain": [
       "          item_topic source_topic age_segment                  dt  visits\n",
       "record_id                                                                \n",
       "1040597       Деньги         Авто       18-25 2019-09-24 18:32:00       3\n",
       "1040598       Деньги         Авто       18-25 2019-09-24 18:35:00       1\n",
       "1040599       Деньги         Авто       18-25 2019-09-24 18:54:00       4\n",
       "1040600       Деньги         Авто       18-25 2019-09-24 18:55:00      17\n",
       "1040601       Деньги         Авто       18-25 2019-09-24 18:56:00      27"
      ]
     },
     "execution_count": 7,
     "metadata": {},
     "output_type": "execute_result"
    }
   ],
   "source": [
    "dash_visits.head(5)"
   ]
  },
  {
   "cell_type": "code",
   "execution_count": 8,
   "id": "38984268",
   "metadata": {},
   "outputs": [],
   "source": [
    "dash_visits.to_csv('dash_visits.csv', index = False)"
   ]
  },
  {
   "cell_type": "code",
   "execution_count": null,
   "id": "744add25",
   "metadata": {},
   "outputs": [],
   "source": [
    "data.to_csv('data_csv', index = False)\n",
    "from IPython.display import display, FileLink\n",
    "FileLink('data_csv')"
   ]
  }
 ],
 "metadata": {
  "kernelspec": {
   "display_name": "Python 3 (ipykernel)",
   "language": "python",
   "name": "python3"
  },
  "language_info": {
   "codemirror_mode": {
    "name": "ipython",
    "version": 3
   },
   "file_extension": ".py",
   "mimetype": "text/x-python",
   "name": "python",
   "nbconvert_exporter": "python",
   "pygments_lexer": "ipython3",
   "version": "3.9.13"
  }
 },
 "nbformat": 4,
 "nbformat_minor": 5
}
