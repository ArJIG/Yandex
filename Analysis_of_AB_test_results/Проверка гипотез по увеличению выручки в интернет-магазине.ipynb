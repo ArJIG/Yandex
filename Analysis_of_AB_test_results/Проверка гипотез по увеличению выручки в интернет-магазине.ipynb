{
 "cells": [
  {
   "cell_type": "markdown",
   "metadata": {},
   "source": [
    "# Проверка гипотез по увеличению выручки в интернет-магазине —оценить результаты A/B теста"
   ]
  },
  {
   "cell_type": "markdown",
   "metadata": {},
   "source": [
    "# Цель проекта"
   ]
  },
  {
   "cell_type": "markdown",
   "metadata": {},
   "source": [
    "В первой части проекта необходимо приоритезировать гипотезы и сделать выводы на основе двух методов приоритезации.\n",
    "\n",
    "Во второй части проекта - провожу анализ А/В тестирования. Необходимо определить статистическую значимость в среднем количестве заказов и среднем чеке между группами. На основе этих данных, сделать вывод."
   ]
  },
  {
   "cell_type": "markdown",
   "metadata": {},
   "source": [
    "# Структура проекта"
   ]
  },
  {
   "cell_type": "markdown",
   "metadata": {},
   "source": [
    "Последовательность выполнения проекта:\n",
    "- Приоритизируем гипотезы\n",
    "- Изучим общую информацию данных по А/В тестированию\n",
    "- Выполним предобработку данных\n",
    "- Исследовательский анализ даных\n",
    "- Проверка гипотез\n",
    "- Сделаем общий вывод по исследованию"
   ]
  },
  {
   "cell_type": "markdown",
   "metadata": {},
   "source": [
    "## Приоритезация гипотез"
   ]
  },
  {
   "cell_type": "markdown",
   "metadata": {},
   "source": [
    "### Импорт библиотек"
   ]
  },
  {
   "cell_type": "code",
   "execution_count": 1,
   "metadata": {},
   "outputs": [],
   "source": [
    "import pandas as pd\n",
    "import datetime as dt\n",
    "import matplotlib.pyplot as plt\n",
    "import numpy as np\n",
    "import scipy.stats as stats"
   ]
  },
  {
   "cell_type": "markdown",
   "metadata": {},
   "source": [
    "### Чтение файла"
   ]
  },
  {
   "cell_type": "code",
   "execution_count": 2,
   "metadata": {},
   "outputs": [],
   "source": [
    "try:\n",
    "    data = pd.read_csv('/datasets/hypothesis.csv')\n",
    "except:\n",
    "    data = pd.read_csv('https://code.s3.yandex.net/datasets/hypothesis.csv')"
   ]
  },
  {
   "cell_type": "markdown",
   "metadata": {},
   "source": [
    "### Знакомство с данными"
   ]
  },
  {
   "cell_type": "code",
   "execution_count": 3,
   "metadata": {
    "scrolled": true
   },
   "outputs": [
    {
     "data": {
      "text/html": [
       "<div>\n",
       "<style scoped>\n",
       "    .dataframe tbody tr th:only-of-type {\n",
       "        vertical-align: middle;\n",
       "    }\n",
       "\n",
       "    .dataframe tbody tr th {\n",
       "        vertical-align: top;\n",
       "    }\n",
       "\n",
       "    .dataframe thead th {\n",
       "        text-align: right;\n",
       "    }\n",
       "</style>\n",
       "<table border=\"1\" class=\"dataframe\">\n",
       "  <thead>\n",
       "    <tr style=\"text-align: right;\">\n",
       "      <th></th>\n",
       "      <th>Hypothesis</th>\n",
       "      <th>Reach</th>\n",
       "      <th>Impact</th>\n",
       "      <th>Confidence</th>\n",
       "      <th>Efforts</th>\n",
       "    </tr>\n",
       "  </thead>\n",
       "  <tbody>\n",
       "    <tr>\n",
       "      <th>0</th>\n",
       "      <td>Добавить два новых канала привлечения трафика, что позволит привлекать на 30% больше пользователей</td>\n",
       "      <td>3</td>\n",
       "      <td>10</td>\n",
       "      <td>8</td>\n",
       "      <td>6</td>\n",
       "    </tr>\n",
       "    <tr>\n",
       "      <th>1</th>\n",
       "      <td>Запустить собственную службу доставки, что сократит срок доставки заказов</td>\n",
       "      <td>2</td>\n",
       "      <td>5</td>\n",
       "      <td>4</td>\n",
       "      <td>10</td>\n",
       "    </tr>\n",
       "    <tr>\n",
       "      <th>2</th>\n",
       "      <td>Добавить блоки рекомендаций товаров на сайт интернет магазина, чтобы повысить конверсию и средний чек заказа</td>\n",
       "      <td>8</td>\n",
       "      <td>3</td>\n",
       "      <td>7</td>\n",
       "      <td>3</td>\n",
       "    </tr>\n",
       "    <tr>\n",
       "      <th>3</th>\n",
       "      <td>Изменить структура категорий, что увеличит конверсию, т.к. пользователи быстрее найдут нужный товар</td>\n",
       "      <td>8</td>\n",
       "      <td>3</td>\n",
       "      <td>3</td>\n",
       "      <td>8</td>\n",
       "    </tr>\n",
       "    <tr>\n",
       "      <th>4</th>\n",
       "      <td>Изменить цвет фона главной страницы, чтобы увеличить вовлеченность пользователей</td>\n",
       "      <td>3</td>\n",
       "      <td>1</td>\n",
       "      <td>1</td>\n",
       "      <td>1</td>\n",
       "    </tr>\n",
       "    <tr>\n",
       "      <th>5</th>\n",
       "      <td>Добавить страницу отзывов клиентов о магазине, что позволит увеличить количество заказов</td>\n",
       "      <td>3</td>\n",
       "      <td>2</td>\n",
       "      <td>2</td>\n",
       "      <td>3</td>\n",
       "    </tr>\n",
       "    <tr>\n",
       "      <th>6</th>\n",
       "      <td>Показать на главной странице баннеры с актуальными акциями и распродажами, чтобы увеличить конверсию</td>\n",
       "      <td>5</td>\n",
       "      <td>3</td>\n",
       "      <td>8</td>\n",
       "      <td>3</td>\n",
       "    </tr>\n",
       "    <tr>\n",
       "      <th>7</th>\n",
       "      <td>Добавить форму подписки на все основные страницы, чтобы собрать базу клиентов для email-рассылок</td>\n",
       "      <td>10</td>\n",
       "      <td>7</td>\n",
       "      <td>8</td>\n",
       "      <td>5</td>\n",
       "    </tr>\n",
       "    <tr>\n",
       "      <th>8</th>\n",
       "      <td>Запустить акцию, дающую скидку на товар в день рождения</td>\n",
       "      <td>1</td>\n",
       "      <td>9</td>\n",
       "      <td>9</td>\n",
       "      <td>5</td>\n",
       "    </tr>\n",
       "  </tbody>\n",
       "</table>\n",
       "</div>"
      ],
      "text/plain": [
       "                                                                                                     Hypothesis  \\\n",
       "0            Добавить два новых канала привлечения трафика, что позволит привлекать на 30% больше пользователей   \n",
       "1                                     Запустить собственную службу доставки, что сократит срок доставки заказов   \n",
       "2  Добавить блоки рекомендаций товаров на сайт интернет магазина, чтобы повысить конверсию и средний чек заказа   \n",
       "3           Изменить структура категорий, что увеличит конверсию, т.к. пользователи быстрее найдут нужный товар   \n",
       "4                              Изменить цвет фона главной страницы, чтобы увеличить вовлеченность пользователей   \n",
       "5                      Добавить страницу отзывов клиентов о магазине, что позволит увеличить количество заказов   \n",
       "6          Показать на главной странице баннеры с актуальными акциями и распродажами, чтобы увеличить конверсию   \n",
       "7              Добавить форму подписки на все основные страницы, чтобы собрать базу клиентов для email-рассылок   \n",
       "8                                                       Запустить акцию, дающую скидку на товар в день рождения   \n",
       "\n",
       "   Reach  Impact  Confidence  Efforts  \n",
       "0      3      10           8        6  \n",
       "1      2       5           4       10  \n",
       "2      8       3           7        3  \n",
       "3      8       3           3        8  \n",
       "4      3       1           1        1  \n",
       "5      3       2           2        3  \n",
       "6      5       3           8        3  \n",
       "7     10       7           8        5  \n",
       "8      1       9           9        5  "
      ]
     },
     "execution_count": 3,
     "metadata": {},
     "output_type": "execute_result"
    }
   ],
   "source": [
    "pd.options.display.max_colwidth = 130\n",
    "data"
   ]
  },
  {
   "cell_type": "markdown",
   "metadata": {},
   "source": [
    "В данных всего 9 гипотез. \n",
    "- Приведу названия стобцов к нижнему регистру.\n",
    "- Пропусков в таблице нет - можно приступать к приоритезации."
   ]
  },
  {
   "cell_type": "code",
   "execution_count": 4,
   "metadata": {},
   "outputs": [],
   "source": [
    "data.columns = ['hypothesis', 'reach', 'impact', 'confidence', 'efforts']"
   ]
  },
  {
   "cell_type": "markdown",
   "metadata": {},
   "source": [
    "###  Применяю фреймворк ICE для приоритизации"
   ]
  },
  {
   "cell_type": "code",
   "execution_count": 5,
   "metadata": {
    "scrolled": false
   },
   "outputs": [
    {
     "data": {
      "text/html": [
       "<div>\n",
       "<style scoped>\n",
       "    .dataframe tbody tr th:only-of-type {\n",
       "        vertical-align: middle;\n",
       "    }\n",
       "\n",
       "    .dataframe tbody tr th {\n",
       "        vertical-align: top;\n",
       "    }\n",
       "\n",
       "    .dataframe thead th {\n",
       "        text-align: right;\n",
       "    }\n",
       "</style>\n",
       "<table border=\"1\" class=\"dataframe\">\n",
       "  <thead>\n",
       "    <tr style=\"text-align: right;\">\n",
       "      <th></th>\n",
       "      <th>hypothesis</th>\n",
       "      <th>ice_score</th>\n",
       "    </tr>\n",
       "  </thead>\n",
       "  <tbody>\n",
       "    <tr>\n",
       "      <th>8</th>\n",
       "      <td>Запустить акцию, дающую скидку на товар в день рождения</td>\n",
       "      <td>16.20</td>\n",
       "    </tr>\n",
       "    <tr>\n",
       "      <th>0</th>\n",
       "      <td>Добавить два новых канала привлечения трафика, что позволит привлекать на 30% больше пользователей</td>\n",
       "      <td>13.33</td>\n",
       "    </tr>\n",
       "    <tr>\n",
       "      <th>7</th>\n",
       "      <td>Добавить форму подписки на все основные страницы, чтобы собрать базу клиентов для email-рассылок</td>\n",
       "      <td>11.20</td>\n",
       "    </tr>\n",
       "    <tr>\n",
       "      <th>6</th>\n",
       "      <td>Показать на главной странице баннеры с актуальными акциями и распродажами, чтобы увеличить конверсию</td>\n",
       "      <td>8.00</td>\n",
       "    </tr>\n",
       "    <tr>\n",
       "      <th>2</th>\n",
       "      <td>Добавить блоки рекомендаций товаров на сайт интернет магазина, чтобы повысить конверсию и средний чек заказа</td>\n",
       "      <td>7.00</td>\n",
       "    </tr>\n",
       "    <tr>\n",
       "      <th>1</th>\n",
       "      <td>Запустить собственную службу доставки, что сократит срок доставки заказов</td>\n",
       "      <td>2.00</td>\n",
       "    </tr>\n",
       "    <tr>\n",
       "      <th>5</th>\n",
       "      <td>Добавить страницу отзывов клиентов о магазине, что позволит увеличить количество заказов</td>\n",
       "      <td>1.33</td>\n",
       "    </tr>\n",
       "    <tr>\n",
       "      <th>3</th>\n",
       "      <td>Изменить структура категорий, что увеличит конверсию, т.к. пользователи быстрее найдут нужный товар</td>\n",
       "      <td>1.12</td>\n",
       "    </tr>\n",
       "    <tr>\n",
       "      <th>4</th>\n",
       "      <td>Изменить цвет фона главной страницы, чтобы увеличить вовлеченность пользователей</td>\n",
       "      <td>1.00</td>\n",
       "    </tr>\n",
       "  </tbody>\n",
       "</table>\n",
       "</div>"
      ],
      "text/plain": [
       "                                                                                                     hypothesis  \\\n",
       "8                                                       Запустить акцию, дающую скидку на товар в день рождения   \n",
       "0            Добавить два новых канала привлечения трафика, что позволит привлекать на 30% больше пользователей   \n",
       "7              Добавить форму подписки на все основные страницы, чтобы собрать базу клиентов для email-рассылок   \n",
       "6          Показать на главной странице баннеры с актуальными акциями и распродажами, чтобы увеличить конверсию   \n",
       "2  Добавить блоки рекомендаций товаров на сайт интернет магазина, чтобы повысить конверсию и средний чек заказа   \n",
       "1                                     Запустить собственную службу доставки, что сократит срок доставки заказов   \n",
       "5                      Добавить страницу отзывов клиентов о магазине, что позволит увеличить количество заказов   \n",
       "3           Изменить структура категорий, что увеличит конверсию, т.к. пользователи быстрее найдут нужный товар   \n",
       "4                              Изменить цвет фона главной страницы, чтобы увеличить вовлеченность пользователей   \n",
       "\n",
       "   ice_score  \n",
       "8      16.20  \n",
       "0      13.33  \n",
       "7      11.20  \n",
       "6       8.00  \n",
       "2       7.00  \n",
       "1       2.00  \n",
       "5       1.33  \n",
       "3       1.12  \n",
       "4       1.00  "
      ]
     },
     "execution_count": 5,
     "metadata": {},
     "output_type": "execute_result"
    }
   ],
   "source": [
    "data['ice_score'] = ((data['impact'] * data['confidence']) / data['efforts']).round(2)\n",
    "data_ice = data[['hypothesis', 'ice_score']].sort_values(by = 'ice_score', ascending = False)\n",
    "data_ice"
   ]
  },
  {
   "cell_type": "markdown",
   "metadata": {},
   "source": [
    "При выборе метода приоритезации ICE, лидерами оказались следующие гипотезы:\n",
    "- Запустить акцию, дающую скидку на товар в день рождения.\n",
    "- Добавить два новых канала привлечения трафика, что позволит привлекать на 30% больше пользователей.\n",
    "- Добавить форму подписки на все основные страницы, чтобы собрать базу клиентов для email-рассылок."
   ]
  },
  {
   "cell_type": "markdown",
   "metadata": {},
   "source": [
    "###  Применяю фреймворк RICE для приоритизации"
   ]
  },
  {
   "cell_type": "code",
   "execution_count": 6,
   "metadata": {
    "scrolled": true
   },
   "outputs": [
    {
     "data": {
      "text/html": [
       "<div>\n",
       "<style scoped>\n",
       "    .dataframe tbody tr th:only-of-type {\n",
       "        vertical-align: middle;\n",
       "    }\n",
       "\n",
       "    .dataframe tbody tr th {\n",
       "        vertical-align: top;\n",
       "    }\n",
       "\n",
       "    .dataframe thead th {\n",
       "        text-align: right;\n",
       "    }\n",
       "</style>\n",
       "<table border=\"1\" class=\"dataframe\">\n",
       "  <thead>\n",
       "    <tr style=\"text-align: right;\">\n",
       "      <th></th>\n",
       "      <th>hypothesis</th>\n",
       "      <th>rice_score</th>\n",
       "    </tr>\n",
       "  </thead>\n",
       "  <tbody>\n",
       "    <tr>\n",
       "      <th>7</th>\n",
       "      <td>Добавить форму подписки на все основные страницы, чтобы собрать базу клиентов для email-рассылок</td>\n",
       "      <td>112.0</td>\n",
       "    </tr>\n",
       "    <tr>\n",
       "      <th>2</th>\n",
       "      <td>Добавить блоки рекомендаций товаров на сайт интернет магазина, чтобы повысить конверсию и средний чек заказа</td>\n",
       "      <td>56.0</td>\n",
       "    </tr>\n",
       "    <tr>\n",
       "      <th>0</th>\n",
       "      <td>Добавить два новых канала привлечения трафика, что позволит привлекать на 30% больше пользователей</td>\n",
       "      <td>40.0</td>\n",
       "    </tr>\n",
       "    <tr>\n",
       "      <th>6</th>\n",
       "      <td>Показать на главной странице баннеры с актуальными акциями и распродажами, чтобы увеличить конверсию</td>\n",
       "      <td>40.0</td>\n",
       "    </tr>\n",
       "    <tr>\n",
       "      <th>8</th>\n",
       "      <td>Запустить акцию, дающую скидку на товар в день рождения</td>\n",
       "      <td>16.2</td>\n",
       "    </tr>\n",
       "    <tr>\n",
       "      <th>3</th>\n",
       "      <td>Изменить структура категорий, что увеличит конверсию, т.к. пользователи быстрее найдут нужный товар</td>\n",
       "      <td>9.0</td>\n",
       "    </tr>\n",
       "    <tr>\n",
       "      <th>1</th>\n",
       "      <td>Запустить собственную службу доставки, что сократит срок доставки заказов</td>\n",
       "      <td>4.0</td>\n",
       "    </tr>\n",
       "    <tr>\n",
       "      <th>5</th>\n",
       "      <td>Добавить страницу отзывов клиентов о магазине, что позволит увеличить количество заказов</td>\n",
       "      <td>4.0</td>\n",
       "    </tr>\n",
       "    <tr>\n",
       "      <th>4</th>\n",
       "      <td>Изменить цвет фона главной страницы, чтобы увеличить вовлеченность пользователей</td>\n",
       "      <td>3.0</td>\n",
       "    </tr>\n",
       "  </tbody>\n",
       "</table>\n",
       "</div>"
      ],
      "text/plain": [
       "                                                                                                     hypothesis  \\\n",
       "7              Добавить форму подписки на все основные страницы, чтобы собрать базу клиентов для email-рассылок   \n",
       "2  Добавить блоки рекомендаций товаров на сайт интернет магазина, чтобы повысить конверсию и средний чек заказа   \n",
       "0            Добавить два новых канала привлечения трафика, что позволит привлекать на 30% больше пользователей   \n",
       "6          Показать на главной странице баннеры с актуальными акциями и распродажами, чтобы увеличить конверсию   \n",
       "8                                                       Запустить акцию, дающую скидку на товар в день рождения   \n",
       "3           Изменить структура категорий, что увеличит конверсию, т.к. пользователи быстрее найдут нужный товар   \n",
       "1                                     Запустить собственную службу доставки, что сократит срок доставки заказов   \n",
       "5                      Добавить страницу отзывов клиентов о магазине, что позволит увеличить количество заказов   \n",
       "4                              Изменить цвет фона главной страницы, чтобы увеличить вовлеченность пользователей   \n",
       "\n",
       "   rice_score  \n",
       "7       112.0  \n",
       "2        56.0  \n",
       "0        40.0  \n",
       "6        40.0  \n",
       "8        16.2  \n",
       "3         9.0  \n",
       "1         4.0  \n",
       "5         4.0  \n",
       "4         3.0  "
      ]
     },
     "execution_count": 6,
     "metadata": {},
     "output_type": "execute_result"
    }
   ],
   "source": [
    "data['rice_score'] = (data['reach'] * data['impact'] * data['confidence']) / data['efforts']\n",
    "data_rice = data[['hypothesis', 'rice_score']].sort_values(by = 'rice_score', ascending = False)\n",
    "data_rice"
   ]
  },
  {
   "cell_type": "markdown",
   "metadata": {},
   "source": [
    "При выборе метода приоритизации RICE, лидерами оказались следующие гипотезы:\n",
    "- Добавить форму подписки на все основные страницы, чтобы собрать базу клиентов для email-рассылок.\n",
    "- Добавить блоки рекомендаций товаров на сайт интернет магазина, чтобы повысить конверсию и средний чек заказа.\n",
    "- Добавить два новых канала привлечения трафика, что позволит привлекать на 30% больше пользователей.\n",
    "- Показать на главной странице баннеры с актуальными акциями и распродажами, чтобы увеличить конверсию."
   ]
  },
  {
   "cell_type": "markdown",
   "metadata": {},
   "source": [
    "### Вывод"
   ]
  },
  {
   "cell_type": "markdown",
   "metadata": {},
   "source": [
    "При изменении метода приоритизации, лидеры поменялись. Например, гипотеза о том, что нужно запустить акцию, дающую скидку на товар в день рождения, вообще исчезла из нашего списка. \n",
    "Это произошло, так как в методе RICE мы обращаемся к дополнительному параметру reach - он показывает охват аудитории, которую затронет нововведение. Так как данная гипотеза с парметром reach равным 1, она затронет минимальное колличество пользователей, поэтому опустилась вниз рейтинга. \n",
    "\n",
    "Определил, что приоритетными гипотезами являются:\n",
    "- Добавить форму подписки на все основные страницы, чтобы собрать базу клиентов для email-рассылок.\n",
    "- Добавить два новых канала привлечения трафика, что позволит привлекать на 30% больше пользователей."
   ]
  },
  {
   "cell_type": "markdown",
   "metadata": {},
   "source": [
    "# Анализ A/B-теста"
   ]
  },
  {
   "cell_type": "markdown",
   "metadata": {},
   "source": [
    "## Чтение файлов и просмотр общей информации"
   ]
  },
  {
   "cell_type": "markdown",
   "metadata": {},
   "source": [
    "### Чтение файлов"
   ]
  },
  {
   "cell_type": "code",
   "execution_count": 7,
   "metadata": {},
   "outputs": [],
   "source": [
    "try:\n",
    "    orders = pd.read_csv('/datasets/orders.csv')\n",
    "    visitors = pd.read_csv('/datasets/visitors.csv')\n",
    "except:\n",
    "    orders = pd.read_csv('https://code.s3.yandex.net/datasets/orders.csv')\n",
    "    visitors = pd.read_csv('https://code.s3.yandex.net/datasets/visitors.csv')"
   ]
  },
  {
   "cell_type": "markdown",
   "metadata": {},
   "source": [
    "### Знакомство с данными"
   ]
  },
  {
   "cell_type": "code",
   "execution_count": 8,
   "metadata": {},
   "outputs": [
    {
     "name": "stdout",
     "output_type": "stream",
     "text": [
      "<class 'pandas.core.frame.DataFrame'>\n",
      "RangeIndex: 1197 entries, 0 to 1196\n",
      "Data columns (total 5 columns):\n",
      " #   Column         Non-Null Count  Dtype \n",
      "---  ------         --------------  ----- \n",
      " 0   transactionId  1197 non-null   int64 \n",
      " 1   visitorId      1197 non-null   int64 \n",
      " 2   date           1197 non-null   object\n",
      " 3   revenue        1197 non-null   int64 \n",
      " 4   group          1197 non-null   object\n",
      "dtypes: int64(3), object(2)\n",
      "memory usage: 46.9+ KB\n"
     ]
    }
   ],
   "source": [
    "orders.info()"
   ]
  },
  {
   "cell_type": "code",
   "execution_count": 9,
   "metadata": {
    "scrolled": true
   },
   "outputs": [
    {
     "name": "stdout",
     "output_type": "stream",
     "text": [
      "<class 'pandas.core.frame.DataFrame'>\n",
      "RangeIndex: 62 entries, 0 to 61\n",
      "Data columns (total 3 columns):\n",
      " #   Column    Non-Null Count  Dtype \n",
      "---  ------    --------------  ----- \n",
      " 0   date      62 non-null     object\n",
      " 1   group     62 non-null     object\n",
      " 2   visitors  62 non-null     int64 \n",
      "dtypes: int64(1), object(2)\n",
      "memory usage: 1.6+ KB\n"
     ]
    }
   ],
   "source": [
    "visitors.info()"
   ]
  },
  {
   "cell_type": "markdown",
   "metadata": {},
   "source": [
    "- Пропусков нет.\n",
    "- Столбцы дат в формате int64, необходимо изменить на нужный формат."
   ]
  },
  {
   "cell_type": "markdown",
   "metadata": {},
   "source": [
    "## Предобработка данных"
   ]
  },
  {
   "cell_type": "markdown",
   "metadata": {},
   "source": [
    "### Приведу столбцы дат к нужному типу"
   ]
  },
  {
   "cell_type": "code",
   "execution_count": 10,
   "metadata": {},
   "outputs": [],
   "source": [
    "orders['date'] = orders['date'].map(lambda x: dt.datetime.strptime(x, '%Y-%m-%d'))\n",
    "visitors['date'] = visitors['date'].map(lambda x: dt.datetime.strptime(x, '%Y-%m-%d'))"
   ]
  },
  {
   "cell_type": "markdown",
   "metadata": {},
   "source": [
    "### Проверю данные на наличие дубликатов"
   ]
  },
  {
   "cell_type": "code",
   "execution_count": 11,
   "metadata": {
    "scrolled": false
   },
   "outputs": [
    {
     "name": "stdout",
     "output_type": "stream",
     "text": [
      "Кол-во дубликатов в таблице orders равно 0\n",
      "Кол-во дубликатов в таблице visitors равно 0\n"
     ]
    }
   ],
   "source": [
    "print('Кол-во дубликатов в таблице orders равно', orders.duplicated().sum())\n",
    "print('Кол-во дубликатов в таблице visitors равно', visitors.duplicated().sum())"
   ]
  },
  {
   "cell_type": "markdown",
   "metadata": {},
   "source": [
    "### Посмотрю на количество групп тестирования и распределение покупателей"
   ]
  },
  {
   "cell_type": "code",
   "execution_count": 12,
   "metadata": {
    "scrolled": true
   },
   "outputs": [
    {
     "data": {
      "text/plain": [
       "B    640\n",
       "A    557\n",
       "Name: group, dtype: int64"
      ]
     },
     "execution_count": 12,
     "metadata": {},
     "output_type": "execute_result"
    }
   ],
   "source": [
    "orders['group'].value_counts()"
   ]
  },
  {
   "cell_type": "markdown",
   "metadata": {},
   "source": [
    "### Определю даты начала и окончания тестирования"
   ]
  },
  {
   "cell_type": "code",
   "execution_count": 13,
   "metadata": {
    "scrolled": true
   },
   "outputs": [
    {
     "name": "stdout",
     "output_type": "stream",
     "text": [
      "Начальная дата проведения теста 2019-08-01 00:00:00\n",
      "Конечная дата проведения теста 2019-08-31 00:00:00\n"
     ]
    }
   ],
   "source": [
    "print('Начальная дата проведения теста', orders['date'].min())\n",
    "print('Конечная дата проведения теста', orders['date'].max())"
   ]
  },
  {
   "cell_type": "markdown",
   "metadata": {},
   "source": [
    "Провел предобработку данных:\n",
    "- Привел столбцы с датами к нужному типу\n",
    "- Выполнил проверку на дубликаты - явных дубликатов нет\n",
    "- Определил количество групп тестирования. В данных две группы - А и В. В группе В покупателей больше - 640 против 557.\n",
    "- Определил минимальную и максимальную даты проведения теста. Тест продится с 1 августа 2019 по 31 августа 2019."
   ]
  },
  {
   "cell_type": "markdown",
   "metadata": {},
   "source": [
    "## Исследовательский анализ данных"
   ]
  },
  {
   "cell_type": "markdown",
   "metadata": {},
   "source": [
    "### Построю график кумулятивной выручки по группам"
   ]
  },
  {
   "cell_type": "markdown",
   "metadata": {},
   "source": [
    "#### Расчет кумулятивной выручки"
   ]
  },
  {
   "cell_type": "code",
   "execution_count": 14,
   "metadata": {},
   "outputs": [],
   "source": [
    "datesGroups = orders[['date','group']].drop_duplicates()\n",
    "ordersAggregated = datesGroups.apply(lambda x: orders[np.logical_and(orders['date'] <= x['date'], orders['group'] == x['group'])].agg({'date' : 'max', 'group' : 'max', 'transactionId' : 'nunique', 'visitorId' : 'nunique', 'revenue' : 'sum'}), axis=1).sort_values(by=['date','group'])\n",
    "visitorsAggregated = datesGroups.apply(lambda x: visitors[np.logical_and(visitors['date'] <= x['date'], visitors['group'] == x['group'])].agg({'date' : 'max', 'group' : 'max', 'visitors' : 'sum'}), axis=1).sort_values(by=['date','group'])\n",
    "cumulativeData = ordersAggregated.merge(visitorsAggregated, left_on=['date', 'group'], right_on=['date', 'group'])\n",
    "cumulativeData.columns = ['date', 'group', 'orders', 'buyers', 'revenue', 'visitors']\n",
    "cumulativeRevenueA = cumulativeData[cumulativeData['group']=='A'][['date','revenue', 'orders']]\n",
    "cumulativeRevenueB = cumulativeData[cumulativeData['group']=='B'][['date','revenue', 'orders']]"
   ]
  },
  {
   "cell_type": "markdown",
   "metadata": {},
   "source": [
    "#### Построение графика"
   ]
  },
  {
   "cell_type": "code",
   "execution_count": 32,
   "metadata": {},
   "outputs": [
    {
     "data": {
      "image/png": "[encoded data removed]",
      "text/plain": [
       "<Figure size 2000x600 with 1 Axes>"
      ]
     },
     "metadata": {},
     "output_type": "display_data"
    }
   ],
   "source": [
    "plt.subplots(figsize = (20,6))\n",
    "plt.plot(cumulativeRevenueA['date'], cumulativeRevenueA['revenue'], label='A')\n",
    "plt.plot(cumulativeRevenueB['date'], cumulativeRevenueB['revenue'], label='B')\n",
    "plt.title('Кумулятивная выручка по группам')\n",
    "plt.legend(['Группа А', 'Группа В'])\n",
    "plt.xlabel('Дни проведения исследования')\n",
    "plt.ylabel('Выручка')\n",
    "plt.show()"
   ]
  },
  {
   "cell_type": "markdown",
   "metadata": {},
   "source": [
    "Группа В лидирует по выручке.\n",
    "\n",
    "Обе группы показывают одинаковый рост выручки, однако на 20 день у группы В был резкий рост - возможно, что это либо всплеск числа заказов, либо был сделан очень дорогой заказ."
   ]
  },
  {
   "cell_type": "markdown",
   "metadata": {},
   "source": [
    "### Построю график кумулятивного среднего чека по группам"
   ]
  },
  {
   "cell_type": "code",
   "execution_count": 33,
   "metadata": {},
   "outputs": [
    {
     "data": {
      "image/png": "[encoded data removed]",
      "text/plain": [
       "<Figure size 2000x600 with 1 Axes>"
      ]
     },
     "metadata": {},
     "output_type": "display_data"
    }
   ],
   "source": [
    "plt.subplots(figsize = (20,6))\n",
    "plt.plot(cumulativeRevenueA['date'], cumulativeRevenueA['revenue']/cumulativeRevenueA['orders'], label='A')\n",
    "plt.plot(cumulativeRevenueB['date'], cumulativeRevenueB['revenue']/cumulativeRevenueB['orders'], label='B')\n",
    "plt.title('Кумулятивный средний чек')\n",
    "plt.legend(['Группа А', 'Группа В'])\n",
    "plt.xlabel('Дни проведения исследования')\n",
    "plt.ylabel('Средний чек')\n",
    "plt.show()"
   ]
  },
  {
   "cell_type": "markdown",
   "metadata": {},
   "source": [
    "Средний чек лидирует у группы В.\n",
    "\n",
    "Группа А показывает рост среднего чека, у группы В средний чек опускается, после резкого роста."
   ]
  },
  {
   "cell_type": "markdown",
   "metadata": {},
   "source": [
    "### Построю график относительного изменения кумулятивного среднего чека группы B к группе A"
   ]
  },
  {
   "cell_type": "code",
   "execution_count": 17,
   "metadata": {},
   "outputs": [
    {
     "data": {
      "image/png": "[encoded data removed]",
      "text/plain": [
       "<Figure size 2000x600 with 1 Axes>"
      ]
     },
     "metadata": {},
     "output_type": "display_data"
    }
   ],
   "source": [
    "mergedCumulativeRevenue = cumulativeRevenueA.merge(cumulativeRevenueB, left_on='date', right_on='date', how='left', suffixes=['A', 'B'])\n",
    "plt.subplots(figsize = (20,6))\n",
    "plt.plot(mergedCumulativeRevenue['date'], (mergedCumulativeRevenue['revenueB']/mergedCumulativeRevenue['ordersB'])/(mergedCumulativeRevenue['revenueA']/mergedCumulativeRevenue['ordersA'])-1)\n",
    "plt.axhline(y=0, color='black', linestyle='--')\n",
    "plt.title('Изменения кумулятивного среднего чека группы B к группе A')\n",
    "plt.xlabel('Дни проведения исследования')\n",
    "plt.ylabel('Средний чек')\n",
    "plt.show()"
   ]
  },
  {
   "cell_type": "markdown",
   "metadata": {},
   "source": [
    "На 20 день график резко вырос к группе В, значит я могу точно сказать, что в данный период группа В получила крупный заказ."
   ]
  },
  {
   "cell_type": "markdown",
   "metadata": {},
   "source": [
    "###  Построю график кумулятивного среднего количества заказов на посетителя по группам"
   ]
  },
  {
   "cell_type": "markdown",
   "metadata": {},
   "source": [
    "#### Расчет кумулятивной конверсии и отделение данных по группам"
   ]
  },
  {
   "cell_type": "code",
   "execution_count": 18,
   "metadata": {},
   "outputs": [],
   "source": [
    "cumulativeData['conversion'] = cumulativeData['orders']/cumulativeData['visitors']\n",
    "cumulativeDataA = cumulativeData[cumulativeData['group']=='A']\n",
    "cumulativeDataB = cumulativeData[cumulativeData['group']=='B']"
   ]
  },
  {
   "cell_type": "markdown",
   "metadata": {},
   "source": [
    "#### Построение графика"
   ]
  },
  {
   "cell_type": "code",
   "execution_count": 34,
   "metadata": {
    "scrolled": true
   },
   "outputs": [
    {
     "data": {
      "image/png": "[encoded data removed]",
      "text/plain": [
       "<Figure size 2000x600 with 1 Axes>"
      ]
     },
     "metadata": {},
     "output_type": "display_data"
    }
   ],
   "source": [
    "plt.subplots(figsize = (20,6))\n",
    "plt.plot(cumulativeDataA['date'], cumulativeDataA['conversion'], label='A')\n",
    "plt.plot(cumulativeDataB['date'], cumulativeDataB['conversion'], label='B')\n",
    "plt.legend(['Группа А', 'Группа В'])\n",
    "plt.title('Кумулятивное среднее количество заказов на посетителя по группам')\n",
    "plt.xlabel('Дни проведения исследования')\n",
    "plt.ylabel('Количество заказов на посетителя')\n",
    "plt.show()"
   ]
  },
  {
   "cell_type": "markdown",
   "metadata": {},
   "source": [
    "У обеих групп в начале исследования наблюдаются резкие скачки количества заказов. После группа А показывает равномерное падение среднего колличества заказов, а группа В после резкого падения, опередила группу А и продолжает лидировать."
   ]
  },
  {
   "cell_type": "markdown",
   "metadata": {},
   "source": [
    "### Построю график относительного изменения кумулятивного среднего количества заказов на посетителя группы B к группе A"
   ]
  },
  {
   "cell_type": "code",
   "execution_count": 20,
   "metadata": {},
   "outputs": [
    {
     "data": {
      "image/png": "[encoded data removed]",
      "text/plain": [
       "<Figure size 2000x600 with 1 Axes>"
      ]
     },
     "metadata": {},
     "output_type": "display_data"
    }
   ],
   "source": [
    "mergedCumulativeConversions = cumulativeDataA[['date','conversion']].merge(cumulativeDataB[['date','conversion']], left_on='date', right_on='date', how='left', suffixes=['A', 'B'])\n",
    "plt.subplots(figsize = (20,6))\n",
    "plt.plot(mergedCumulativeConversions['date'], mergedCumulativeConversions['conversionB']/mergedCumulativeConversions['conversionA']-1, label=\"Относительный прирост конверсии группы B относительно группы A\")\n",
    "plt.legend()\n",
    "plt.title('Относительное изменение кумулятивного среднего количества заказов на посетителя группы В к группе А')\n",
    "plt.xlabel('Дни проведения исследования')\n",
    "plt.ylabel('Количество заказов на посетителя')\n",
    "plt.axhline(y=0, color='black', linestyle='--')\n",
    "plt.axhline(y=-0.1, color='grey', linestyle='--')\n",
    "plt.show()"
   ]
  },
  {
   "cell_type": "markdown",
   "metadata": {},
   "source": [
    "Конверсия группы В вначале вырвалась вперед, затем упала, затем снова вырвалась вперед и стабильно держится выше показателя группы А.\n",
    "\n",
    "Нужно рассмотреть есть ли в данных аномалии."
   ]
  },
  {
   "cell_type": "markdown",
   "metadata": {},
   "source": [
    "### Построю точечный график количества заказов по пользователям"
   ]
  },
  {
   "cell_type": "code",
   "execution_count": 21,
   "metadata": {},
   "outputs": [
    {
     "data": {
      "image/png": "[encoded data removed]",
      "text/plain": [
       "<Figure size 2000x600 with 1 Axes>"
      ]
     },
     "metadata": {},
     "output_type": "display_data"
    }
   ],
   "source": [
    "ordersByUsers = (orders.groupby('visitorId', as_index=False).agg({'transactionId': 'nunique'}))\n",
    "ordersByUsers.columns = ['userId', 'orders']\n",
    "x_values = pd.Series(range(0,len(ordersByUsers)))\n",
    "plt.subplots(figsize = (20,6))\n",
    "plt.scatter(x_values, ordersByUsers['orders'])\n",
    "plt.ylabel('Количество заказов')\n",
    "plt.xlabel('Пользователи')\n",
    "plt.title('Кол-во заказов на пользователя')\n",
    "plt.show()"
   ]
  },
  {
   "cell_type": "markdown",
   "metadata": {},
   "source": [
    "Большинство пользователей оформили 1 заказ, меньшее число пользователей оформили до 5 заказов.\n",
    "\n",
    "Болле 5 заказов встречаются крайне редко."
   ]
  },
  {
   "cell_type": "markdown",
   "metadata": {},
   "source": [
    "### Посчитаю 95-й и 99-й перцентили количества заказов на пользователя"
   ]
  },
  {
   "cell_type": "code",
   "execution_count": 22,
   "metadata": {},
   "outputs": [
    {
     "name": "stdout",
     "output_type": "stream",
     "text": [
      "[2. 4.]\n"
     ]
    }
   ],
   "source": [
    "print(np.percentile(ordersByUsers['orders'], [95, 99])) "
   ]
  },
  {
   "cell_type": "markdown",
   "metadata": {},
   "source": [
    "Не более 5% пользователей оформляли больше чем 2 заказа.\n",
    "\n",
    "1% пользователей оформили более 4 заказов.\n",
    "\n",
    "Выбираю 2 заказа, как границу для определения анамольных пользователей."
   ]
  },
  {
   "cell_type": "markdown",
   "metadata": {},
   "source": [
    "### Построю точечный график стоимостей заказов"
   ]
  },
  {
   "cell_type": "code",
   "execution_count": 23,
   "metadata": {
    "scrolled": true
   },
   "outputs": [
    {
     "data": {
      "image/png": "[encoded data removed]",
      "text/plain": [
       "<Figure size 2000x600 with 1 Axes>"
      ]
     },
     "metadata": {},
     "output_type": "display_data"
    }
   ],
   "source": [
    "x_values = pd.Series(range(0,len(orders['revenue'])))\n",
    "plt.subplots(figsize = (20,6))\n",
    "plt.scatter(x_values, orders['revenue'])\n",
    "plt.ylabel('Стоимость заказа')\n",
    "plt.xlabel('Пользователи')\n",
    "plt.title('Точечный график стоимостей заказов')\n",
    "plt.show()"
   ]
  },
  {
   "cell_type": "markdown",
   "metadata": {},
   "source": [
    "В данных есть аномальные значения, сильно отличающиеся от остальных. Попробую задать лимит в 100 тысяч для стоимости заказа, чтобы ближе посмотреть на распределение данных большниства заказов."
   ]
  },
  {
   "cell_type": "code",
   "execution_count": 24,
   "metadata": {
    "scrolled": false
   },
   "outputs": [
    {
     "data": {
      "image/png": "[encoded data removed]",
      "text/plain": [
       "<Figure size 2000x600 with 1 Axes>"
      ]
     },
     "metadata": {},
     "output_type": "display_data"
    }
   ],
   "source": [
    "x_values = pd.Series(range(0,len(orders['revenue'])))\n",
    "plt.subplots(figsize = (20,6))\n",
    "plt.scatter(x_values, orders['revenue'])\n",
    "plt.ylim(0, 100000)\n",
    "plt.ylabel('Стоимость заказа')\n",
    "plt.xlabel('Пользователи')\n",
    "plt.title('Точечный график стоимостей заказов с ограничением до 100 тысяч')\n",
    "plt.show()"
   ]
  },
  {
   "cell_type": "markdown",
   "metadata": {},
   "source": [
    "Большинство пользовотелей сделали заказы на сумму до 20 тысяч."
   ]
  },
  {
   "cell_type": "markdown",
   "metadata": {},
   "source": [
    "### Посчитаю 95-й и 99-й перцентили стоимости заказов. Выберу границу для определения аномальных заказов"
   ]
  },
  {
   "cell_type": "code",
   "execution_count": 25,
   "metadata": {},
   "outputs": [
    {
     "name": "stdout",
     "output_type": "stream",
     "text": [
      "[28000.  58233.2]\n"
     ]
    }
   ],
   "source": [
    "print(np.percentile(orders['revenue'], [95, 99])) "
   ]
  },
  {
   "cell_type": "markdown",
   "metadata": {},
   "source": [
    "5% пользователей оформили заказы на сумму больше 28 тысяч, лишь 1% пользователлей оформили заказы на сумму больше 58 тысяч.\n",
    "\n",
    "Выбираю 28 тысяч, как границу для определения аномальных пользователе."
   ]
  },
  {
   "cell_type": "markdown",
   "metadata": {},
   "source": [
    "## Проверка гипотез"
   ]
  },
  {
   "cell_type": "markdown",
   "metadata": {},
   "source": [
    "### Посчитаю статистическую значимость различий в среднем количестве заказов на посетителя между группами по «сырым» данным"
   ]
  },
  {
   "cell_type": "markdown",
   "metadata": {},
   "source": [
    "Н0: различий в среднем количестве заказов между группами нет\n",
    "\n",
    "H1: различия в среднем количестве заказов между группами есть"
   ]
  },
  {
   "cell_type": "code",
   "execution_count": 38,
   "metadata": {},
   "outputs": [
    {
     "name": "stdout",
     "output_type": "stream",
     "text": [
      "p-value: 0.017\n",
      "Разница групп: 0.138\n"
     ]
    }
   ],
   "source": [
    "visitorsADaily = visitors[visitors['group'] == 'A'][['date', 'visitors']]\n",
    "visitorsADaily.columns = ['date', 'visitorsPerDateA']\n",
    "visitorsACummulative = visitorsADaily.apply(\n",
    "    lambda x: visitorsADaily[visitorsADaily['date'] <= x['date']].agg(\n",
    "        {'date': 'max', 'visitorsPerDateA': 'sum'}), axis=1,)\n",
    "visitorsACummulative.columns = ['date', 'visitorsCummulativeA']\n",
    "visitorsBDaily = visitors[visitors['group'] == 'B'][['date', 'visitors']]\n",
    "visitorsBDaily.columns = ['date', 'visitorsPerDateB']\n",
    "visitorsBCummulative = visitorsBDaily.apply(\n",
    "    lambda x: visitorsBDaily[visitorsBDaily['date'] <= x['date']].agg(\n",
    "        {'date': 'max', 'visitorsPerDateB': 'sum'}), axis=1,)\n",
    "visitorsBCummulative.columns = ['date', 'visitorsCummulativeB']\n",
    "ordersADaily = (\n",
    "    orders[orders['group'] == 'A'][['date', 'transactionId', 'visitorId', 'revenue']]\n",
    "    .groupby('date', as_index=False)\n",
    "    .agg({'transactionId': pd.Series.nunique, 'revenue': 'sum'}))\n",
    "ordersADaily.columns = ['date', 'ordersPerDateA', 'revenuePerDateA']\n",
    "ordersACummulative = ordersADaily.apply(\n",
    "    lambda x: ordersADaily[ordersADaily['date'] <= x['date']].agg(\n",
    "        {'date': 'max', 'ordersPerDateA': 'sum', 'revenuePerDateA': 'sum'}), axis=1,).sort_values(by=['date'])\n",
    "ordersACummulative.columns = [\n",
    "    'date',\n",
    "    'ordersCummulativeA',\n",
    "    'revenueCummulativeA',]\n",
    "ordersBDaily = (\n",
    "    orders[orders['group'] == 'B'][['date', 'transactionId', 'visitorId', 'revenue']]\n",
    "    .groupby('date', as_index=False)\n",
    "    .agg({'transactionId': pd.Series.nunique, 'revenue': 'sum'}))\n",
    "ordersBDaily.columns = ['date', 'ordersPerDateB', 'revenuePerDateB']\n",
    "ordersBCummulative = ordersBDaily.apply(\n",
    "    lambda x: ordersBDaily[ordersBDaily['date'] <= x['date']].agg(\n",
    "        {'date': 'max', 'ordersPerDateB': 'sum', 'revenuePerDateB': 'sum'}), axis=1,).sort_values(by=['date'])\n",
    "ordersBCummulative.columns = [\n",
    "    'date',\n",
    "    'ordersCummulativeB',\n",
    "    'revenueCummulativeB',]\n",
    "data = (\n",
    "    ordersADaily.merge(\n",
    "        ordersBDaily, left_on='date', right_on='date', how='left'\n",
    "    )\n",
    "    .merge(ordersACummulative, left_on='date', right_on='date', how='left')\n",
    "    .merge(ordersBCummulative, left_on='date', right_on='date', how='left')\n",
    "    .merge(visitorsADaily, left_on='date', right_on='date', how='left')\n",
    "    .merge(visitorsBDaily, left_on='date', right_on='date', how='left')\n",
    "    .merge(visitorsACummulative, left_on='date', right_on='date', how='left')\n",
    "    .merge(visitorsBCummulative, left_on='date', right_on='date', how='left')\n",
    ")\n",
    "ordersByUsersA = (\n",
    "    orders[orders['group'] == 'A']\n",
    "    .groupby('visitorId', as_index=False)\n",
    "    .agg({'transactionId': pd.Series.nunique}))\n",
    "ordersByUsersA.columns = ['userId', 'orders']\n",
    "ordersByUsersB = (\n",
    "    orders[orders['group'] == 'B']\n",
    "    .groupby('visitorId', as_index=False)\n",
    "    .agg({'transactionId': pd.Series.nunique}))\n",
    "ordersByUsersB.columns = ['userId', 'orders']\n",
    "sampleA = pd.concat(\n",
    "    [\n",
    "        ordersByUsersA['orders'],\n",
    "        pd.Series(\n",
    "            0,\n",
    "            index=np.arange(\n",
    "                data['visitorsPerDateA'].sum() - len(ordersByUsersA['orders'])),name='orders',),],axis=0,)\n",
    "sampleB = pd.concat(\n",
    "    [\n",
    "        ordersByUsersB['orders'],\n",
    "        pd.Series(\n",
    "            0,\n",
    "            index=np.arange(\n",
    "                data['visitorsPerDateB'].sum() - len(ordersByUsersB['orders'])),\n",
    "            name='orders',),],axis=0,)\n",
    "print('p-value:',\"{0:.3f}\".format(stats.mannwhitneyu(sampleA, sampleB)[1]))\n",
    "print('Разница групп:',\"{0:.3f}\".format(sampleB.mean() / sampleA.mean() - 1))"
   ]
  },
  {
   "cell_type": "markdown",
   "metadata": {},
   "source": [
    "p-value меньше 0.05, значит нулевую гипотезу можно отвергнуть, различия в среднем количестве заказов между группами могут быть.\n",
    "\n",
    "Отрыв группы В почти 14%."
   ]
  },
  {
   "cell_type": "markdown",
   "metadata": {},
   "source": [
    "### Посчитаю статистическую значимость различий в среднем чеке заказа между группами по «сырым» данным"
   ]
  },
  {
   "cell_type": "markdown",
   "metadata": {},
   "source": [
    "H0: различий в среднем чеке между группами нет\n",
    "\n",
    "H1: различия в среднем чеке между группами есть"
   ]
  },
  {
   "cell_type": "code",
   "execution_count": 39,
   "metadata": {},
   "outputs": [
    {
     "name": "stdout",
     "output_type": "stream",
     "text": [
      "p-value: 0.729\n",
      "Разница групп: 0.259\n"
     ]
    }
   ],
   "source": [
    "print('p-value:','{0:.3f}'.format(stats.mannwhitneyu(orders[orders['group']=='A']['revenue'], orders[orders['group']=='B']['revenue'])[1]))\n",
    "print('Разница групп:','{0:.3f}'.format(orders[orders['group']=='B']['revenue'].mean()/orders[orders['group']=='A']['revenue'].mean()-1)) "
   ]
  },
  {
   "cell_type": "markdown",
   "metadata": {},
   "source": [
    "p-value значительно больше 0.05, значит причин отвергать нулевую гипотезу нет.\n",
    "\n",
    "Средний чек группы В значительно больше, чем у группы А - около 26%.\n",
    "\n",
    "Поскольку относительное различие среднего чека между сегментами составляет 26%, наблюдаемые различия не являются значимыми при таком уровне статистической значимости, следовательно были получены случайно."
   ]
  },
  {
   "cell_type": "markdown",
   "metadata": {},
   "source": [
    "### Посчитаю статистическую значимость различий в среднем количестве заказов на посетителя между группами по «очищенным» данным"
   ]
  },
  {
   "cell_type": "markdown",
   "metadata": {},
   "source": [
    "#### Очищаю данные от аномальных значений"
   ]
  },
  {
   "cell_type": "code",
   "execution_count": 28,
   "metadata": {
    "scrolled": true
   },
   "outputs": [
    {
     "name": "stdout",
     "output_type": "stream",
     "text": [
      "1099    148427295\n",
      "18      199603092\n",
      "928     204675465\n",
      "23      237748145\n",
      "37      249864742\n",
      "dtype: int64\n",
      "74\n"
     ]
    }
   ],
   "source": [
    "usersWithManyOrders = pd.concat(\n",
    "    [ordersByUsersA[ordersByUsersA['orders'] > 2]['userId'],\n",
    "     ordersByUsersB[ordersByUsersB['orders'] > 2]['userId'],],axis=0,)\n",
    "usersWithExpensiveOrders = orders[orders['revenue'] > 28000]['visitorId']\n",
    "abnormalUsers = (\n",
    "    pd.concat([usersWithManyOrders, usersWithExpensiveOrders], axis=0)\n",
    "    .drop_duplicates()\n",
    "    .sort_values())\n",
    "print(abnormalUsers.head(5))\n",
    "print(abnormalUsers.shape[0])"
   ]
  },
  {
   "cell_type": "markdown",
   "metadata": {},
   "source": [
    "Исключаю пользователей с числом заказов от 3.\n",
    "\n",
    "Исключаю пользователей оформивших заказ дороже 28 тысяч.\n",
    "\n",
    "Всего 74 аномальных пользователя."
   ]
  },
  {
   "cell_type": "markdown",
   "metadata": {},
   "source": [
    "#### Считаю статистическую значимость"
   ]
  },
  {
   "cell_type": "code",
   "execution_count": 41,
   "metadata": {},
   "outputs": [
    {
     "name": "stdout",
     "output_type": "stream",
     "text": [
      "p-value: 0.013\n",
      "Разница групп: 0.173\n"
     ]
    }
   ],
   "source": [
    "sampleAFiltered = pd.concat(\n",
    "    [\n",
    "        ordersByUsersA[\n",
    "            np.logical_not(ordersByUsersA['userId'].isin(abnormalUsers))\n",
    "        ]['orders'],\n",
    "        pd.Series(\n",
    "            0,\n",
    "            index=np.arange(\n",
    "                data['visitorsPerDateA'].sum() - len(ordersByUsersA['orders'])),name='orders',),],axis=0,)\n",
    "sampleBFiltered = pd.concat(\n",
    "    [\n",
    "        ordersByUsersB[\n",
    "            np.logical_not(ordersByUsersB['userId'].isin(abnormalUsers))\n",
    "        ]['orders'],\n",
    "        pd.Series(\n",
    "            0,\n",
    "            index=np.arange(\n",
    "                data['visitorsPerDateB'].sum() - len(ordersByUsersB['orders'])),name='orders',),],axis=0,) \n",
    "print('p-value:','{0:.3f}'.format(stats.mannwhitneyu(sampleAFiltered, sampleBFiltered)[1]))\n",
    "print('Разница групп:','{0:.3f}'.format(sampleBFiltered.mean()/sampleAFiltered.mean()-1)) "
   ]
  },
  {
   "cell_type": "markdown",
   "metadata": {},
   "source": [
    "Убрав аномальных пользователей - результат почти изменился.\n",
    "\n",
    "P-value уменьшился на 0.004. Он по прежнему меньше 0.05, значит, что нулевую гипотезу о том, что различий в среднем количестве заказов между группами нет, можно отвергнуть. \n",
    "\n",
    "Отрыв группы В увеличился с 14% до 17%."
   ]
  },
  {
   "cell_type": "markdown",
   "metadata": {},
   "source": [
    "### Посчитаю статистическую значимость различий в среднем чеке заказа между группами по «очищенным» данным"
   ]
  },
  {
   "cell_type": "code",
   "execution_count": 44,
   "metadata": {
    "scrolled": true
   },
   "outputs": [
    {
     "name": "stdout",
     "output_type": "stream",
     "text": [
      "p-value: 0.738\n",
      "Разница групп: -0.020\n"
     ]
    }
   ],
   "source": [
    "print('p-value:',\n",
    "    '{0:.3f}'.format(\n",
    "        stats.mannwhitneyu(\n",
    "            orders[\n",
    "                np.logical_and(\n",
    "                    orders['group'] == 'A',\n",
    "                    np.logical_not(orders['visitorId'].isin(abnormalUsers)),)\n",
    "            ]['revenue'],\n",
    "            orders[\n",
    "                np.logical_and(\n",
    "                    orders['group'] == 'B',\n",
    "                    np.logical_not(orders['visitorId'].isin(abnormalUsers)),)]['revenue'],)[1]))\n",
    "print('Разница групп:',\n",
    "    \"{0:.3f}\".format(\n",
    "        orders[\n",
    "            np.logical_and(\n",
    "                orders['group'] == 'B',\n",
    "                np.logical_not(orders['visitorId'].isin(abnormalUsers)),)]['revenue'].mean()\n",
    "        / orders[\n",
    "            np.logical_and(\n",
    "                orders['group'] == 'A',\n",
    "                np.logical_not(orders['visitorId'].isin(abnormalUsers)),)]['revenue'].mean()- 1)) "
   ]
  },
  {
   "cell_type": "markdown",
   "metadata": {},
   "source": [
    "p-value практически не изменился. Увеличение на 0.009, что по прежнему больше 0.05 - значит, что причин отвергать гипотезу о том, что различий в среднем чеке между группами нет, оснований нет.\n",
    "\n",
    "Разница между сегментами сильно уменьшилась с 26% до 2%, после того, как мы убрали всех аномальных пользователей. Это говорит, о равном разделении трафика на А и В группы. "
   ]
  },
  {
   "cell_type": "markdown",
   "metadata": {},
   "source": [
    "## Вывод"
   ]
  },
  {
   "cell_type": "markdown",
   "metadata": {},
   "source": [
    "Приоритизация гипотез:\n",
    "- Ознакомился с данными, всего 9 гипотез.\n",
    "- Привел названия столбцов к нижнему регистру.\n",
    "- Применил метод ICE для приоритизации гипотез, лидерами оказались номера 8, 0 и 7.\n",
    "- Применил метод RICE для приоритизации гипотез, лидерами оказались номера 7, 2, 0 и 6.\n",
    "- Определил, что приоритетными гипотезами являются номера 7 и 0.\n",
    "\n",
    "Провел анализ А/В теста:\n",
    "- Ознакомился с данными.\n",
    "- Привел столбцы дат к нужному типу.\n",
    "- Произвел расчет кумулятивной выручки и построил график. Определил, что группа В является лидером. В обеих группах выручка показывает одинаковый рост, однако в группе В в один из дней выручка показала резкий рост.\n",
    "- Построил график кумулятивного среднего чека по группам. В группе В средний чек выше, но у данной группы был сильный всплеск, что может быть выбросом. На данный момент средний чек группы А растет, а группы В падает - они стремятся друг к другу.\n",
    "- Построил график относитнельного изменения кумулятивного среднего чека группы В к группе А. Были всплески по отношению к группе А - то ниже, то выше. В данный момоент средний чек в группе В выше после резкого роста - сейчас средний чек группы В стремится к среднему чеку группы А.\n",
    "- Построил график относительного изменения кумулятивного среднего количества заказов на посетителя по группам. Выяснил, что консверсия в группе В немного выше, чем у группы А.\n",
    "- Построил график относительного изменения кумулятивного среднего количества заказов на посетителя группы В к группе А. Группа В является лидером по колличеству заказов на посетителя - показатель достаточно стабилен.\n",
    "- Построил точечный график количества заказов по пользователям. Выяснил, что основное колличество пользователей делают 1 заказ, более 5 заказов втречаются крайне редко.\n",
    "- Посчитал 95-й и 99-й перцентили количества заказов на пользователя. Выяснил, что не более 5% пользователей оформляли более 2 заказов и не более 1% более 4 заказов. Определил, что 2 заказа - граница для определения аномальных пользователей.\n",
    "- Построил точечный график стоимостей заказов. Большинство пользователей оформляют заказы стоимостью до 20 тысяч.\n",
    "- Посчитал 95-й и 99-й перцентили стоимости закозов. Выяснил, что не более 5% пользователей оформляют заказы стоимостью более 28 тысяч и не более 1% пользователей на сумму более 58 тысяч. Определил верхнюю границу для аномальных пользователей в 28 тысяч.\n",
    "- Посчитал статистическую значимость различий в среднем количестве заказов на посетителя между группами по \"сырым\" данным. P-value оказался меньше 0.05, значит различия в среднем количестве заказов между группами могут быть. Отрыв группы В почти 14%.\n",
    "- Посчитал статистическую значимость различий в среднем чеке заказа между группами по \"сырым\" данным. P-value значительно больше, чем 0.05, значит нет причин отвергать гипотезу, что различий в среднем чеке между группами нет. Однако отрыв группы В около 26%.\n",
    "- Посчитал статистическую значимость различий в среднем количестве заказов на посетителя между группами по \"очищеным\" данным. Исходя из критериев аномальных пользователей, исключил 74 пользователя. Убрав аномальных пользователей, результат не изменился.\n",
    "- Посчитал статистическую значимость различий в среднем чеке заказа между группами по \"очищеным\" данным. P-value практически не изменился, разница между сегментами сильно уменьшилась с 26% до 2%.\n",
    "\n",
    "Вывод:\n",
    "- Наблюдается статистически значимое различие по среднему количеству заказов между группами по «сырым», и по данным после фильтрации аномалий. Отрыв группы В около 14%.\n",
    "- После удаления аномальных пользователей, различие по среднему чеку между группами около 2%.\n",
    "- По графику относительного изменения среднего количества заказов на посетителя по группам видно, что конверсия в группе В немного выше, чем у группы А.\n",
    "- По графику различия среднего чека можно сказать, что группы стремятся друг к другу и явного лидера нет.\n",
    "- Могу сделать вывод, что на группу В приходится на 14% больше заказов, средний чек выше на 2% и конверсия в группе В также немного выше. Тест можно остановить и зафиксировать победу группы В."
   ]
  }
 ],
 "metadata": {
  "ExecuteTimeLog": [
   {
    "duration": 44,
    "start_time": "2023-05-09T22:28:48.907Z"
   },
   {
    "duration": 63,
    "start_time": "2023-05-09T22:28:52.798Z"
   },
   {
    "duration": 5,
    "start_time": "2023-05-09T22:28:53.914Z"
   },
   {
    "duration": 6,
    "start_time": "2023-05-09T22:28:54.958Z"
   },
   {
    "duration": 76,
    "start_time": "2023-05-09T22:29:04.771Z"
   },
   {
    "duration": 0,
    "start_time": "2023-05-09T22:29:04.849Z"
   },
   {
    "duration": 0,
    "start_time": "2023-05-09T22:29:04.850Z"
   },
   {
    "duration": 387,
    "start_time": "2023-05-09T22:30:13.270Z"
   },
   {
    "duration": 83,
    "start_time": "2023-05-09T22:30:13.659Z"
   },
   {
    "duration": 14,
    "start_time": "2023-05-09T22:30:13.743Z"
   },
   {
    "duration": 71,
    "start_time": "2023-05-09T22:37:20.571Z"
   },
   {
    "duration": 335,
    "start_time": "2023-05-09T22:41:07.687Z"
   },
   {
    "duration": 28,
    "start_time": "2023-05-09T22:41:08.024Z"
   },
   {
    "duration": 13,
    "start_time": "2023-05-09T22:41:08.053Z"
   },
   {
    "duration": 3,
    "start_time": "2023-05-09T22:48:57.608Z"
   },
   {
    "duration": 1203,
    "start_time": "2023-05-09T22:50:39.198Z"
   },
   {
    "duration": 429,
    "start_time": "2023-05-09T22:50:47.200Z"
   },
   {
    "duration": 28,
    "start_time": "2023-05-09T22:50:47.631Z"
   },
   {
    "duration": 12,
    "start_time": "2023-05-09T22:50:47.661Z"
   },
   {
    "duration": 3,
    "start_time": "2023-05-09T22:50:47.675Z"
   },
   {
    "duration": 10,
    "start_time": "2023-05-09T22:50:47.679Z"
   },
   {
    "duration": 7,
    "start_time": "2023-05-09T22:51:51.652Z"
   },
   {
    "duration": 10,
    "start_time": "2023-05-09T22:55:30.310Z"
   },
   {
    "duration": 354,
    "start_time": "2023-05-10T08:53:38.129Z"
   },
   {
    "duration": 63,
    "start_time": "2023-05-10T08:53:38.484Z"
   },
   {
    "duration": 14,
    "start_time": "2023-05-10T08:53:38.548Z"
   },
   {
    "duration": 4,
    "start_time": "2023-05-10T08:53:38.563Z"
   },
   {
    "duration": 14,
    "start_time": "2023-05-10T08:53:38.568Z"
   },
   {
    "duration": 8,
    "start_time": "2023-05-10T08:53:38.583Z"
   },
   {
    "duration": 135,
    "start_time": "2023-05-10T08:54:49.729Z"
   },
   {
    "duration": 12,
    "start_time": "2023-05-10T08:55:01.417Z"
   },
   {
    "duration": 13,
    "start_time": "2023-05-10T08:55:42.900Z"
   },
   {
    "duration": 234,
    "start_time": "2023-05-10T08:56:49.173Z"
   },
   {
    "duration": 396,
    "start_time": "2023-05-10T08:57:29.883Z"
   },
   {
    "duration": 24,
    "start_time": "2023-05-10T08:57:30.281Z"
   },
   {
    "duration": 28,
    "start_time": "2023-05-10T08:57:30.307Z"
   },
   {
    "duration": 17,
    "start_time": "2023-05-10T08:57:30.337Z"
   },
   {
    "duration": 40,
    "start_time": "2023-05-10T08:57:30.355Z"
   },
   {
    "duration": 42,
    "start_time": "2023-05-10T08:57:30.396Z"
   },
   {
    "duration": 55,
    "start_time": "2023-05-10T08:57:30.440Z"
   },
   {
    "duration": 9,
    "start_time": "2023-05-10T08:57:30.497Z"
   },
   {
    "duration": 33,
    "start_time": "2023-05-10T08:57:30.507Z"
   },
   {
    "duration": 39,
    "start_time": "2023-05-10T08:57:30.542Z"
   },
   {
    "duration": 9,
    "start_time": "2023-05-10T08:57:51.557Z"
   },
   {
    "duration": 10,
    "start_time": "2023-05-10T08:58:56.684Z"
   },
   {
    "duration": 362,
    "start_time": "2023-05-10T09:00:24.936Z"
   },
   {
    "duration": 25,
    "start_time": "2023-05-10T09:00:25.300Z"
   },
   {
    "duration": 13,
    "start_time": "2023-05-10T09:00:25.327Z"
   },
   {
    "duration": 21,
    "start_time": "2023-05-10T09:00:25.342Z"
   },
   {
    "duration": 19,
    "start_time": "2023-05-10T09:00:25.364Z"
   },
   {
    "duration": 25,
    "start_time": "2023-05-10T09:00:25.384Z"
   },
   {
    "duration": 79,
    "start_time": "2023-05-10T09:00:25.410Z"
   },
   {
    "duration": 13,
    "start_time": "2023-05-10T09:00:25.491Z"
   },
   {
    "duration": 21,
    "start_time": "2023-05-10T09:00:25.506Z"
   },
   {
    "duration": 315,
    "start_time": "2023-05-10T09:00:25.530Z"
   },
   {
    "duration": 382,
    "start_time": "2023-05-10T11:34:33.295Z"
   },
   {
    "duration": 93,
    "start_time": "2023-05-10T11:34:33.679Z"
   },
   {
    "duration": 14,
    "start_time": "2023-05-10T11:34:33.773Z"
   },
   {
    "duration": 8,
    "start_time": "2023-05-10T11:34:33.789Z"
   },
   {
    "duration": 18,
    "start_time": "2023-05-10T11:34:33.798Z"
   },
   {
    "duration": 7,
    "start_time": "2023-05-10T11:34:33.818Z"
   },
   {
    "duration": 156,
    "start_time": "2023-05-10T11:34:33.827Z"
   },
   {
    "duration": 9,
    "start_time": "2023-05-10T11:34:33.985Z"
   },
   {
    "duration": 40,
    "start_time": "2023-05-10T11:34:33.996Z"
   },
   {
    "duration": 670,
    "start_time": "2023-05-10T11:34:34.038Z"
   },
   {
    "duration": 598,
    "start_time": "2023-05-10T11:34:55.623Z"
   },
   {
    "duration": 11,
    "start_time": "2023-05-10T11:35:11.491Z"
   },
   {
    "duration": 375,
    "start_time": "2023-05-10T11:35:59.304Z"
   },
   {
    "duration": 27,
    "start_time": "2023-05-10T11:35:59.681Z"
   },
   {
    "duration": 14,
    "start_time": "2023-05-10T11:35:59.709Z"
   },
   {
    "duration": 3,
    "start_time": "2023-05-10T11:35:59.724Z"
   },
   {
    "duration": 9,
    "start_time": "2023-05-10T11:35:59.728Z"
   },
   {
    "duration": 11,
    "start_time": "2023-05-10T11:35:59.739Z"
   },
   {
    "duration": 53,
    "start_time": "2023-05-10T11:35:59.752Z"
   },
   {
    "duration": 10,
    "start_time": "2023-05-10T11:35:59.806Z"
   },
   {
    "duration": 17,
    "start_time": "2023-05-10T11:35:59.817Z"
   },
   {
    "duration": 14,
    "start_time": "2023-05-10T11:35:59.835Z"
   },
   {
    "duration": 16,
    "start_time": "2023-05-10T11:35:59.851Z"
   },
   {
    "duration": 469,
    "start_time": "2023-05-10T11:35:59.869Z"
   },
   {
    "duration": 9,
    "start_time": "2023-05-10T11:36:26.991Z"
   },
   {
    "duration": 4,
    "start_time": "2023-05-10T11:36:58.839Z"
   },
   {
    "duration": 359,
    "start_time": "2023-05-10T11:37:32.223Z"
   },
   {
    "duration": 28,
    "start_time": "2023-05-10T11:37:32.584Z"
   },
   {
    "duration": 13,
    "start_time": "2023-05-10T11:37:32.614Z"
   },
   {
    "duration": 5,
    "start_time": "2023-05-10T11:37:32.629Z"
   },
   {
    "duration": 12,
    "start_time": "2023-05-10T11:37:32.635Z"
   },
   {
    "duration": 9,
    "start_time": "2023-05-10T11:37:32.649Z"
   },
   {
    "duration": 55,
    "start_time": "2023-05-10T11:37:32.659Z"
   },
   {
    "duration": 10,
    "start_time": "2023-05-10T11:37:32.716Z"
   },
   {
    "duration": 15,
    "start_time": "2023-05-10T11:37:32.727Z"
   },
   {
    "duration": 27,
    "start_time": "2023-05-10T11:37:32.744Z"
   },
   {
    "duration": 20,
    "start_time": "2023-05-10T11:37:32.772Z"
   },
   {
    "duration": 15,
    "start_time": "2023-05-10T11:37:32.794Z"
   },
   {
    "duration": 71,
    "start_time": "2023-05-10T11:59:44.276Z"
   },
   {
    "duration": 831,
    "start_time": "2023-05-10T11:59:54.865Z"
   },
   {
    "duration": 28,
    "start_time": "2023-05-10T11:59:55.698Z"
   },
   {
    "duration": 10,
    "start_time": "2023-05-10T11:59:55.730Z"
   },
   {
    "duration": 10,
    "start_time": "2023-05-10T11:59:55.742Z"
   },
   {
    "duration": 28,
    "start_time": "2023-05-10T11:59:55.753Z"
   },
   {
    "duration": 14,
    "start_time": "2023-05-10T11:59:55.782Z"
   },
   {
    "duration": 57,
    "start_time": "2023-05-10T11:59:55.797Z"
   },
   {
    "duration": 11,
    "start_time": "2023-05-10T11:59:55.855Z"
   },
   {
    "duration": 26,
    "start_time": "2023-05-10T11:59:55.868Z"
   },
   {
    "duration": 26,
    "start_time": "2023-05-10T11:59:55.896Z"
   },
   {
    "duration": 111,
    "start_time": "2023-05-10T11:59:55.924Z"
   },
   {
    "duration": 648,
    "start_time": "2023-05-10T12:00:23.492Z"
   },
   {
    "duration": 27,
    "start_time": "2023-05-10T12:00:24.142Z"
   },
   {
    "duration": 9,
    "start_time": "2023-05-10T12:00:24.171Z"
   },
   {
    "duration": 9,
    "start_time": "2023-05-10T12:00:24.182Z"
   },
   {
    "duration": 12,
    "start_time": "2023-05-10T12:00:24.193Z"
   },
   {
    "duration": 7,
    "start_time": "2023-05-10T12:00:24.206Z"
   },
   {
    "duration": 58,
    "start_time": "2023-05-10T12:00:24.214Z"
   },
   {
    "duration": 10,
    "start_time": "2023-05-10T12:00:24.273Z"
   },
   {
    "duration": 16,
    "start_time": "2023-05-10T12:00:24.284Z"
   },
   {
    "duration": 12,
    "start_time": "2023-05-10T12:00:24.302Z"
   },
   {
    "duration": 91,
    "start_time": "2023-05-10T12:00:24.316Z"
   },
   {
    "duration": 24,
    "start_time": "2023-05-10T12:03:16.469Z"
   },
   {
    "duration": 149,
    "start_time": "2023-05-10T12:04:13.620Z"
   },
   {
    "duration": 247,
    "start_time": "2023-05-10T12:05:03.296Z"
   },
   {
    "duration": 249,
    "start_time": "2023-05-10T12:05:29.780Z"
   },
   {
    "duration": 235,
    "start_time": "2023-05-10T12:06:50.640Z"
   },
   {
    "duration": 12,
    "start_time": "2023-05-10T12:08:19.645Z"
   },
   {
    "duration": 183,
    "start_time": "2023-05-10T12:09:47.328Z"
   },
   {
    "duration": 173,
    "start_time": "2023-05-10T12:09:55.424Z"
   },
   {
    "duration": 250,
    "start_time": "2023-05-10T12:10:01.496Z"
   },
   {
    "duration": 184,
    "start_time": "2023-05-10T12:10:48.648Z"
   },
   {
    "duration": 202,
    "start_time": "2023-05-10T12:10:57.793Z"
   },
   {
    "duration": 189,
    "start_time": "2023-05-10T12:11:08.733Z"
   },
   {
    "duration": 239,
    "start_time": "2023-05-10T12:13:28.053Z"
   },
   {
    "duration": 196,
    "start_time": "2023-05-10T12:13:52.812Z"
   },
   {
    "duration": 187,
    "start_time": "2023-05-10T12:14:18.113Z"
   },
   {
    "duration": 145,
    "start_time": "2023-05-10T12:22:12.208Z"
   },
   {
    "duration": 180,
    "start_time": "2023-05-10T12:22:37.880Z"
   },
   {
    "duration": 185,
    "start_time": "2023-05-10T12:23:19.298Z"
   },
   {
    "duration": 264,
    "start_time": "2023-05-10T12:35:20.808Z"
   },
   {
    "duration": 274,
    "start_time": "2023-05-10T12:35:36.277Z"
   },
   {
    "duration": 374,
    "start_time": "2023-05-10T12:35:51.509Z"
   },
   {
    "duration": 318,
    "start_time": "2023-05-10T12:36:45.269Z"
   },
   {
    "duration": 7,
    "start_time": "2023-05-10T12:53:41.018Z"
   },
   {
    "duration": 250,
    "start_time": "2023-05-10T12:53:42.122Z"
   },
   {
    "duration": 186,
    "start_time": "2023-05-10T12:54:56.305Z"
   },
   {
    "duration": 158,
    "start_time": "2023-05-10T12:56:46.737Z"
   },
   {
    "duration": 197,
    "start_time": "2023-05-10T12:57:18.281Z"
   },
   {
    "duration": 228,
    "start_time": "2023-05-10T12:58:18.202Z"
   },
   {
    "duration": 194,
    "start_time": "2023-05-10T13:11:18.340Z"
   },
   {
    "duration": 269,
    "start_time": "2023-05-10T13:12:22.187Z"
   },
   {
    "duration": 323,
    "start_time": "2023-05-10T13:14:35.072Z"
   },
   {
    "duration": 334,
    "start_time": "2023-05-10T13:14:56.884Z"
   },
   {
    "duration": 368,
    "start_time": "2023-05-10T13:15:14.908Z"
   },
   {
    "duration": 330,
    "start_time": "2023-05-10T13:15:31.092Z"
   },
   {
    "duration": 11,
    "start_time": "2023-05-10T13:28:53.557Z"
   },
   {
    "duration": 103,
    "start_time": "2023-05-10T13:31:15.645Z"
   },
   {
    "duration": 110,
    "start_time": "2023-05-10T13:31:30.301Z"
   },
   {
    "duration": 122,
    "start_time": "2023-05-10T13:31:46.725Z"
   },
   {
    "duration": 141,
    "start_time": "2023-05-10T13:32:38.845Z"
   },
   {
    "duration": 133,
    "start_time": "2023-05-10T13:33:27.009Z"
   },
   {
    "duration": 140,
    "start_time": "2023-05-10T13:37:46.781Z"
   },
   {
    "duration": 5,
    "start_time": "2023-05-10T13:38:32.853Z"
   },
   {
    "duration": 5,
    "start_time": "2023-05-10T13:38:56.197Z"
   },
   {
    "duration": 2346,
    "start_time": "2023-05-10T13:47:07.474Z"
   },
   {
    "duration": 1365,
    "start_time": "2023-05-10T13:47:43.791Z"
   },
   {
    "duration": 130,
    "start_time": "2023-05-10T13:48:21.403Z"
   },
   {
    "duration": 124,
    "start_time": "2023-05-10T13:49:18.695Z"
   },
   {
    "duration": 123,
    "start_time": "2023-05-10T13:49:36.807Z"
   },
   {
    "duration": 135,
    "start_time": "2023-05-10T13:49:50.172Z"
   },
   {
    "duration": 6,
    "start_time": "2023-05-10T15:02:08.872Z"
   },
   {
    "duration": 241,
    "start_time": "2023-05-10T15:03:43.864Z"
   },
   {
    "duration": 164,
    "start_time": "2023-05-10T15:03:57.331Z"
   },
   {
    "duration": 154,
    "start_time": "2023-05-10T15:04:33.491Z"
   },
   {
    "duration": 147,
    "start_time": "2023-05-10T15:04:40.544Z"
   },
   {
    "duration": 140,
    "start_time": "2023-05-10T15:04:48.252Z"
   },
   {
    "duration": 4,
    "start_time": "2023-05-10T15:08:24.164Z"
   },
   {
    "duration": 90,
    "start_time": "2023-05-10T15:37:27.009Z"
   },
   {
    "duration": 99,
    "start_time": "2023-05-10T15:39:19.494Z"
   },
   {
    "duration": 138,
    "start_time": "2023-05-10T15:39:47.295Z"
   },
   {
    "duration": 189,
    "start_time": "2023-05-10T15:40:31.958Z"
   },
   {
    "duration": 8,
    "start_time": "2023-05-10T15:44:55.823Z"
   },
   {
    "duration": 221,
    "start_time": "2023-05-10T15:45:39.143Z"
   },
   {
    "duration": 350,
    "start_time": "2023-05-10T15:47:04.703Z"
   },
   {
    "duration": 1074,
    "start_time": "2023-05-10T15:47:56.863Z"
   },
   {
    "duration": 28,
    "start_time": "2023-05-10T15:47:57.939Z"
   },
   {
    "duration": 13,
    "start_time": "2023-05-10T15:47:57.968Z"
   },
   {
    "duration": 18,
    "start_time": "2023-05-10T15:47:57.983Z"
   },
   {
    "duration": 14,
    "start_time": "2023-05-10T15:47:58.003Z"
   },
   {
    "duration": 7,
    "start_time": "2023-05-10T15:47:58.019Z"
   },
   {
    "duration": 64,
    "start_time": "2023-05-10T15:47:58.028Z"
   },
   {
    "duration": 11,
    "start_time": "2023-05-10T15:47:58.094Z"
   },
   {
    "duration": 19,
    "start_time": "2023-05-10T15:47:58.106Z"
   },
   {
    "duration": 16,
    "start_time": "2023-05-10T15:47:58.127Z"
   },
   {
    "duration": 268,
    "start_time": "2023-05-10T15:47:58.145Z"
   },
   {
    "duration": 271,
    "start_time": "2023-05-10T15:47:58.415Z"
   },
   {
    "duration": 206,
    "start_time": "2023-05-10T15:47:58.692Z"
   },
   {
    "duration": 300,
    "start_time": "2023-05-10T15:47:58.902Z"
   },
   {
    "duration": 5,
    "start_time": "2023-05-10T15:47:59.204Z"
   },
   {
    "duration": 219,
    "start_time": "2023-05-10T15:47:59.211Z"
   },
   {
    "duration": 270,
    "start_time": "2023-05-10T15:47:59.432Z"
   },
   {
    "duration": 133,
    "start_time": "2023-05-10T15:47:59.704Z"
   },
   {
    "duration": 4,
    "start_time": "2023-05-10T15:47:59.839Z"
   },
   {
    "duration": 146,
    "start_time": "2023-05-10T15:47:59.845Z"
   },
   {
    "duration": 3,
    "start_time": "2023-05-10T15:47:59.993Z"
   },
   {
    "duration": 334,
    "start_time": "2023-05-10T15:47:59.998Z"
   },
   {
    "duration": 10,
    "start_time": "2023-05-10T16:04:44.898Z"
   },
   {
    "duration": 2839,
    "start_time": "2023-05-10T16:11:56.338Z"
   },
   {
    "duration": 2088,
    "start_time": "2023-05-10T16:12:35.812Z"
   },
   {
    "duration": 7,
    "start_time": "2023-05-10T16:14:18.332Z"
   },
   {
    "duration": 9,
    "start_time": "2023-05-10T16:15:19.823Z"
   },
   {
    "duration": 9,
    "start_time": "2023-05-10T16:17:29.526Z"
   },
   {
    "duration": 8,
    "start_time": "2023-05-10T16:19:40.464Z"
   },
   {
    "duration": 26,
    "start_time": "2023-05-10T16:22:49.549Z"
   },
   {
    "duration": 3443,
    "start_time": "2023-05-10T16:25:01.774Z"
   },
   {
    "duration": 11,
    "start_time": "2023-05-10T16:25:56.578Z"
   },
   {
    "duration": 78,
    "start_time": "2023-05-11T18:29:51.139Z"
   },
   {
    "duration": 1628,
    "start_time": "2023-05-11T18:29:59.714Z"
   },
   {
    "duration": 103,
    "start_time": "2023-05-11T18:30:03.243Z"
   },
   {
    "duration": 9,
    "start_time": "2023-05-11T18:30:04.991Z"
   },
   {
    "duration": 20,
    "start_time": "2023-05-11T18:30:26.046Z"
   },
   {
    "duration": 84,
    "start_time": "2023-05-11T18:32:19.471Z"
   },
   {
    "duration": 1524,
    "start_time": "2023-05-11T18:32:58.106Z"
   },
   {
    "duration": 1226,
    "start_time": "2023-05-11T18:33:12.599Z"
   },
   {
    "duration": 28,
    "start_time": "2023-05-11T18:33:13.828Z"
   },
   {
    "duration": 20,
    "start_time": "2023-05-11T18:33:13.858Z"
   },
   {
    "duration": 12,
    "start_time": "2023-05-11T18:33:13.881Z"
   },
   {
    "duration": 125,
    "start_time": "2023-05-11T18:33:13.894Z"
   },
   {
    "duration": 0,
    "start_time": "2023-05-11T18:33:14.021Z"
   },
   {
    "duration": 0,
    "start_time": "2023-05-11T18:33:14.024Z"
   },
   {
    "duration": 0,
    "start_time": "2023-05-11T18:33:14.025Z"
   },
   {
    "duration": 0,
    "start_time": "2023-05-11T18:33:14.027Z"
   },
   {
    "duration": 0,
    "start_time": "2023-05-11T18:33:14.029Z"
   },
   {
    "duration": 0,
    "start_time": "2023-05-11T18:33:14.030Z"
   },
   {
    "duration": 0,
    "start_time": "2023-05-11T18:33:14.031Z"
   },
   {
    "duration": 0,
    "start_time": "2023-05-11T18:33:14.033Z"
   },
   {
    "duration": 0,
    "start_time": "2023-05-11T18:33:14.035Z"
   },
   {
    "duration": 1,
    "start_time": "2023-05-11T18:33:14.036Z"
   },
   {
    "duration": 0,
    "start_time": "2023-05-11T18:33:14.038Z"
   },
   {
    "duration": 0,
    "start_time": "2023-05-11T18:33:14.041Z"
   },
   {
    "duration": 0,
    "start_time": "2023-05-11T18:33:14.077Z"
   },
   {
    "duration": 0,
    "start_time": "2023-05-11T18:33:14.078Z"
   },
   {
    "duration": 0,
    "start_time": "2023-05-11T18:33:14.079Z"
   },
   {
    "duration": 0,
    "start_time": "2023-05-11T18:33:14.084Z"
   },
   {
    "duration": 0,
    "start_time": "2023-05-11T18:33:14.085Z"
   },
   {
    "duration": 0,
    "start_time": "2023-05-11T18:33:14.086Z"
   },
   {
    "duration": 0,
    "start_time": "2023-05-11T18:33:14.089Z"
   },
   {
    "duration": 0,
    "start_time": "2023-05-11T18:33:14.090Z"
   },
   {
    "duration": 0,
    "start_time": "2023-05-11T18:33:14.090Z"
   },
   {
    "duration": 9,
    "start_time": "2023-05-11T18:35:15.947Z"
   },
   {
    "duration": 9,
    "start_time": "2023-05-11T18:35:24.607Z"
   },
   {
    "duration": 14,
    "start_time": "2023-05-11T18:35:52.600Z"
   },
   {
    "duration": 9,
    "start_time": "2023-05-11T18:35:58.924Z"
   },
   {
    "duration": 1331,
    "start_time": "2023-05-11T18:36:06.539Z"
   },
   {
    "duration": 31,
    "start_time": "2023-05-11T18:36:07.875Z"
   },
   {
    "duration": 21,
    "start_time": "2023-05-11T18:36:07.909Z"
   },
   {
    "duration": 24,
    "start_time": "2023-05-11T18:36:07.932Z"
   },
   {
    "duration": 22,
    "start_time": "2023-05-11T18:36:07.960Z"
   },
   {
    "duration": 24,
    "start_time": "2023-05-11T18:36:07.987Z"
   },
   {
    "duration": 209,
    "start_time": "2023-05-11T18:36:08.013Z"
   },
   {
    "duration": 16,
    "start_time": "2023-05-11T18:36:08.224Z"
   },
   {
    "duration": 17,
    "start_time": "2023-05-11T18:36:08.241Z"
   },
   {
    "duration": 36,
    "start_time": "2023-05-11T18:36:08.261Z"
   },
   {
    "duration": 350,
    "start_time": "2023-05-11T18:36:08.300Z"
   },
   {
    "duration": 370,
    "start_time": "2023-05-11T18:36:08.652Z"
   },
   {
    "duration": 263,
    "start_time": "2023-05-11T18:36:09.024Z"
   },
   {
    "duration": 346,
    "start_time": "2023-05-11T18:36:09.291Z"
   },
   {
    "duration": 9,
    "start_time": "2023-05-11T18:36:09.640Z"
   },
   {
    "duration": 305,
    "start_time": "2023-05-11T18:36:09.651Z"
   },
   {
    "duration": 380,
    "start_time": "2023-05-11T18:36:09.959Z"
   },
   {
    "duration": 193,
    "start_time": "2023-05-11T18:36:10.342Z"
   },
   {
    "duration": 6,
    "start_time": "2023-05-11T18:36:10.537Z"
   },
   {
    "duration": 251,
    "start_time": "2023-05-11T18:36:10.545Z"
   },
   {
    "duration": 5,
    "start_time": "2023-05-11T18:36:10.799Z"
   },
   {
    "duration": 440,
    "start_time": "2023-05-11T18:36:10.806Z"
   },
   {
    "duration": 29,
    "start_time": "2023-05-11T18:36:11.248Z"
   },
   {
    "duration": 15,
    "start_time": "2023-05-11T18:36:11.280Z"
   },
   {
    "duration": 42,
    "start_time": "2023-05-11T18:36:11.297Z"
   },
   {
    "duration": 16,
    "start_time": "2023-05-11T18:36:11.341Z"
   },
   {
    "duration": 1811,
    "start_time": "2023-05-11T18:36:59.031Z"
   },
   {
    "duration": 1273,
    "start_time": "2023-05-11T18:37:12.791Z"
   },
   {
    "duration": 32,
    "start_time": "2023-05-11T18:37:14.067Z"
   },
   {
    "duration": 16,
    "start_time": "2023-05-11T18:37:14.101Z"
   },
   {
    "duration": 8,
    "start_time": "2023-05-11T18:37:14.120Z"
   },
   {
    "duration": 24,
    "start_time": "2023-05-11T18:37:14.130Z"
   },
   {
    "duration": 11,
    "start_time": "2023-05-11T18:37:14.156Z"
   },
   {
    "duration": 73,
    "start_time": "2023-05-11T18:37:14.168Z"
   },
   {
    "duration": 13,
    "start_time": "2023-05-11T18:37:14.243Z"
   },
   {
    "duration": 41,
    "start_time": "2023-05-11T18:37:14.258Z"
   },
   {
    "duration": 38,
    "start_time": "2023-05-11T18:37:14.303Z"
   },
   {
    "duration": 350,
    "start_time": "2023-05-11T18:37:14.343Z"
   },
   {
    "duration": 361,
    "start_time": "2023-05-11T18:37:14.695Z"
   },
   {
    "duration": 268,
    "start_time": "2023-05-11T18:37:15.058Z"
   },
   {
    "duration": 400,
    "start_time": "2023-05-11T18:37:15.329Z"
   },
   {
    "duration": 7,
    "start_time": "2023-05-11T18:37:15.731Z"
   },
   {
    "duration": 343,
    "start_time": "2023-05-11T18:37:15.741Z"
   },
   {
    "duration": 371,
    "start_time": "2023-05-11T18:37:16.088Z"
   },
   {
    "duration": 180,
    "start_time": "2023-05-11T18:37:16.462Z"
   },
   {
    "duration": 5,
    "start_time": "2023-05-11T18:37:16.644Z"
   },
   {
    "duration": 198,
    "start_time": "2023-05-11T18:37:16.650Z"
   },
   {
    "duration": 5,
    "start_time": "2023-05-11T18:37:16.849Z"
   },
   {
    "duration": 442,
    "start_time": "2023-05-11T18:37:16.856Z"
   },
   {
    "duration": 13,
    "start_time": "2023-05-11T18:37:17.300Z"
   },
   {
    "duration": 16,
    "start_time": "2023-05-11T18:37:17.315Z"
   },
   {
    "duration": 60,
    "start_time": "2023-05-11T18:37:17.333Z"
   },
   {
    "duration": 16,
    "start_time": "2023-05-11T18:37:17.394Z"
   },
   {
    "duration": 1583,
    "start_time": "2023-05-11T18:37:36.259Z"
   },
   {
    "duration": 521,
    "start_time": "2023-05-11T18:41:31.031Z"
   },
   {
    "duration": 2768,
    "start_time": "2023-05-11T18:41:50.704Z"
   },
   {
    "duration": 1261,
    "start_time": "2023-05-11T18:42:13.698Z"
   },
   {
    "duration": 33,
    "start_time": "2023-05-11T18:42:14.961Z"
   },
   {
    "duration": 15,
    "start_time": "2023-05-11T18:42:14.997Z"
   },
   {
    "duration": 25,
    "start_time": "2023-05-11T18:42:15.016Z"
   },
   {
    "duration": 21,
    "start_time": "2023-05-11T18:42:15.043Z"
   },
   {
    "duration": 16,
    "start_time": "2023-05-11T18:42:15.066Z"
   },
   {
    "duration": 65,
    "start_time": "2023-05-11T18:42:15.088Z"
   },
   {
    "duration": 19,
    "start_time": "2023-05-11T18:42:15.156Z"
   },
   {
    "duration": 23,
    "start_time": "2023-05-11T18:42:15.185Z"
   },
   {
    "duration": 22,
    "start_time": "2023-05-11T18:42:15.210Z"
   },
   {
    "duration": 482,
    "start_time": "2023-05-11T18:42:15.234Z"
   },
   {
    "duration": 441,
    "start_time": "2023-05-11T18:42:15.718Z"
   },
   {
    "duration": 266,
    "start_time": "2023-05-11T18:42:16.162Z"
   },
   {
    "duration": 386,
    "start_time": "2023-05-11T18:42:16.430Z"
   },
   {
    "duration": 7,
    "start_time": "2023-05-11T18:42:16.818Z"
   },
   {
    "duration": 322,
    "start_time": "2023-05-11T18:42:16.827Z"
   },
   {
    "duration": 393,
    "start_time": "2023-05-11T18:42:17.152Z"
   },
   {
    "duration": 186,
    "start_time": "2023-05-11T18:42:17.547Z"
   },
   {
    "duration": 5,
    "start_time": "2023-05-11T18:42:17.735Z"
   },
   {
    "duration": 214,
    "start_time": "2023-05-11T18:42:17.742Z"
   },
   {
    "duration": 25,
    "start_time": "2023-05-11T18:42:17.959Z"
   },
   {
    "duration": 443,
    "start_time": "2023-05-11T18:42:17.986Z"
   },
   {
    "duration": 14,
    "start_time": "2023-05-11T18:42:18.432Z"
   },
   {
    "duration": 47,
    "start_time": "2023-05-11T18:42:18.448Z"
   },
   {
    "duration": 42,
    "start_time": "2023-05-11T18:42:18.497Z"
   },
   {
    "duration": 18,
    "start_time": "2023-05-11T18:42:18.541Z"
   },
   {
    "duration": 1285,
    "start_time": "2023-05-11T18:42:57.827Z"
   },
   {
    "duration": 28,
    "start_time": "2023-05-11T18:42:59.114Z"
   },
   {
    "duration": 15,
    "start_time": "2023-05-11T18:42:59.143Z"
   },
   {
    "duration": 29,
    "start_time": "2023-05-11T18:42:59.161Z"
   },
   {
    "duration": 22,
    "start_time": "2023-05-11T18:42:59.192Z"
   },
   {
    "duration": 23,
    "start_time": "2023-05-11T18:42:59.216Z"
   },
   {
    "duration": 66,
    "start_time": "2023-05-11T18:42:59.241Z"
   },
   {
    "duration": 12,
    "start_time": "2023-05-11T18:42:59.309Z"
   },
   {
    "duration": 29,
    "start_time": "2023-05-11T18:42:59.323Z"
   },
   {
    "duration": 47,
    "start_time": "2023-05-11T18:42:59.356Z"
   },
   {
    "duration": 329,
    "start_time": "2023-05-11T18:42:59.405Z"
   },
   {
    "duration": 352,
    "start_time": "2023-05-11T18:42:59.736Z"
   },
   {
    "duration": 260,
    "start_time": "2023-05-11T18:43:00.090Z"
   },
   {
    "duration": 386,
    "start_time": "2023-05-11T18:43:00.352Z"
   },
   {
    "duration": 7,
    "start_time": "2023-05-11T18:43:00.740Z"
   },
   {
    "duration": 305,
    "start_time": "2023-05-11T18:43:00.750Z"
   },
   {
    "duration": 387,
    "start_time": "2023-05-11T18:43:01.057Z"
   },
   {
    "duration": 200,
    "start_time": "2023-05-11T18:43:01.446Z"
   },
   {
    "duration": 5,
    "start_time": "2023-05-11T18:43:01.648Z"
   },
   {
    "duration": 239,
    "start_time": "2023-05-11T18:43:01.655Z"
   },
   {
    "duration": 5,
    "start_time": "2023-05-11T18:43:01.897Z"
   },
   {
    "duration": 503,
    "start_time": "2023-05-11T18:43:01.906Z"
   },
   {
    "duration": 11,
    "start_time": "2023-05-11T18:43:02.411Z"
   },
   {
    "duration": 16,
    "start_time": "2023-05-11T18:43:02.425Z"
   },
   {
    "duration": 57,
    "start_time": "2023-05-11T18:43:02.443Z"
   },
   {
    "duration": 16,
    "start_time": "2023-05-11T18:43:02.502Z"
   },
   {
    "duration": 1369,
    "start_time": "2023-05-11T18:44:14.163Z"
   },
   {
    "duration": 27,
    "start_time": "2023-05-11T18:44:15.534Z"
   },
   {
    "duration": 27,
    "start_time": "2023-05-11T18:44:15.564Z"
   },
   {
    "duration": 17,
    "start_time": "2023-05-11T18:44:15.597Z"
   },
   {
    "duration": 11,
    "start_time": "2023-05-11T18:44:15.618Z"
   },
   {
    "duration": 11,
    "start_time": "2023-05-11T18:44:15.631Z"
   },
   {
    "duration": 71,
    "start_time": "2023-05-11T18:44:15.644Z"
   },
   {
    "duration": 12,
    "start_time": "2023-05-11T18:44:15.717Z"
   },
   {
    "duration": 21,
    "start_time": "2023-05-11T18:44:15.730Z"
   },
   {
    "duration": 38,
    "start_time": "2023-05-11T18:44:15.753Z"
   },
   {
    "duration": 400,
    "start_time": "2023-05-11T18:44:15.795Z"
   },
   {
    "duration": 405,
    "start_time": "2023-05-11T18:44:16.205Z"
   },
   {
    "duration": 288,
    "start_time": "2023-05-11T18:44:16.612Z"
   },
   {
    "duration": 393,
    "start_time": "2023-05-11T18:44:16.905Z"
   },
   {
    "duration": 7,
    "start_time": "2023-05-11T18:44:17.303Z"
   },
   {
    "duration": 322,
    "start_time": "2023-05-11T18:44:17.312Z"
   },
   {
    "duration": 442,
    "start_time": "2023-05-11T18:44:17.637Z"
   },
   {
    "duration": 204,
    "start_time": "2023-05-11T18:44:18.081Z"
   },
   {
    "duration": 10,
    "start_time": "2023-05-11T18:44:18.296Z"
   },
   {
    "duration": 209,
    "start_time": "2023-05-11T18:44:18.309Z"
   },
   {
    "duration": 6,
    "start_time": "2023-05-11T18:44:18.520Z"
   },
   {
    "duration": 470,
    "start_time": "2023-05-11T18:44:18.528Z"
   },
   {
    "duration": 16,
    "start_time": "2023-05-11T18:44:19.000Z"
   },
   {
    "duration": 12,
    "start_time": "2023-05-11T18:44:19.018Z"
   },
   {
    "duration": 67,
    "start_time": "2023-05-11T18:44:19.031Z"
   },
   {
    "duration": 16,
    "start_time": "2023-05-11T18:44:19.102Z"
   },
   {
    "duration": 1311,
    "start_time": "2023-05-11T18:44:40.291Z"
   },
   {
    "duration": 28,
    "start_time": "2023-05-11T18:44:41.605Z"
   },
   {
    "duration": 15,
    "start_time": "2023-05-11T18:44:41.636Z"
   },
   {
    "duration": 13,
    "start_time": "2023-05-11T18:44:41.653Z"
   },
   {
    "duration": 49,
    "start_time": "2023-05-11T18:44:41.669Z"
   },
   {
    "duration": 10,
    "start_time": "2023-05-11T18:44:41.720Z"
   },
   {
    "duration": 77,
    "start_time": "2023-05-11T18:44:41.732Z"
   },
   {
    "duration": 12,
    "start_time": "2023-05-11T18:44:41.811Z"
   },
   {
    "duration": 15,
    "start_time": "2023-05-11T18:44:41.824Z"
   },
   {
    "duration": 17,
    "start_time": "2023-05-11T18:44:41.841Z"
   },
   {
    "duration": 392,
    "start_time": "2023-05-11T18:44:41.860Z"
   },
   {
    "duration": 384,
    "start_time": "2023-05-11T18:44:42.255Z"
   },
   {
    "duration": 278,
    "start_time": "2023-05-11T18:44:42.641Z"
   },
   {
    "duration": 366,
    "start_time": "2023-05-11T18:44:42.922Z"
   },
   {
    "duration": 9,
    "start_time": "2023-05-11T18:44:43.290Z"
   },
   {
    "duration": 300,
    "start_time": "2023-05-11T18:44:43.302Z"
   },
   {
    "duration": 351,
    "start_time": "2023-05-11T18:44:43.604Z"
   },
   {
    "duration": 195,
    "start_time": "2023-05-11T18:44:43.957Z"
   },
   {
    "duration": 5,
    "start_time": "2023-05-11T18:44:44.153Z"
   },
   {
    "duration": 206,
    "start_time": "2023-05-11T18:44:44.160Z"
   },
   {
    "duration": 19,
    "start_time": "2023-05-11T18:44:44.367Z"
   },
   {
    "duration": 433,
    "start_time": "2023-05-11T18:44:44.392Z"
   },
   {
    "duration": 14,
    "start_time": "2023-05-11T18:44:44.827Z"
   },
   {
    "duration": 36,
    "start_time": "2023-05-11T18:44:44.843Z"
   },
   {
    "duration": 64,
    "start_time": "2023-05-11T18:44:44.881Z"
   },
   {
    "duration": 17,
    "start_time": "2023-05-11T18:44:44.947Z"
   },
   {
    "duration": 1416,
    "start_time": "2023-05-11T18:45:24.770Z"
   },
   {
    "duration": 40,
    "start_time": "2023-05-11T18:45:26.194Z"
   },
   {
    "duration": 17,
    "start_time": "2023-05-11T18:45:26.236Z"
   },
   {
    "duration": 61,
    "start_time": "2023-05-11T18:45:26.256Z"
   },
   {
    "duration": 25,
    "start_time": "2023-05-11T18:45:26.321Z"
   },
   {
    "duration": 63,
    "start_time": "2023-05-11T18:45:26.349Z"
   },
   {
    "duration": 86,
    "start_time": "2023-05-11T18:45:26.417Z"
   },
   {
    "duration": 23,
    "start_time": "2023-05-11T18:45:26.512Z"
   },
   {
    "duration": 33,
    "start_time": "2023-05-11T18:45:26.539Z"
   },
   {
    "duration": 33,
    "start_time": "2023-05-11T18:45:26.574Z"
   },
   {
    "duration": 407,
    "start_time": "2023-05-11T18:45:26.609Z"
   },
   {
    "duration": 391,
    "start_time": "2023-05-11T18:45:27.018Z"
   },
   {
    "duration": 268,
    "start_time": "2023-05-11T18:45:27.416Z"
   },
   {
    "duration": 373,
    "start_time": "2023-05-11T18:45:27.690Z"
   },
   {
    "duration": 12,
    "start_time": "2023-05-11T18:45:28.066Z"
   },
   {
    "duration": 302,
    "start_time": "2023-05-11T18:45:28.083Z"
   },
   {
    "duration": 366,
    "start_time": "2023-05-11T18:45:28.392Z"
   },
   {
    "duration": 214,
    "start_time": "2023-05-11T18:45:28.760Z"
   },
   {
    "duration": 6,
    "start_time": "2023-05-11T18:45:28.979Z"
   },
   {
    "duration": 235,
    "start_time": "2023-05-11T18:45:28.995Z"
   },
   {
    "duration": 4,
    "start_time": "2023-05-11T18:45:29.232Z"
   },
   {
    "duration": 433,
    "start_time": "2023-05-11T18:45:29.238Z"
   },
   {
    "duration": 14,
    "start_time": "2023-05-11T18:45:29.673Z"
   },
   {
    "duration": 31,
    "start_time": "2023-05-11T18:45:29.689Z"
   },
   {
    "duration": 53,
    "start_time": "2023-05-11T18:45:29.722Z"
   },
   {
    "duration": 43,
    "start_time": "2023-05-11T18:45:29.777Z"
   },
   {
    "duration": 110,
    "start_time": "2023-05-11T19:10:44.658Z"
   },
   {
    "duration": 10,
    "start_time": "2023-05-11T19:10:51.433Z"
   },
   {
    "duration": 7,
    "start_time": "2023-05-11T19:11:24.802Z"
   },
   {
    "duration": 7,
    "start_time": "2023-05-11T19:12:21.617Z"
   },
   {
    "duration": 8,
    "start_time": "2023-05-11T19:12:49.953Z"
   },
   {
    "duration": 1278,
    "start_time": "2023-05-11T19:12:57.088Z"
   },
   {
    "duration": 41,
    "start_time": "2023-05-11T19:12:58.368Z"
   },
   {
    "duration": 16,
    "start_time": "2023-05-11T19:12:58.411Z"
   },
   {
    "duration": 4,
    "start_time": "2023-05-11T19:12:58.429Z"
   },
   {
    "duration": 25,
    "start_time": "2023-05-11T19:12:58.436Z"
   },
   {
    "duration": 28,
    "start_time": "2023-05-11T19:12:58.464Z"
   },
   {
    "duration": 65,
    "start_time": "2023-05-11T19:12:58.494Z"
   },
   {
    "duration": 24,
    "start_time": "2023-05-11T19:12:58.562Z"
   },
   {
    "duration": 21,
    "start_time": "2023-05-11T19:12:58.600Z"
   },
   {
    "duration": 26,
    "start_time": "2023-05-11T19:12:58.624Z"
   },
   {
    "duration": 18,
    "start_time": "2023-05-11T19:12:58.652Z"
   },
   {
    "duration": 362,
    "start_time": "2023-05-11T19:12:58.672Z"
   },
   {
    "duration": 364,
    "start_time": "2023-05-11T19:12:59.038Z"
   },
   {
    "duration": 254,
    "start_time": "2023-05-11T19:12:59.405Z"
   },
   {
    "duration": 361,
    "start_time": "2023-05-11T19:12:59.661Z"
   },
   {
    "duration": 7,
    "start_time": "2023-05-11T19:13:00.024Z"
   },
   {
    "duration": 305,
    "start_time": "2023-05-11T19:13:00.033Z"
   },
   {
    "duration": 414,
    "start_time": "2023-05-11T19:13:00.340Z"
   },
   {
    "duration": 187,
    "start_time": "2023-05-11T19:13:00.756Z"
   },
   {
    "duration": 5,
    "start_time": "2023-05-11T19:13:00.945Z"
   },
   {
    "duration": 266,
    "start_time": "2023-05-11T19:13:00.951Z"
   },
   {
    "duration": 6,
    "start_time": "2023-05-11T19:13:01.219Z"
   },
   {
    "duration": 597,
    "start_time": "2023-05-11T19:13:01.227Z"
   },
   {
    "duration": 15,
    "start_time": "2023-05-11T19:13:01.827Z"
   },
   {
    "duration": 38,
    "start_time": "2023-05-11T19:13:01.845Z"
   },
   {
    "duration": 116,
    "start_time": "2023-05-11T19:13:01.886Z"
   },
   {
    "duration": 41,
    "start_time": "2023-05-11T19:13:02.004Z"
   },
   {
    "duration": 17,
    "start_time": "2023-05-11T19:16:30.422Z"
   },
   {
    "duration": 7,
    "start_time": "2023-05-11T19:16:40.895Z"
   },
   {
    "duration": 341,
    "start_time": "2023-05-11T19:19:16.697Z"
   },
   {
    "duration": 251,
    "start_time": "2023-05-11T19:19:44.317Z"
   },
   {
    "duration": 272,
    "start_time": "2023-05-11T19:20:53.258Z"
   },
   {
    "duration": 262,
    "start_time": "2023-05-11T19:21:30.123Z"
   },
   {
    "duration": 408,
    "start_time": "2023-05-11T19:22:33.369Z"
   },
   {
    "duration": 307,
    "start_time": "2023-05-11T19:23:46.322Z"
   },
   {
    "duration": 368,
    "start_time": "2023-05-11T19:28:59.802Z"
   },
   {
    "duration": 57,
    "start_time": "2023-05-11T21:36:52.391Z"
   },
   {
    "duration": 1283,
    "start_time": "2023-05-11T21:37:04.439Z"
   },
   {
    "duration": 72,
    "start_time": "2023-05-11T21:37:05.724Z"
   },
   {
    "duration": 14,
    "start_time": "2023-05-11T21:37:05.797Z"
   },
   {
    "duration": 6,
    "start_time": "2023-05-11T21:37:05.813Z"
   },
   {
    "duration": 16,
    "start_time": "2023-05-11T21:37:05.821Z"
   },
   {
    "duration": 11,
    "start_time": "2023-05-11T21:37:05.838Z"
   },
   {
    "duration": 140,
    "start_time": "2023-05-11T21:37:05.851Z"
   },
   {
    "duration": 11,
    "start_time": "2023-05-11T21:37:05.992Z"
   },
   {
    "duration": 15,
    "start_time": "2023-05-11T21:37:06.005Z"
   },
   {
    "duration": 18,
    "start_time": "2023-05-11T21:37:06.024Z"
   },
   {
    "duration": 13,
    "start_time": "2023-05-11T21:37:06.044Z"
   },
   {
    "duration": 304,
    "start_time": "2023-05-11T21:37:06.059Z"
   },
   {
    "duration": 324,
    "start_time": "2023-05-11T21:37:06.365Z"
   },
   {
    "duration": 255,
    "start_time": "2023-05-11T21:37:06.693Z"
   },
   {
    "duration": 380,
    "start_time": "2023-05-11T21:37:06.951Z"
   },
   {
    "duration": 6,
    "start_time": "2023-05-11T21:37:07.333Z"
   },
   {
    "duration": 307,
    "start_time": "2023-05-11T21:37:07.340Z"
   },
   {
    "duration": 413,
    "start_time": "2023-05-11T21:37:07.649Z"
   },
   {
    "duration": 184,
    "start_time": "2023-05-11T21:37:08.063Z"
   },
   {
    "duration": 5,
    "start_time": "2023-05-11T21:37:08.249Z"
   },
   {
    "duration": 186,
    "start_time": "2023-05-11T21:37:08.255Z"
   },
   {
    "duration": 4,
    "start_time": "2023-05-11T21:37:08.443Z"
   },
   {
    "duration": 418,
    "start_time": "2023-05-11T21:37:08.448Z"
   },
   {
    "duration": 18,
    "start_time": "2023-05-11T21:37:08.868Z"
   },
   {
    "duration": 10,
    "start_time": "2023-05-11T21:37:08.888Z"
   },
   {
    "duration": 31,
    "start_time": "2023-05-11T21:37:08.900Z"
   },
   {
    "duration": 13,
    "start_time": "2023-05-11T21:37:08.933Z"
   },
   {
    "duration": 168,
    "start_time": "2023-05-11T21:40:00.802Z"
   },
   {
    "duration": 254,
    "start_time": "2023-05-11T21:41:00.351Z"
   },
   {
    "duration": 232,
    "start_time": "2023-05-11T21:43:03.977Z"
   },
   {
    "duration": 179,
    "start_time": "2023-05-11T21:44:10.375Z"
   },
   {
    "duration": 187,
    "start_time": "2023-05-11T21:44:45.107Z"
   },
   {
    "duration": 1197,
    "start_time": "2023-07-07T13:58:21.965Z"
   },
   {
    "duration": 68,
    "start_time": "2023-07-07T13:58:23.167Z"
   },
   {
    "duration": 20,
    "start_time": "2023-07-07T13:58:23.238Z"
   },
   {
    "duration": 8,
    "start_time": "2023-07-07T13:58:23.260Z"
   },
   {
    "duration": 25,
    "start_time": "2023-07-07T13:58:23.271Z"
   },
   {
    "duration": 26,
    "start_time": "2023-07-07T13:58:23.298Z"
   },
   {
    "duration": 137,
    "start_time": "2023-07-07T13:58:23.326Z"
   },
   {
    "duration": 11,
    "start_time": "2023-07-07T13:58:23.466Z"
   },
   {
    "duration": 39,
    "start_time": "2023-07-07T13:58:23.479Z"
   },
   {
    "duration": 33,
    "start_time": "2023-07-07T13:58:23.521Z"
   },
   {
    "duration": 20,
    "start_time": "2023-07-07T13:58:23.557Z"
   },
   {
    "duration": 318,
    "start_time": "2023-07-07T13:58:23.579Z"
   },
   {
    "duration": 392,
    "start_time": "2023-07-07T13:58:23.899Z"
   },
   {
    "duration": 246,
    "start_time": "2023-07-07T13:58:24.293Z"
   },
   {
    "duration": 373,
    "start_time": "2023-07-07T13:58:24.540Z"
   },
   {
    "duration": 6,
    "start_time": "2023-07-07T13:58:24.915Z"
   },
   {
    "duration": 302,
    "start_time": "2023-07-07T13:58:24.923Z"
   },
   {
    "duration": 366,
    "start_time": "2023-07-07T13:58:25.227Z"
   },
   {
    "duration": 188,
    "start_time": "2023-07-07T13:58:25.594Z"
   },
   {
    "duration": 4,
    "start_time": "2023-07-07T13:58:25.783Z"
   },
   {
    "duration": 202,
    "start_time": "2023-07-07T13:58:25.789Z"
   },
   {
    "duration": 201,
    "start_time": "2023-07-07T13:58:25.993Z"
   },
   {
    "duration": 4,
    "start_time": "2023-07-07T13:58:26.196Z"
   },
   {
    "duration": 485,
    "start_time": "2023-07-07T13:58:26.202Z"
   },
   {
    "duration": 12,
    "start_time": "2023-07-07T13:58:26.688Z"
   },
   {
    "duration": 16,
    "start_time": "2023-07-07T13:58:26.702Z"
   },
   {
    "duration": 47,
    "start_time": "2023-07-07T13:58:26.720Z"
   },
   {
    "duration": 16,
    "start_time": "2023-07-07T13:58:26.771Z"
   }
  ],
  "kernelspec": {
   "display_name": "Python 3 (ipykernel)",
   "language": "python",
   "name": "python3"
  },
  "language_info": {
   "codemirror_mode": {
    "name": "ipython",
    "version": 3
   },
   "file_extension": ".py",
   "mimetype": "text/x-python",
   "name": "python",
   "nbconvert_exporter": "python",
   "pygments_lexer": "ipython3",
   "version": "3.9.13"
  },
  "toc": {
   "base_numbering": 1,
   "nav_menu": {},
   "number_sections": true,
   "sideBar": true,
   "skip_h1_title": true,
   "title_cell": "Table of Contents",
   "title_sidebar": "Contents",
   "toc_cell": false,
   "toc_position": {},
   "toc_section_display": true,
   "toc_window_display": false
  }
 },
 "nbformat": 4,
 "nbformat_minor": 2
}
