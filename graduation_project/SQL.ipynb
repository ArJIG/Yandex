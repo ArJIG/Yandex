{
 "cells": [
  {
   "cell_type": "markdown",
   "metadata": {},
   "source": [
    "# Цель исследования"
   ]
  },
  {
   "cell_type": "markdown",
   "metadata": {},
   "source": [
    "Необходимо проанализировать базу данных сервиса для чтения книг по подписке"
   ]
  },
  {
   "cell_type": "markdown",
   "metadata": {},
   "source": [
    "# Загрузка библиотек и создание подключения"
   ]
  },
  {
   "cell_type": "code",
   "execution_count": 1,
   "metadata": {},
   "outputs": [],
   "source": [
    "import pandas as pd\n",
    "from sqlalchemy import text, create_engine"
   ]
  },
  {
   "cell_type": "code",
   "execution_count": 2,
   "metadata": {},
   "outputs": [],
   "source": [
    "db_config = {'user': 'praktikum_student', # имя пользователя\n",
    "'pwd': 'Sdf4$2;d-d30pp', # пароль\n",
    "'host': 'rc1b-wcoijxj3yxfsf3fs.mdb.yandexcloud.net',\n",
    "'port': 6432, # порт подключения\n",
    "'db': 'data-analyst-final-project-db'} # название базы данных\n",
    "connection_string = 'postgresql://{user}:{pwd}@{host}:{port}/{db}'.format(**db_config)\n",
    "engine = create_engine(connection_string, connect_args={'sslmode':'require'})\n",
    "con=engine.connect()"
   ]
  },
  {
   "cell_type": "markdown",
   "metadata": {},
   "source": [
    "## Вывод первых 5 строк "
   ]
  },
  {
   "cell_type": "code",
   "execution_count": 3,
   "metadata": {
    "scrolled": true
   },
   "outputs": [
    {
     "data": {
      "text/html": [
       "<div>\n",
       "<style scoped>\n",
       "    .dataframe tbody tr th:only-of-type {\n",
       "        vertical-align: middle;\n",
       "    }\n",
       "\n",
       "    .dataframe tbody tr th {\n",
       "        vertical-align: top;\n",
       "    }\n",
       "\n",
       "    .dataframe thead th {\n",
       "        text-align: right;\n",
       "    }\n",
       "</style>\n",
       "<table border=\"1\" class=\"dataframe\">\n",
       "  <thead>\n",
       "    <tr style=\"text-align: right;\">\n",
       "      <th></th>\n",
       "      <th>book_id</th>\n",
       "      <th>author_id</th>\n",
       "      <th>title</th>\n",
       "      <th>num_pages</th>\n",
       "      <th>publication_date</th>\n",
       "      <th>publisher_id</th>\n",
       "    </tr>\n",
       "  </thead>\n",
       "  <tbody>\n",
       "    <tr>\n",
       "      <th>0</th>\n",
       "      <td>1</td>\n",
       "      <td>546</td>\n",
       "      <td>'Salem's Lot</td>\n",
       "      <td>594</td>\n",
       "      <td>2005-11-01</td>\n",
       "      <td>93</td>\n",
       "    </tr>\n",
       "    <tr>\n",
       "      <th>1</th>\n",
       "      <td>2</td>\n",
       "      <td>465</td>\n",
       "      <td>1 000 Places to See Before You Die</td>\n",
       "      <td>992</td>\n",
       "      <td>2003-05-22</td>\n",
       "      <td>336</td>\n",
       "    </tr>\n",
       "    <tr>\n",
       "      <th>2</th>\n",
       "      <td>3</td>\n",
       "      <td>407</td>\n",
       "      <td>13 Little Blue Envelopes (Little Blue Envelope...</td>\n",
       "      <td>322</td>\n",
       "      <td>2010-12-21</td>\n",
       "      <td>135</td>\n",
       "    </tr>\n",
       "    <tr>\n",
       "      <th>3</th>\n",
       "      <td>4</td>\n",
       "      <td>82</td>\n",
       "      <td>1491: New Revelations of the Americas Before C...</td>\n",
       "      <td>541</td>\n",
       "      <td>2006-10-10</td>\n",
       "      <td>309</td>\n",
       "    </tr>\n",
       "    <tr>\n",
       "      <th>4</th>\n",
       "      <td>5</td>\n",
       "      <td>125</td>\n",
       "      <td>1776</td>\n",
       "      <td>386</td>\n",
       "      <td>2006-07-04</td>\n",
       "      <td>268</td>\n",
       "    </tr>\n",
       "  </tbody>\n",
       "</table>\n",
       "</div>"
      ],
      "text/plain": [
       "   book_id  author_id                                              title  \\\n",
       "0        1        546                                       'Salem's Lot   \n",
       "1        2        465                 1 000 Places to See Before You Die   \n",
       "2        3        407  13 Little Blue Envelopes (Little Blue Envelope...   \n",
       "3        4         82  1491: New Revelations of the Americas Before C...   \n",
       "4        5        125                                               1776   \n",
       "\n",
       "   num_pages publication_date  publisher_id  \n",
       "0        594       2005-11-01            93  \n",
       "1        992       2003-05-22           336  \n",
       "2        322       2010-12-21           135  \n",
       "3        541       2006-10-10           309  \n",
       "4        386       2006-07-04           268  "
      ]
     },
     "execution_count": 3,
     "metadata": {},
     "output_type": "execute_result"
    }
   ],
   "source": [
    "query = '''SELECT * \n",
    "           FROM books \n",
    "           LIMIT 5\n",
    "        '''\n",
    "pd.io.sql.read_sql(sql=text(query), con = con)"
   ]
  },
  {
   "cell_type": "markdown",
   "metadata": {},
   "source": [
    "Таблица содержит данные о книгах:\n",
    "- book_id — идентификатор книги\n",
    "- author_id — идентификатор автора\n",
    "- title — название книги\n",
    "- num_pages — количество страниц\n",
    "- publication_date — дата публикации книги\n",
    "- publisher_id — идентификатор издателя"
   ]
  },
  {
   "cell_type": "code",
   "execution_count": 4,
   "metadata": {},
   "outputs": [
    {
     "data": {
      "text/html": [
       "<div>\n",
       "<style scoped>\n",
       "    .dataframe tbody tr th:only-of-type {\n",
       "        vertical-align: middle;\n",
       "    }\n",
       "\n",
       "    .dataframe tbody tr th {\n",
       "        vertical-align: top;\n",
       "    }\n",
       "\n",
       "    .dataframe thead th {\n",
       "        text-align: right;\n",
       "    }\n",
       "</style>\n",
       "<table border=\"1\" class=\"dataframe\">\n",
       "  <thead>\n",
       "    <tr style=\"text-align: right;\">\n",
       "      <th></th>\n",
       "      <th>author_id</th>\n",
       "      <th>author</th>\n",
       "    </tr>\n",
       "  </thead>\n",
       "  <tbody>\n",
       "    <tr>\n",
       "      <th>0</th>\n",
       "      <td>1</td>\n",
       "      <td>A.S. Byatt</td>\n",
       "    </tr>\n",
       "    <tr>\n",
       "      <th>1</th>\n",
       "      <td>2</td>\n",
       "      <td>Aesop/Laura Harris/Laura Gibbs</td>\n",
       "    </tr>\n",
       "    <tr>\n",
       "      <th>2</th>\n",
       "      <td>3</td>\n",
       "      <td>Agatha Christie</td>\n",
       "    </tr>\n",
       "    <tr>\n",
       "      <th>3</th>\n",
       "      <td>4</td>\n",
       "      <td>Alan Brennert</td>\n",
       "    </tr>\n",
       "    <tr>\n",
       "      <th>4</th>\n",
       "      <td>5</td>\n",
       "      <td>Alan Moore/David   Lloyd</td>\n",
       "    </tr>\n",
       "  </tbody>\n",
       "</table>\n",
       "</div>"
      ],
      "text/plain": [
       "   author_id                          author\n",
       "0          1                      A.S. Byatt\n",
       "1          2  Aesop/Laura Harris/Laura Gibbs\n",
       "2          3                 Agatha Christie\n",
       "3          4                   Alan Brennert\n",
       "4          5        Alan Moore/David   Lloyd"
      ]
     },
     "execution_count": 4,
     "metadata": {},
     "output_type": "execute_result"
    }
   ],
   "source": [
    "query = '''SELECT * \n",
    "           FROM authors \n",
    "           LIMIT 5\n",
    "        '''\n",
    "pd.io.sql.read_sql(sql=text(query), con = con)"
   ]
  },
  {
   "cell_type": "markdown",
   "metadata": {},
   "source": [
    "Таблица содержит данные об авторах:\n",
    "- author_id — идентификатор автора\n",
    "- author — имя автора"
   ]
  },
  {
   "cell_type": "code",
   "execution_count": 5,
   "metadata": {},
   "outputs": [
    {
     "data": {
      "text/html": [
       "<div>\n",
       "<style scoped>\n",
       "    .dataframe tbody tr th:only-of-type {\n",
       "        vertical-align: middle;\n",
       "    }\n",
       "\n",
       "    .dataframe tbody tr th {\n",
       "        vertical-align: top;\n",
       "    }\n",
       "\n",
       "    .dataframe thead th {\n",
       "        text-align: right;\n",
       "    }\n",
       "</style>\n",
       "<table border=\"1\" class=\"dataframe\">\n",
       "  <thead>\n",
       "    <tr style=\"text-align: right;\">\n",
       "      <th></th>\n",
       "      <th>publisher_id</th>\n",
       "      <th>publisher</th>\n",
       "    </tr>\n",
       "  </thead>\n",
       "  <tbody>\n",
       "    <tr>\n",
       "      <th>0</th>\n",
       "      <td>1</td>\n",
       "      <td>Ace</td>\n",
       "    </tr>\n",
       "    <tr>\n",
       "      <th>1</th>\n",
       "      <td>2</td>\n",
       "      <td>Ace Book</td>\n",
       "    </tr>\n",
       "    <tr>\n",
       "      <th>2</th>\n",
       "      <td>3</td>\n",
       "      <td>Ace Books</td>\n",
       "    </tr>\n",
       "    <tr>\n",
       "      <th>3</th>\n",
       "      <td>4</td>\n",
       "      <td>Ace Hardcover</td>\n",
       "    </tr>\n",
       "    <tr>\n",
       "      <th>4</th>\n",
       "      <td>5</td>\n",
       "      <td>Addison Wesley Publishing Company</td>\n",
       "    </tr>\n",
       "  </tbody>\n",
       "</table>\n",
       "</div>"
      ],
      "text/plain": [
       "   publisher_id                          publisher\n",
       "0             1                                Ace\n",
       "1             2                           Ace Book\n",
       "2             3                          Ace Books\n",
       "3             4                      Ace Hardcover\n",
       "4             5  Addison Wesley Publishing Company"
      ]
     },
     "execution_count": 5,
     "metadata": {},
     "output_type": "execute_result"
    }
   ],
   "source": [
    "query = '''SELECT * \n",
    "           FROM publishers \n",
    "           LIMIT 5\n",
    "        '''\n",
    "pd.io.sql.read_sql(sql=text(query), con = con)"
   ]
  },
  {
   "cell_type": "markdown",
   "metadata": {},
   "source": [
    "Таблица содержит данные об издательствах:\n",
    "- publisher_id — идентификатор издательства\n",
    "- publisher — название издательства"
   ]
  },
  {
   "cell_type": "code",
   "execution_count": 6,
   "metadata": {},
   "outputs": [
    {
     "data": {
      "text/html": [
       "<div>\n",
       "<style scoped>\n",
       "    .dataframe tbody tr th:only-of-type {\n",
       "        vertical-align: middle;\n",
       "    }\n",
       "\n",
       "    .dataframe tbody tr th {\n",
       "        vertical-align: top;\n",
       "    }\n",
       "\n",
       "    .dataframe thead th {\n",
       "        text-align: right;\n",
       "    }\n",
       "</style>\n",
       "<table border=\"1\" class=\"dataframe\">\n",
       "  <thead>\n",
       "    <tr style=\"text-align: right;\">\n",
       "      <th></th>\n",
       "      <th>rating_id</th>\n",
       "      <th>book_id</th>\n",
       "      <th>username</th>\n",
       "      <th>rating</th>\n",
       "    </tr>\n",
       "  </thead>\n",
       "  <tbody>\n",
       "    <tr>\n",
       "      <th>0</th>\n",
       "      <td>1</td>\n",
       "      <td>1</td>\n",
       "      <td>ryanfranco</td>\n",
       "      <td>4</td>\n",
       "    </tr>\n",
       "    <tr>\n",
       "      <th>1</th>\n",
       "      <td>2</td>\n",
       "      <td>1</td>\n",
       "      <td>grantpatricia</td>\n",
       "      <td>2</td>\n",
       "    </tr>\n",
       "    <tr>\n",
       "      <th>2</th>\n",
       "      <td>3</td>\n",
       "      <td>1</td>\n",
       "      <td>brandtandrea</td>\n",
       "      <td>5</td>\n",
       "    </tr>\n",
       "    <tr>\n",
       "      <th>3</th>\n",
       "      <td>4</td>\n",
       "      <td>2</td>\n",
       "      <td>lorichen</td>\n",
       "      <td>3</td>\n",
       "    </tr>\n",
       "    <tr>\n",
       "      <th>4</th>\n",
       "      <td>5</td>\n",
       "      <td>2</td>\n",
       "      <td>mariokeller</td>\n",
       "      <td>2</td>\n",
       "    </tr>\n",
       "  </tbody>\n",
       "</table>\n",
       "</div>"
      ],
      "text/plain": [
       "   rating_id  book_id       username  rating\n",
       "0          1        1     ryanfranco       4\n",
       "1          2        1  grantpatricia       2\n",
       "2          3        1   brandtandrea       5\n",
       "3          4        2       lorichen       3\n",
       "4          5        2    mariokeller       2"
      ]
     },
     "execution_count": 6,
     "metadata": {},
     "output_type": "execute_result"
    }
   ],
   "source": [
    "query = '''SELECT * \n",
    "           FROM ratings \n",
    "           LIMIT 5\n",
    "        '''\n",
    "pd.io.sql.read_sql(sql=text(query), con = con)"
   ]
  },
  {
   "cell_type": "markdown",
   "metadata": {},
   "source": [
    "Таблица содержит данные о пользовательских оценках книг:\n",
    "- rating_id — идентификатор оценки\n",
    "- book_id — идентификатор книги\n",
    "- username — имя пользователя, оставившего оценку\n",
    "- rating — оценка книги"
   ]
  },
  {
   "cell_type": "code",
   "execution_count": 7,
   "metadata": {},
   "outputs": [
    {
     "data": {
      "text/html": [
       "<div>\n",
       "<style scoped>\n",
       "    .dataframe tbody tr th:only-of-type {\n",
       "        vertical-align: middle;\n",
       "    }\n",
       "\n",
       "    .dataframe tbody tr th {\n",
       "        vertical-align: top;\n",
       "    }\n",
       "\n",
       "    .dataframe thead th {\n",
       "        text-align: right;\n",
       "    }\n",
       "</style>\n",
       "<table border=\"1\" class=\"dataframe\">\n",
       "  <thead>\n",
       "    <tr style=\"text-align: right;\">\n",
       "      <th></th>\n",
       "      <th>review_id</th>\n",
       "      <th>book_id</th>\n",
       "      <th>username</th>\n",
       "      <th>text</th>\n",
       "    </tr>\n",
       "  </thead>\n",
       "  <tbody>\n",
       "    <tr>\n",
       "      <th>0</th>\n",
       "      <td>1</td>\n",
       "      <td>1</td>\n",
       "      <td>brandtandrea</td>\n",
       "      <td>Mention society tell send professor analysis. ...</td>\n",
       "    </tr>\n",
       "    <tr>\n",
       "      <th>1</th>\n",
       "      <td>2</td>\n",
       "      <td>1</td>\n",
       "      <td>ryanfranco</td>\n",
       "      <td>Foot glass pretty audience hit themselves. Amo...</td>\n",
       "    </tr>\n",
       "    <tr>\n",
       "      <th>2</th>\n",
       "      <td>3</td>\n",
       "      <td>2</td>\n",
       "      <td>lorichen</td>\n",
       "      <td>Listen treat keep worry. Miss husband tax but ...</td>\n",
       "    </tr>\n",
       "    <tr>\n",
       "      <th>3</th>\n",
       "      <td>4</td>\n",
       "      <td>3</td>\n",
       "      <td>johnsonamanda</td>\n",
       "      <td>Finally month interesting blue could nature cu...</td>\n",
       "    </tr>\n",
       "    <tr>\n",
       "      <th>4</th>\n",
       "      <td>5</td>\n",
       "      <td>3</td>\n",
       "      <td>scotttamara</td>\n",
       "      <td>Nation purpose heavy give wait song will. List...</td>\n",
       "    </tr>\n",
       "  </tbody>\n",
       "</table>\n",
       "</div>"
      ],
      "text/plain": [
       "   review_id  book_id       username  \\\n",
       "0          1        1   brandtandrea   \n",
       "1          2        1     ryanfranco   \n",
       "2          3        2       lorichen   \n",
       "3          4        3  johnsonamanda   \n",
       "4          5        3    scotttamara   \n",
       "\n",
       "                                                text  \n",
       "0  Mention society tell send professor analysis. ...  \n",
       "1  Foot glass pretty audience hit themselves. Amo...  \n",
       "2  Listen treat keep worry. Miss husband tax but ...  \n",
       "3  Finally month interesting blue could nature cu...  \n",
       "4  Nation purpose heavy give wait song will. List...  "
      ]
     },
     "execution_count": 7,
     "metadata": {},
     "output_type": "execute_result"
    }
   ],
   "source": [
    "query = '''SELECT * \n",
    "           FROM reviews\n",
    "           LIMIT 5\n",
    "        '''\n",
    "pd.io.sql.read_sql(sql=text(query), con = con)"
   ]
  },
  {
   "cell_type": "markdown",
   "metadata": {},
   "source": [
    "Таблица содержит данные о пользовательских обзорах:\n",
    "- review_id — идентификатор обзора\n",
    "- book_id — идентификатор книги\n",
    "- username — имя автора обзора\n",
    "- text — текст обзора"
   ]
  },
  {
   "cell_type": "markdown",
   "metadata": {},
   "source": [
    "## Определим,  сколько книг вышло после 1 января 2000 года"
   ]
  },
  {
   "cell_type": "code",
   "execution_count": 8,
   "metadata": {},
   "outputs": [
    {
     "data": {
      "text/html": [
       "<div>\n",
       "<style scoped>\n",
       "    .dataframe tbody tr th:only-of-type {\n",
       "        vertical-align: middle;\n",
       "    }\n",
       "\n",
       "    .dataframe tbody tr th {\n",
       "        vertical-align: top;\n",
       "    }\n",
       "\n",
       "    .dataframe thead th {\n",
       "        text-align: right;\n",
       "    }\n",
       "</style>\n",
       "<table border=\"1\" class=\"dataframe\">\n",
       "  <thead>\n",
       "    <tr style=\"text-align: right;\">\n",
       "      <th></th>\n",
       "      <th>count</th>\n",
       "    </tr>\n",
       "  </thead>\n",
       "  <tbody>\n",
       "    <tr>\n",
       "      <th>0</th>\n",
       "      <td>819</td>\n",
       "    </tr>\n",
       "  </tbody>\n",
       "</table>\n",
       "</div>"
      ],
      "text/plain": [
       "   count\n",
       "0    819"
      ]
     },
     "execution_count": 8,
     "metadata": {},
     "output_type": "execute_result"
    }
   ],
   "source": [
    "query = '''SELECT COUNT(book_id) \n",
    "           FROM books\n",
    "           WHERE publication_date > '2000-01-01'\n",
    "        '''\n",
    "pd.io.sql.read_sql(sql=text(query), con = con)"
   ]
  },
  {
   "cell_type": "markdown",
   "metadata": {},
   "source": [
    "После 1 января 2000 года вышло 819 книг"
   ]
  },
  {
   "cell_type": "markdown",
   "metadata": {},
   "source": [
    "## Для каждой книги посчитаем количество обзоров и среднюю оценку"
   ]
  },
  {
   "cell_type": "code",
   "execution_count": 9,
   "metadata": {
    "scrolled": false
   },
   "outputs": [
    {
     "data": {
      "text/html": [
       "<div>\n",
       "<style scoped>\n",
       "    .dataframe tbody tr th:only-of-type {\n",
       "        vertical-align: middle;\n",
       "    }\n",
       "\n",
       "    .dataframe tbody tr th {\n",
       "        vertical-align: top;\n",
       "    }\n",
       "\n",
       "    .dataframe thead th {\n",
       "        text-align: right;\n",
       "    }\n",
       "</style>\n",
       "<table border=\"1\" class=\"dataframe\">\n",
       "  <thead>\n",
       "    <tr style=\"text-align: right;\">\n",
       "      <th></th>\n",
       "      <th>books</th>\n",
       "      <th>count_review</th>\n",
       "      <th>avg_rating</th>\n",
       "    </tr>\n",
       "  </thead>\n",
       "  <tbody>\n",
       "    <tr>\n",
       "      <th>0</th>\n",
       "      <td>A Dirty Job (Grim Reaper  #1)</td>\n",
       "      <td>4</td>\n",
       "      <td>5.00</td>\n",
       "    </tr>\n",
       "    <tr>\n",
       "      <th>1</th>\n",
       "      <td>Moneyball: The Art of Winning an Unfair Game</td>\n",
       "      <td>3</td>\n",
       "      <td>5.00</td>\n",
       "    </tr>\n",
       "    <tr>\n",
       "      <th>2</th>\n",
       "      <td>School's Out—Forever (Maximum Ride  #2)</td>\n",
       "      <td>3</td>\n",
       "      <td>5.00</td>\n",
       "    </tr>\n",
       "    <tr>\n",
       "      <th>3</th>\n",
       "      <td>Wherever You Go  There You Are: Mindfulness Me...</td>\n",
       "      <td>2</td>\n",
       "      <td>5.00</td>\n",
       "    </tr>\n",
       "    <tr>\n",
       "      <th>4</th>\n",
       "      <td>Act of Treason (Mitch Rapp  #9)</td>\n",
       "      <td>2</td>\n",
       "      <td>5.00</td>\n",
       "    </tr>\n",
       "    <tr>\n",
       "      <th>...</th>\n",
       "      <td>...</td>\n",
       "      <td>...</td>\n",
       "      <td>...</td>\n",
       "    </tr>\n",
       "    <tr>\n",
       "      <th>994</th>\n",
       "      <td>The World Is Flat: A Brief History of the Twen...</td>\n",
       "      <td>3</td>\n",
       "      <td>2.25</td>\n",
       "    </tr>\n",
       "    <tr>\n",
       "      <th>995</th>\n",
       "      <td>Drowning Ruth</td>\n",
       "      <td>3</td>\n",
       "      <td>2.00</td>\n",
       "    </tr>\n",
       "    <tr>\n",
       "      <th>996</th>\n",
       "      <td>His Excellency: George Washington</td>\n",
       "      <td>2</td>\n",
       "      <td>2.00</td>\n",
       "    </tr>\n",
       "    <tr>\n",
       "      <th>997</th>\n",
       "      <td>Junky</td>\n",
       "      <td>2</td>\n",
       "      <td>2.00</td>\n",
       "    </tr>\n",
       "    <tr>\n",
       "      <th>998</th>\n",
       "      <td>Harvesting the Heart</td>\n",
       "      <td>2</td>\n",
       "      <td>1.50</td>\n",
       "    </tr>\n",
       "  </tbody>\n",
       "</table>\n",
       "<p>999 rows × 3 columns</p>\n",
       "</div>"
      ],
      "text/plain": [
       "                                                 books  count_review  \\\n",
       "0                        A Dirty Job (Grim Reaper  #1)             4   \n",
       "1         Moneyball: The Art of Winning an Unfair Game             3   \n",
       "2              School's Out—Forever (Maximum Ride  #2)             3   \n",
       "3    Wherever You Go  There You Are: Mindfulness Me...             2   \n",
       "4                      Act of Treason (Mitch Rapp  #9)             2   \n",
       "..                                                 ...           ...   \n",
       "994  The World Is Flat: A Brief History of the Twen...             3   \n",
       "995                                      Drowning Ruth             3   \n",
       "996                  His Excellency: George Washington             2   \n",
       "997                                              Junky             2   \n",
       "998                               Harvesting the Heart             2   \n",
       "\n",
       "     avg_rating  \n",
       "0          5.00  \n",
       "1          5.00  \n",
       "2          5.00  \n",
       "3          5.00  \n",
       "4          5.00  \n",
       "..          ...  \n",
       "994        2.25  \n",
       "995        2.00  \n",
       "996        2.00  \n",
       "997        2.00  \n",
       "998        1.50  \n",
       "\n",
       "[999 rows x 3 columns]"
      ]
     },
     "execution_count": 9,
     "metadata": {},
     "output_type": "execute_result"
    }
   ],
   "source": [
    "query = '''SELECT b.title AS books,\n",
    "                  COUNT(DISTINCT r.review_id) AS count_review,\n",
    "                  AVG(rat.rating) AS avg_rating\n",
    "           FROM books AS b\n",
    "           LEFT JOIN reviews AS r ON b.book_id = r.book_id\n",
    "           LEFT JOIN ratings AS rat ON b.book_id = rat.book_id\n",
    "           GROUP BY b.title\n",
    "           ORDER BY avg_rating DESC, count_review DESC\n",
    "        '''\n",
    "pd.io.sql.read_sql(sql=text(query), con = con)"
   ]
  },
  {
   "cell_type": "markdown",
   "metadata": {},
   "source": [
    "Самым высоким показателем является 4 обзора и \"5\" в качестве средней оценки.\n",
    "\n",
    "На последнем месте книга Harvesting the Heart с 2 обзорами и средней оценкой в 1.5"
   ]
  },
  {
   "cell_type": "markdown",
   "metadata": {},
   "source": [
    "## Определим издательство, которое выпустило наибольшее число книг толще 50 страниц — так мы исключим из анализа брошюры"
   ]
  },
  {
   "cell_type": "code",
   "execution_count": 10,
   "metadata": {},
   "outputs": [
    {
     "data": {
      "text/html": [
       "<div>\n",
       "<style scoped>\n",
       "    .dataframe tbody tr th:only-of-type {\n",
       "        vertical-align: middle;\n",
       "    }\n",
       "\n",
       "    .dataframe tbody tr th {\n",
       "        vertical-align: top;\n",
       "    }\n",
       "\n",
       "    .dataframe thead th {\n",
       "        text-align: right;\n",
       "    }\n",
       "</style>\n",
       "<table border=\"1\" class=\"dataframe\">\n",
       "  <thead>\n",
       "    <tr style=\"text-align: right;\">\n",
       "      <th></th>\n",
       "      <th>publisher</th>\n",
       "      <th>count</th>\n",
       "    </tr>\n",
       "  </thead>\n",
       "  <tbody>\n",
       "    <tr>\n",
       "      <th>0</th>\n",
       "      <td>Penguin Books</td>\n",
       "      <td>42</td>\n",
       "    </tr>\n",
       "  </tbody>\n",
       "</table>\n",
       "</div>"
      ],
      "text/plain": [
       "       publisher  count\n",
       "0  Penguin Books     42"
      ]
     },
     "execution_count": 10,
     "metadata": {},
     "output_type": "execute_result"
    }
   ],
   "source": [
    "query = '''SELECT p.publisher,\n",
    "                  COUNT(DISTINCT b.title)\n",
    "           FROM books AS b\n",
    "           LEFT JOIN publishers AS p ON b.publisher_id = p.publisher_id\n",
    "           WHERE b.num_pages > 50\n",
    "           GROUP BY p.publisher\n",
    "           ORDER BY COUNT(DISTINCT b.title) DESC\n",
    "           LIMIT 1\n",
    "        '''\n",
    "pd.io.sql.read_sql(sql=text(query), con = con)"
   ]
  },
  {
   "cell_type": "markdown",
   "metadata": {},
   "source": [
    "Лидером по выпуску книг толще 50 страниц, является издательство Penguin Books, они выпустили 42 книги"
   ]
  },
  {
   "cell_type": "markdown",
   "metadata": {},
   "source": [
    "## Определим автора с самой высокой средней оценкой книг — учитываем только книги с 50 и более оценками"
   ]
  },
  {
   "cell_type": "code",
   "execution_count": 11,
   "metadata": {},
   "outputs": [
    {
     "data": {
      "text/html": [
       "<div>\n",
       "<style scoped>\n",
       "    .dataframe tbody tr th:only-of-type {\n",
       "        vertical-align: middle;\n",
       "    }\n",
       "\n",
       "    .dataframe tbody tr th {\n",
       "        vertical-align: top;\n",
       "    }\n",
       "\n",
       "    .dataframe thead th {\n",
       "        text-align: right;\n",
       "    }\n",
       "</style>\n",
       "<table border=\"1\" class=\"dataframe\">\n",
       "  <thead>\n",
       "    <tr style=\"text-align: right;\">\n",
       "      <th></th>\n",
       "      <th>author</th>\n",
       "      <th>avg</th>\n",
       "    </tr>\n",
       "  </thead>\n",
       "  <tbody>\n",
       "    <tr>\n",
       "      <th>0</th>\n",
       "      <td>J.K. Rowling/Mary GrandPré</td>\n",
       "      <td>4.287097</td>\n",
       "    </tr>\n",
       "  </tbody>\n",
       "</table>\n",
       "</div>"
      ],
      "text/plain": [
       "                       author       avg\n",
       "0  J.K. Rowling/Mary GrandPré  4.287097"
      ]
     },
     "execution_count": 11,
     "metadata": {},
     "output_type": "execute_result"
    }
   ],
   "source": [
    "query = '''WITH cut AS (SELECT book_id\n",
    "                        FROM ratings\n",
    "                        GROUP BY book_id\n",
    "                        HAVING COUNT(rating_id) > 50)\n",
    "           SELECT a.author,\n",
    "                  AVG(r.rating)\n",
    "           FROM books AS b\n",
    "           INNER JOIN cut ON cut.book_id = b.book_id\n",
    "           INNER JOIN authors AS a ON b.author_id = a.author_id\n",
    "           INNER JOIN ratings AS r ON cut.book_id = r.book_id\n",
    "           GROUP BY author\n",
    "           ORDER BY AVG(r.rating) DESC\n",
    "           LIMIT 1\n",
    "        '''\n",
    "pd.io.sql.read_sql(sql=text(query), con = con)"
   ]
  },
  {
   "cell_type": "markdown",
   "metadata": {},
   "source": [
    "Автором с самой высокой средней оценкой книг, оказалась J.K. Rowling"
   ]
  },
  {
   "cell_type": "markdown",
   "metadata": {},
   "source": [
    "## Посчитаем среднее количество обзоров от пользователей, которые поставили больше 48 оценок"
   ]
  },
  {
   "cell_type": "code",
   "execution_count": 12,
   "metadata": {},
   "outputs": [
    {
     "data": {
      "text/html": [
       "<div>\n",
       "<style scoped>\n",
       "    .dataframe tbody tr th:only-of-type {\n",
       "        vertical-align: middle;\n",
       "    }\n",
       "\n",
       "    .dataframe tbody tr th {\n",
       "        vertical-align: top;\n",
       "    }\n",
       "\n",
       "    .dataframe thead th {\n",
       "        text-align: right;\n",
       "    }\n",
       "</style>\n",
       "<table border=\"1\" class=\"dataframe\">\n",
       "  <thead>\n",
       "    <tr style=\"text-align: right;\">\n",
       "      <th></th>\n",
       "      <th>avg</th>\n",
       "    </tr>\n",
       "  </thead>\n",
       "  <tbody>\n",
       "    <tr>\n",
       "      <th>0</th>\n",
       "      <td>24</td>\n",
       "    </tr>\n",
       "  </tbody>\n",
       "</table>\n",
       "</div>"
      ],
      "text/plain": [
       "   avg\n",
       "0   24"
      ]
     },
     "execution_count": 12,
     "metadata": {},
     "output_type": "execute_result"
    }
   ],
   "source": [
    "query = '''SELECT COUNT(DISTINCT rev.text)/ COUNT(DISTINCT rev.username) AS avg\n",
    "           FROM ratings AS r\n",
    "           INNER JOIN reviews AS rev ON r.username = rev.username\n",
    "           WHERE r.username in (SELECT username\n",
    "                                FROM ratings\n",
    "                                GROUP BY username\n",
    "                                HAVING COUNT(rating_id) > 48)\n",
    "        '''\n",
    "pd.io.sql.read_sql(sql=text(query), con = con)"
   ]
  },
  {
   "cell_type": "markdown",
   "metadata": {},
   "source": [
    "В среднем пользователи, поставившие более 48 оценок, пишут 24 обзора"
   ]
  }
 ],
 "metadata": {
  "ExecuteTimeLog": [
   {
    "duration": 531,
    "start_time": "2023-07-08T08:13:48.320Z"
   },
   {
    "duration": 29092,
    "start_time": "2023-07-08T08:13:49.965Z"
   },
   {
    "duration": 53,
    "start_time": "2023-07-08T08:14:21.692Z"
   },
   {
    "duration": 567,
    "start_time": "2023-07-08T08:15:04.377Z"
   },
   {
    "duration": 28229,
    "start_time": "2023-07-08T08:15:04.946Z"
   },
   {
    "duration": 27,
    "start_time": "2023-07-08T08:15:33.177Z"
   },
   {
    "duration": 11,
    "start_time": "2023-07-08T08:21:46.018Z"
   },
   {
    "duration": 11,
    "start_time": "2023-07-08T08:22:12.713Z"
   },
   {
    "duration": 567,
    "start_time": "2023-07-08T08:22:56.046Z"
   },
   {
    "duration": 24306,
    "start_time": "2023-07-08T08:22:56.615Z"
   },
   {
    "duration": 22,
    "start_time": "2023-07-08T08:23:20.922Z"
   },
   {
    "duration": 10,
    "start_time": "2023-07-08T08:23:20.946Z"
   },
   {
    "duration": 12,
    "start_time": "2023-07-08T08:23:20.958Z"
   },
   {
    "duration": 22,
    "start_time": "2023-07-08T08:23:20.972Z"
   },
   {
    "duration": 15,
    "start_time": "2023-07-08T08:23:20.996Z"
   },
   {
    "duration": 21,
    "start_time": "2023-07-08T08:33:18.604Z"
   },
   {
    "duration": 20,
    "start_time": "2023-07-08T08:34:55.766Z"
   },
   {
    "duration": 9,
    "start_time": "2023-07-08T08:35:23.838Z"
   },
   {
    "duration": 556,
    "start_time": "2023-07-10T12:09:30.597Z"
   },
   {
    "duration": 12330,
    "start_time": "2023-07-10T12:09:31.157Z"
   },
   {
    "duration": 21,
    "start_time": "2023-07-10T12:09:43.489Z"
   },
   {
    "duration": 10,
    "start_time": "2023-07-10T12:09:43.512Z"
   },
   {
    "duration": 10,
    "start_time": "2023-07-10T12:09:43.523Z"
   },
   {
    "duration": 10,
    "start_time": "2023-07-10T12:09:43.535Z"
   },
   {
    "duration": 15,
    "start_time": "2023-07-10T12:09:43.547Z"
   },
   {
    "duration": 9,
    "start_time": "2023-07-10T12:09:43.564Z"
   },
   {
    "duration": 12,
    "start_time": "2023-07-10T12:52:55.889Z"
   },
   {
    "duration": 96,
    "start_time": "2023-07-10T12:59:38.787Z"
   },
   {
    "duration": 20,
    "start_time": "2023-07-10T12:59:46.565Z"
   },
   {
    "duration": 21,
    "start_time": "2023-07-10T13:00:21.844Z"
   },
   {
    "duration": 33,
    "start_time": "2023-07-10T13:01:02.350Z"
   },
   {
    "duration": 16,
    "start_time": "2023-07-10T13:01:17.991Z"
   },
   {
    "duration": 21,
    "start_time": "2023-07-10T13:09:29.986Z"
   },
   {
    "duration": 21,
    "start_time": "2023-07-10T13:09:44.194Z"
   },
   {
    "duration": 23,
    "start_time": "2023-07-10T13:11:18.049Z"
   },
   {
    "duration": 19,
    "start_time": "2023-07-10T13:11:31.701Z"
   },
   {
    "duration": 20,
    "start_time": "2023-07-10T13:11:46.897Z"
   },
   {
    "duration": 30,
    "start_time": "2023-07-10T13:12:31.852Z"
   },
   {
    "duration": 26,
    "start_time": "2023-07-10T13:13:26.945Z"
   },
   {
    "duration": 26,
    "start_time": "2023-07-10T13:13:38.213Z"
   },
   {
    "duration": 33,
    "start_time": "2023-07-10T13:14:12.301Z"
   },
   {
    "duration": 36,
    "start_time": "2023-07-10T13:14:48.856Z"
   },
   {
    "duration": 33,
    "start_time": "2023-07-10T13:15:09.661Z"
   },
   {
    "duration": 31,
    "start_time": "2023-07-10T13:15:23.594Z"
   },
   {
    "duration": 10,
    "start_time": "2023-07-10T13:22:18.538Z"
   },
   {
    "duration": 16,
    "start_time": "2023-07-10T13:23:58.895Z"
   },
   {
    "duration": 14,
    "start_time": "2023-07-10T13:25:25.634Z"
   },
   {
    "duration": 14,
    "start_time": "2023-07-10T13:26:10.982Z"
   },
   {
    "duration": 17,
    "start_time": "2023-07-10T13:26:38.611Z"
   },
   {
    "duration": 15,
    "start_time": "2023-07-10T13:26:44.522Z"
   },
   {
    "duration": 19,
    "start_time": "2023-07-10T14:22:08.674Z"
   },
   {
    "duration": 22,
    "start_time": "2023-07-10T14:23:39.162Z"
   },
   {
    "duration": 15,
    "start_time": "2023-07-10T14:23:46.390Z"
   },
   {
    "duration": 14,
    "start_time": "2023-07-10T14:23:55.727Z"
   },
   {
    "duration": 15,
    "start_time": "2023-07-10T14:24:11.358Z"
   },
   {
    "duration": 21,
    "start_time": "2023-07-10T14:25:01.803Z"
   },
   {
    "duration": 14,
    "start_time": "2023-07-10T14:25:26.703Z"
   },
   {
    "duration": 16,
    "start_time": "2023-07-10T14:26:51.415Z"
   },
   {
    "duration": 21,
    "start_time": "2023-07-10T14:27:47.739Z"
   },
   {
    "duration": 21,
    "start_time": "2023-07-10T14:28:24.311Z"
   },
   {
    "duration": 19,
    "start_time": "2023-07-10T14:29:22.167Z"
   },
   {
    "duration": 20,
    "start_time": "2023-07-10T14:29:27.951Z"
   },
   {
    "duration": 19,
    "start_time": "2023-07-10T14:29:39.731Z"
   },
   {
    "duration": 21,
    "start_time": "2023-07-10T14:29:55.324Z"
   },
   {
    "duration": 15,
    "start_time": "2023-07-10T14:30:06.655Z"
   },
   {
    "duration": 13,
    "start_time": "2023-07-10T14:30:22.991Z"
   },
   {
    "duration": 942,
    "start_time": "2023-07-10T14:30:31.943Z"
   },
   {
    "duration": 543,
    "start_time": "2023-07-10T23:13:30.411Z"
   },
   {
    "duration": 11516,
    "start_time": "2023-07-10T23:13:30.958Z"
   },
   {
    "duration": 50,
    "start_time": "2023-07-10T23:13:42.476Z"
   },
   {
    "duration": 38,
    "start_time": "2023-07-10T23:13:42.528Z"
   },
   {
    "duration": 28,
    "start_time": "2023-07-10T23:13:42.568Z"
   },
   {
    "duration": 29,
    "start_time": "2023-07-10T23:13:42.598Z"
   },
   {
    "duration": 39,
    "start_time": "2023-07-10T23:13:42.629Z"
   },
   {
    "duration": 53,
    "start_time": "2023-07-10T23:13:42.670Z"
   },
   {
    "duration": 79,
    "start_time": "2023-07-10T23:13:42.724Z"
   },
   {
    "duration": 54,
    "start_time": "2023-07-10T23:13:42.806Z"
   },
   {
    "duration": 39,
    "start_time": "2023-07-10T23:13:42.870Z"
   },
   {
    "duration": 33,
    "start_time": "2023-07-10T23:17:04.890Z"
   },
   {
    "duration": 32,
    "start_time": "2023-07-10T23:17:16.283Z"
   },
   {
    "duration": 123,
    "start_time": "2023-07-10T23:19:11.762Z"
   },
   {
    "duration": 68,
    "start_time": "2023-07-10T23:19:26.004Z"
   },
   {
    "duration": 64,
    "start_time": "2023-07-10T23:19:32.426Z"
   },
   {
    "duration": 35,
    "start_time": "2023-07-10T23:19:43.854Z"
   },
   {
    "duration": 57,
    "start_time": "2023-07-10T23:24:33.815Z"
   },
   {
    "duration": 109,
    "start_time": "2023-07-10T23:25:52.191Z"
   },
   {
    "duration": 53,
    "start_time": "2023-07-10T23:27:51.718Z"
   },
   {
    "duration": 56,
    "start_time": "2023-07-10T23:28:06.553Z"
   },
   {
    "duration": 45,
    "start_time": "2023-07-10T23:30:02.585Z"
   },
   {
    "duration": 33,
    "start_time": "2023-07-10T23:30:13.487Z"
   },
   {
    "duration": 32,
    "start_time": "2023-07-10T23:33:07.656Z"
   },
   {
    "duration": 50,
    "start_time": "2023-07-10T23:33:36.108Z"
   },
   {
    "duration": 54,
    "start_time": "2023-07-10T23:35:03.568Z"
   },
   {
    "duration": 48,
    "start_time": "2023-07-10T23:35:19.862Z"
   },
   {
    "duration": 54,
    "start_time": "2023-07-10T23:35:34.063Z"
   },
   {
    "duration": 50,
    "start_time": "2023-07-10T23:38:03.060Z"
   },
   {
    "duration": 65,
    "start_time": "2023-07-10T23:38:17.416Z"
   },
   {
    "duration": 45,
    "start_time": "2023-07-10T23:38:28.996Z"
   },
   {
    "duration": 31,
    "start_time": "2023-07-10T23:39:13.686Z"
   },
   {
    "duration": 58,
    "start_time": "2023-07-10T23:44:34.357Z"
   },
   {
    "duration": 43,
    "start_time": "2023-07-10T23:45:14.137Z"
   },
   {
    "duration": 49,
    "start_time": "2023-07-10T23:46:22.351Z"
   },
   {
    "duration": 92,
    "start_time": "2023-07-10T23:46:46.443Z"
   },
   {
    "duration": 78,
    "start_time": "2023-07-10T23:48:20.412Z"
   },
   {
    "duration": 35,
    "start_time": "2023-07-10T23:48:28.729Z"
   },
   {
    "duration": 78,
    "start_time": "2023-07-10T23:49:00.069Z"
   },
   {
    "duration": 77,
    "start_time": "2023-07-10T23:49:06.817Z"
   },
   {
    "duration": 91,
    "start_time": "2023-07-10T23:49:55.737Z"
   },
   {
    "duration": 36,
    "start_time": "2023-07-10T23:52:23.286Z"
   },
   {
    "duration": 90,
    "start_time": "2023-07-10T23:54:07.009Z"
   },
   {
    "duration": 36,
    "start_time": "2023-07-10T23:54:19.685Z"
   },
   {
    "duration": 90,
    "start_time": "2023-07-10T23:54:32.838Z"
   },
   {
    "duration": 166,
    "start_time": "2023-07-10T23:54:43.329Z"
   },
   {
    "duration": 101,
    "start_time": "2023-07-10T23:55:00.370Z"
   },
   {
    "duration": 35,
    "start_time": "2023-07-10T23:56:21.258Z"
   },
   {
    "duration": 36,
    "start_time": "2023-07-10T23:57:03.173Z"
   },
   {
    "duration": 35,
    "start_time": "2023-07-10T23:57:17.525Z"
   },
   {
    "duration": 85,
    "start_time": "2023-07-11T00:00:00.226Z"
   },
   {
    "duration": 34,
    "start_time": "2023-07-11T00:00:45.042Z"
   },
   {
    "duration": 33,
    "start_time": "2023-07-11T00:03:12.542Z"
   },
   {
    "duration": 38,
    "start_time": "2023-07-11T00:03:33.602Z"
   },
   {
    "duration": 37,
    "start_time": "2023-07-11T00:04:33.662Z"
   },
   {
    "duration": 37,
    "start_time": "2023-07-11T00:05:02.414Z"
   },
   {
    "duration": 37,
    "start_time": "2023-07-11T00:08:24.201Z"
   },
   {
    "duration": 71,
    "start_time": "2023-07-11T00:15:57.978Z"
   },
   {
    "duration": 74,
    "start_time": "2023-07-11T00:16:03.651Z"
   },
   {
    "duration": 72,
    "start_time": "2023-07-11T00:16:42.606Z"
   },
   {
    "duration": 72,
    "start_time": "2023-07-11T00:16:52.872Z"
   },
   {
    "duration": 31,
    "start_time": "2023-07-11T00:22:14.027Z"
   },
   {
    "duration": 29,
    "start_time": "2023-07-11T00:27:46.131Z"
   },
   {
    "duration": 8,
    "start_time": "2023-07-11T09:28:11.206Z"
   },
   {
    "duration": 42,
    "start_time": "2023-07-11T09:28:35.237Z"
   },
   {
    "duration": 637,
    "start_time": "2023-07-11T09:28:43.403Z"
   },
   {
    "duration": 12408,
    "start_time": "2023-07-11T09:28:44.042Z"
   },
   {
    "duration": 59,
    "start_time": "2023-07-11T09:28:56.453Z"
   },
   {
    "duration": 36,
    "start_time": "2023-07-11T09:28:56.514Z"
   },
   {
    "duration": 52,
    "start_time": "2023-07-11T09:28:56.554Z"
   },
   {
    "duration": 109,
    "start_time": "2023-07-11T09:28:56.608Z"
   },
   {
    "duration": 31,
    "start_time": "2023-07-11T09:28:56.720Z"
   },
   {
    "duration": 32,
    "start_time": "2023-07-11T09:28:56.753Z"
   },
   {
    "duration": 33,
    "start_time": "2023-07-11T09:28:56.787Z"
   },
   {
    "duration": 73,
    "start_time": "2023-07-11T09:28:56.823Z"
   },
   {
    "duration": 31,
    "start_time": "2023-07-11T09:28:56.898Z"
   },
   {
    "duration": 40,
    "start_time": "2023-07-11T09:28:56.930Z"
   },
   {
    "duration": 39,
    "start_time": "2023-07-11T09:28:56.973Z"
   },
   {
    "duration": 112,
    "start_time": "2023-07-11T09:31:55.065Z"
   },
   {
    "duration": 48,
    "start_time": "2023-07-11T09:34:10.600Z"
   },
   {
    "duration": 59,
    "start_time": "2023-07-11T09:39:51.664Z"
   },
   {
    "duration": 115,
    "start_time": "2023-07-11T09:46:09.554Z"
   },
   {
    "duration": 44,
    "start_time": "2023-07-11T09:47:32.533Z"
   },
   {
    "duration": 33,
    "start_time": "2023-07-11T09:48:23.507Z"
   },
   {
    "duration": 36,
    "start_time": "2023-07-11T09:48:55.405Z"
   },
   {
    "duration": 31,
    "start_time": "2023-07-11T09:51:14.599Z"
   },
   {
    "duration": 58,
    "start_time": "2023-07-11T09:57:32.791Z"
   },
   {
    "duration": 31,
    "start_time": "2023-07-11T10:00:22.847Z"
   },
   {
    "duration": 49,
    "start_time": "2023-07-11T10:01:17.419Z"
   },
   {
    "duration": 44,
    "start_time": "2023-07-11T10:01:49.638Z"
   },
   {
    "duration": 53,
    "start_time": "2023-07-11T10:02:10.399Z"
   },
   {
    "duration": 33,
    "start_time": "2023-07-11T10:02:37.095Z"
   },
   {
    "duration": 32,
    "start_time": "2023-07-11T10:03:26.895Z"
   },
   {
    "duration": 34,
    "start_time": "2023-07-11T10:03:45.836Z"
   },
   {
    "duration": 32,
    "start_time": "2023-07-11T10:04:29.971Z"
   },
   {
    "duration": 93,
    "start_time": "2023-07-11T10:07:56.671Z"
   },
   {
    "duration": 77,
    "start_time": "2023-07-11T10:09:00.751Z"
   },
   {
    "duration": 52,
    "start_time": "2023-07-11T10:10:13.823Z"
   },
   {
    "duration": 59,
    "start_time": "2023-07-11T10:10:24.623Z"
   },
   {
    "duration": 55,
    "start_time": "2023-07-11T10:10:32.527Z"
   },
   {
    "duration": 34,
    "start_time": "2023-07-11T10:10:58.820Z"
   },
   {
    "duration": 82,
    "start_time": "2023-07-11T10:12:39.024Z"
   },
   {
    "duration": 35,
    "start_time": "2023-07-11T10:12:56.914Z"
   },
   {
    "duration": 129,
    "start_time": "2023-07-11T10:14:16.500Z"
   },
   {
    "duration": 30,
    "start_time": "2023-07-11T10:14:43.299Z"
   },
   {
    "duration": 59,
    "start_time": "2023-07-11T10:15:03.224Z"
   },
   {
    "duration": 60,
    "start_time": "2023-07-11T10:15:38.029Z"
   },
   {
    "duration": 41,
    "start_time": "2023-07-11T10:18:12.211Z"
   },
   {
    "duration": 85,
    "start_time": "2023-07-11T10:18:20.445Z"
   },
   {
    "duration": 60,
    "start_time": "2023-07-11T10:18:46.008Z"
   },
   {
    "duration": 57,
    "start_time": "2023-07-11T10:19:09.699Z"
   },
   {
    "duration": 97,
    "start_time": "2023-07-11T10:19:48.039Z"
   },
   {
    "duration": 869,
    "start_time": "2023-07-11T10:20:45.156Z"
   },
   {
    "duration": 55,
    "start_time": "2023-07-11T10:21:11.168Z"
   },
   {
    "duration": 47,
    "start_time": "2023-07-11T10:21:42.896Z"
   },
   {
    "duration": 48,
    "start_time": "2023-07-11T10:21:52.139Z"
   },
   {
    "duration": 715,
    "start_time": "2023-07-11T10:22:03.926Z"
   },
   {
    "duration": 737,
    "start_time": "2023-07-11T10:22:31.094Z"
   },
   {
    "duration": 730,
    "start_time": "2023-07-11T10:24:27.066Z"
   },
   {
    "duration": 47,
    "start_time": "2023-07-11T10:24:45.523Z"
   },
   {
    "duration": 52,
    "start_time": "2023-07-11T10:24:59.048Z"
   },
   {
    "duration": 55,
    "start_time": "2023-07-11T10:25:33.360Z"
   },
   {
    "duration": 54,
    "start_time": "2023-07-11T10:26:30.000Z"
   },
   {
    "duration": 82,
    "start_time": "2023-07-11T10:29:42.236Z"
   },
   {
    "duration": 182,
    "start_time": "2023-07-11T10:31:38.068Z"
   },
   {
    "duration": 50,
    "start_time": "2023-07-11T10:33:04.895Z"
   },
   {
    "duration": 87,
    "start_time": "2023-07-11T10:34:17.761Z"
   },
   {
    "duration": 251,
    "start_time": "2023-07-11T10:34:33.195Z"
   },
   {
    "duration": 636,
    "start_time": "2023-07-11T10:35:44.995Z"
   },
   {
    "duration": 232,
    "start_time": "2023-07-11T10:36:53.015Z"
   },
   {
    "duration": 84,
    "start_time": "2023-07-11T10:48:10.307Z"
   },
   {
    "duration": 43,
    "start_time": "2023-07-11T10:50:48.257Z"
   },
   {
    "duration": 37,
    "start_time": "2023-07-11T10:51:06.504Z"
   },
   {
    "duration": 157,
    "start_time": "2023-07-11T10:51:55.252Z"
   },
   {
    "duration": 35,
    "start_time": "2023-07-11T10:52:42.020Z"
   },
   {
    "duration": 33,
    "start_time": "2023-07-11T10:53:02.929Z"
   },
   {
    "duration": 50,
    "start_time": "2023-07-11T10:53:36.948Z"
   },
   {
    "duration": 46,
    "start_time": "2023-07-11T10:53:53.253Z"
   },
   {
    "duration": 43,
    "start_time": "2023-07-11T10:54:50.945Z"
   },
   {
    "duration": 40,
    "start_time": "2023-07-11T10:56:44.491Z"
   },
   {
    "duration": 43,
    "start_time": "2023-07-11T10:58:30.505Z"
   },
   {
    "duration": 37,
    "start_time": "2023-07-11T10:58:45.117Z"
   }
  ],
  "kernelspec": {
   "display_name": "Python 3 (ipykernel)",
   "language": "python",
   "name": "python3"
  },
  "language_info": {
   "codemirror_mode": {
    "name": "ipython",
    "version": 3
   },
   "file_extension": ".py",
   "mimetype": "text/x-python",
   "name": "python",
   "nbconvert_exporter": "python",
   "pygments_lexer": "ipython3",
   "version": "3.9.13"
  },
  "toc": {
   "base_numbering": 1,
   "nav_menu": {},
   "number_sections": true,
   "sideBar": true,
   "skip_h1_title": true,
   "title_cell": "Table of Contents",
   "title_sidebar": "Contents",
   "toc_cell": false,
   "toc_position": {},
   "toc_section_display": true,
   "toc_window_display": false
  }
 },
 "nbformat": 4,
 "nbformat_minor": 2
}
