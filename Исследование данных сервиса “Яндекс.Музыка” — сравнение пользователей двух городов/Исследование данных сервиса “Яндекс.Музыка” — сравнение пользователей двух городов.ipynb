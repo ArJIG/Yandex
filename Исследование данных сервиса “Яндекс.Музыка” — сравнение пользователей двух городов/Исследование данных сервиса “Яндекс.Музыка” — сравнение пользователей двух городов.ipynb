{
 "cells": [
  {
   "cell_type": "markdown",
   "id": "a04c23a6",
   "metadata": {},
   "source": [
    "# Исследование данных сервиса “Яндекс.Музыка”"
   ]
  },
  {
   "cell_type": "markdown",
   "id": "fe21e49e",
   "metadata": {},
   "source": [
    "Сравнение поведения пользователей \"Яндекс Музыки\" в Москве и Санкт-Петербурге"
   ]
  },
  {
   "cell_type": "markdown",
   "id": "ee9bff93",
   "metadata": {},
   "source": [
    "# Цель проекта"
   ]
  },
  {
   "cell_type": "markdown",
   "id": "d7a81419",
   "metadata": {},
   "source": [
    "Проверить данные и сравнить поведение и предпочтения пользователей из Москвы и Санкт-Петербурга.\n",
    "\n",
    "Выявить закономерности."
   ]
  },
  {
   "cell_type": "markdown",
   "id": "4cdb7c65",
   "metadata": {},
   "source": [
    "# Структура проекта"
   ]
  },
  {
   "cell_type": "markdown",
   "id": "4e687e52",
   "metadata": {},
   "source": [
    "1. Загрузка и изучение общей информации о данных\n",
    "2. Предобработка данных\n",
    "3. Проверка гипотез\n",
    "4. Итоги исследования"
   ]
  },
  {
   "cell_type": "markdown",
   "id": "c168a008",
   "metadata": {},
   "source": [
    "# Загрузка и изучение общей информации о данных"
   ]
  },
  {
   "cell_type": "markdown",
   "id": "26dd97ef",
   "metadata": {},
   "source": [
    "## Импорт библиотек"
   ]
  },
  {
   "cell_type": "code",
   "execution_count": 1,
   "id": "6ce20b48",
   "metadata": {},
   "outputs": [],
   "source": [
    "import pandas as pd"
   ]
  },
  {
   "cell_type": "markdown",
   "id": "2ecabe9f",
   "metadata": {},
   "source": [
    "## Открытие файла"
   ]
  },
  {
   "cell_type": "code",
   "execution_count": 2,
   "id": "402e29e7",
   "metadata": {},
   "outputs": [],
   "source": [
    "try:\n",
    "    df = pd.read_csv('/datasets/yandex_music_project.csv')\n",
    "except:\n",
    "    df = pd.read_csv('https://code.s3.yandex.net/datasets/yandex_music_project.csv')"
   ]
  },
  {
   "cell_type": "markdown",
   "id": "da773c71",
   "metadata": {},
   "source": [
    "## Просмотр общей информации"
   ]
  },
  {
   "cell_type": "code",
   "execution_count": 3,
   "id": "61be5a34",
   "metadata": {
    "scrolled": true
   },
   "outputs": [
    {
     "name": "stdout",
     "output_type": "stream",
     "text": [
      "<class 'pandas.core.frame.DataFrame'>\n",
      "RangeIndex: 65079 entries, 0 to 65078\n",
      "Data columns (total 7 columns):\n",
      " #   Column    Non-Null Count  Dtype \n",
      "---  ------    --------------  ----- \n",
      " 0     userID  65079 non-null  object\n",
      " 1   Track     63848 non-null  object\n",
      " 2   artist    57876 non-null  object\n",
      " 3   genre     63881 non-null  object\n",
      " 4     City    65079 non-null  object\n",
      " 5   time      65079 non-null  object\n",
      " 6   Day       65079 non-null  object\n",
      "dtypes: object(7)\n",
      "memory usage: 3.5+ MB\n"
     ]
    }
   ],
   "source": [
    "df.info()"
   ]
  },
  {
   "cell_type": "markdown",
   "id": "972d5d10",
   "metadata": {},
   "source": [
    "Итак, в таблице семь столбцов. Тип данных во всех столбцах — object.\n",
    "\n",
    "Согласно документации к данным:\n",
    "- userID — идентификатор пользователя;\n",
    "- Track — название трека;\n",
    "- artist — имя исполнителя;\n",
    "- genre — название жанра;\n",
    "- City — город пользователя;\n",
    "- time — время начала прослушивания;\n",
    "- Day — день недели.\n",
    "\n",
    "Количество значений в столбцах различается. Значит, в данных есть пропущенные значения."
   ]
  },
  {
   "cell_type": "markdown",
   "id": "103c24a5",
   "metadata": {},
   "source": [
    "# Предобработка данных"
   ]
  },
  {
   "cell_type": "markdown",
   "id": "4f429e7a",
   "metadata": {},
   "source": [
    "## Приведу названия столбцов к нижнему регистру"
   ]
  },
  {
   "cell_type": "code",
   "execution_count": 5,
   "id": "91909287",
   "metadata": {},
   "outputs": [],
   "source": [
    "df = df.rename(columns={\"  userID\" : \"user_id\" , \"Track\" : \"track\" , \"  City  \" : \"city\" , \"Day\" : \"day\"})"
   ]
  },
  {
   "cell_type": "markdown",
   "id": "f52f5601",
   "metadata": {},
   "source": [
    "## Проверка на пропуски в столбцах"
   ]
  },
  {
   "cell_type": "code",
   "execution_count": 7,
   "id": "62f7db8f",
   "metadata": {},
   "outputs": [
    {
     "data": {
      "text/plain": [
       "user_id       0\n",
       "track      1231\n",
       "artist     7203\n",
       "genre      1198\n",
       "city          0\n",
       "time          0\n",
       "day           0\n",
       "dtype: int64"
      ]
     },
     "execution_count": 7,
     "metadata": {},
     "output_type": "execute_result"
    }
   ],
   "source": [
    "df.isna().sum()"
   ]
  },
  {
   "cell_type": "markdown",
   "id": "17918153",
   "metadata": {},
   "source": [
    "Пропуски в столбцах track и artist не важны для исследования - заменю их явным обозначением.\n",
    "\n",
    "Пропуски в столбце genre могут помешать исследованию, но возможности восстановить данные нет. Также заменю их явным обозначением"
   ]
  },
  {
   "cell_type": "markdown",
   "id": "8ce05c71",
   "metadata": {},
   "source": [
    "## Заменю пропущенные значения в столбцах track, artist и genre на 'unknown"
   ]
  },
  {
   "cell_type": "code",
   "execution_count": 8,
   "id": "2eedb498",
   "metadata": {},
   "outputs": [],
   "source": [
    "columns_to_replace = [\"track\" , \"artist\" , \"genre\"]\n",
    "for column in columns_to_replace:\n",
    "    df[column] = df[column].fillna(\"unknown\")"
   ]
  },
  {
   "cell_type": "markdown",
   "id": "adeb3c67",
   "metadata": {},
   "source": [
    "## Проверка на дубликаты"
   ]
  },
  {
   "cell_type": "code",
   "execution_count": 10,
   "id": "eb99a1e8",
   "metadata": {},
   "outputs": [
    {
     "data": {
      "text/plain": [
       "3826"
      ]
     },
     "execution_count": 10,
     "metadata": {},
     "output_type": "execute_result"
    }
   ],
   "source": [
    "df.duplicated().sum()"
   ]
  },
  {
   "cell_type": "markdown",
   "id": "01da4e08",
   "metadata": {},
   "source": [
    "## Удаление явных дубликатов"
   ]
  },
  {
   "cell_type": "code",
   "execution_count": 11,
   "id": "425b876e",
   "metadata": {},
   "outputs": [],
   "source": [
    "df = df.drop_duplicates()"
   ]
  },
  {
   "cell_type": "markdown",
   "id": "76d21514",
   "metadata": {},
   "source": [
    "## Удаление неявных дубликатов в столбце genre"
   ]
  },
  {
   "cell_type": "markdown",
   "id": "02a1feb7",
   "metadata": {},
   "source": [
    "### Просмотр уникальных жанров"
   ]
  },
  {
   "cell_type": "code",
   "execution_count": 13,
   "id": "111ebd3d",
   "metadata": {},
   "outputs": [
    {
     "data": {
      "text/plain": [
       "array(['acid', 'acoustic', 'action', 'adult', 'africa', 'afrikaans',\n",
       "       'alternative', 'alternativepunk', 'ambient', 'americana',\n",
       "       'animated', 'anime', 'arabesk', 'arabic', 'arena',\n",
       "       'argentinetango', 'art', 'audiobook', 'author', 'avantgarde',\n",
       "       'axé', 'baile', 'balkan', 'beats', 'bigroom', 'black', 'bluegrass',\n",
       "       'blues', 'bollywood', 'bossa', 'brazilian', 'breakbeat', 'breaks',\n",
       "       'broadway', 'cantautori', 'cantopop', 'canzone', 'caribbean',\n",
       "       'caucasian', 'celtic', 'chamber', 'chanson', 'children', 'chill',\n",
       "       'chinese', 'choral', 'christian', 'christmas', 'classical',\n",
       "       'classicmetal', 'club', 'colombian', 'comedy', 'conjazz',\n",
       "       'contemporary', 'country', 'cuban', 'dance', 'dancehall',\n",
       "       'dancepop', 'dark', 'death', 'deep', 'deutschrock', 'deutschspr',\n",
       "       'dirty', 'disco', 'dnb', 'documentary', 'downbeat', 'downtempo',\n",
       "       'drum', 'dub', 'dubstep', 'eastern', 'easy', 'electronic',\n",
       "       'electropop', 'emo', 'entehno', 'epicmetal', 'estrada', 'ethnic',\n",
       "       'eurofolk', 'european', 'experimental', 'extrememetal', 'fado',\n",
       "       'fairytail', 'film', 'fitness', 'flamenco', 'folk', 'folklore',\n",
       "       'folkmetal', 'folkrock', 'folktronica', 'forró', 'frankreich',\n",
       "       'französisch', 'french', 'funk', 'future', 'gangsta', 'garage',\n",
       "       'german', 'ghazal', 'gitarre', 'glitch', 'gospel', 'gothic',\n",
       "       'grime', 'grunge', 'gypsy', 'handsup', \"hard'n'heavy\", 'hardcore',\n",
       "       'hardstyle', 'hardtechno', 'hip', 'hip-hop', 'hiphop',\n",
       "       'historisch', 'holiday', 'hop', 'horror', 'house', 'hymn', 'idm',\n",
       "       'independent', 'indian', 'indie', 'indipop', 'industrial',\n",
       "       'inspirational', 'instrumental', 'international', 'irish', 'jam',\n",
       "       'japanese', 'jazz', 'jewish', 'jpop', 'jungle', 'k-pop',\n",
       "       'karadeniz', 'karaoke', 'kayokyoku', 'korean', 'laiko', 'latin',\n",
       "       'latino', 'leftfield', 'local', 'lounge', 'loungeelectronic',\n",
       "       'lovers', 'malaysian', 'mandopop', 'marschmusik', 'meditative',\n",
       "       'mediterranean', 'melodic', 'metal', 'metalcore', 'mexican',\n",
       "       'middle', 'minimal', 'miscellaneous', 'modern', 'mood', 'mpb',\n",
       "       'muslim', 'native', 'neoklassik', 'neue', 'new', 'newage',\n",
       "       'newwave', 'nu', 'nujazz', 'numetal', 'oceania', 'old', 'opera',\n",
       "       'orchestral', 'other', 'piano', 'podcasts', 'pop', 'popdance',\n",
       "       'popelectronic', 'popeurodance', 'poprussian', 'post',\n",
       "       'posthardcore', 'postrock', 'power', 'progmetal', 'progressive',\n",
       "       'psychedelic', 'punjabi', 'punk', 'quebecois', 'ragga', 'ram',\n",
       "       'rancheras', 'rap', 'rave', 'reggae', 'reggaeton', 'regional',\n",
       "       'relax', 'religious', 'retro', 'rhythm', 'rnb', 'rnr', 'rock',\n",
       "       'rockabilly', 'rockalternative', 'rockindie', 'rockother',\n",
       "       'romance', 'roots', 'ruspop', 'rusrap', 'rusrock', 'russian',\n",
       "       'salsa', 'samba', 'scenic', 'schlager', 'self', 'sertanejo',\n",
       "       'shanson', 'shoegazing', 'showtunes', 'singer', 'ska', 'skarock',\n",
       "       'slow', 'smooth', 'soft', 'soul', 'soulful', 'sound', 'soundtrack',\n",
       "       'southern', 'specialty', 'speech', 'spiritual', 'sport',\n",
       "       'stonerrock', 'surf', 'swing', 'synthpop', 'synthrock',\n",
       "       'sängerportrait', 'tango', 'tanzorchester', 'taraftar', 'tatar',\n",
       "       'tech', 'techno', 'teen', 'thrash', 'top', 'traditional',\n",
       "       'tradjazz', 'trance', 'tribal', 'trip', 'triphop', 'tropical',\n",
       "       'türk', 'türkçe', 'ukrrock', 'unknown', 'urban', 'uzbek',\n",
       "       'variété', 'vi', 'videogame', 'vocal', 'western', 'world',\n",
       "       'worldbeat', 'ïîï', 'электроника'], dtype=object)"
      ]
     },
     "execution_count": 13,
     "metadata": {},
     "output_type": "execute_result"
    }
   ],
   "source": [
    "genre = df[\"genre\"].sort_values()\n",
    "genre.unique()"
   ]
  },
  {
   "cell_type": "markdown",
   "id": "14ef4ea0",
   "metadata": {},
   "source": [
    "### Заменю жанры hip, hop и hip-hop на hiphop"
   ]
  },
  {
   "cell_type": "code",
   "execution_count": 14,
   "id": "e1fd01b0",
   "metadata": {},
   "outputs": [],
   "source": [
    "df = df.replace(\"hip\" , \"hiphop\")\n",
    "df = df.replace(\"hop\" , \"hiphop\")\n",
    "df = df.replace(\"hip-hop\" , \"hiphop\")"
   ]
  },
  {
   "cell_type": "markdown",
   "id": "a7a34618",
   "metadata": {},
   "source": [
    "Предобработка обнаружила три проблемы в данных:\n",
    "\n",
    "- нарушения в стиле заголовков,\n",
    "- пропущенные значения,\n",
    "- дубликаты — явные и неявные.\n",
    "\n",
    "Исправили заголовки, чтобы упростить работу с таблицей. Без дубликатов исследование станет более точным.\n",
    "\n",
    "Пропущенные значения заменил на unknown."
   ]
  },
  {
   "cell_type": "markdown",
   "id": "62683278",
   "metadata": {},
   "source": [
    "# Проверка гипотез"
   ]
  },
  {
   "cell_type": "markdown",
   "id": "a9c78a13",
   "metadata": {},
   "source": [
    "## Сравнение поведения пользователей двух столиц"
   ]
  },
  {
   "cell_type": "markdown",
   "id": "1e96a149",
   "metadata": {},
   "source": [
    "Проверю предположение, что пользователи по-разному слушают музыку в Москве и Санкт-Петербурге. Проверю это предположение по данным о трёх днях недели — понедельнике, среде и пятнице.\n",
    "\n",
    "* Разделю пользователей Москвы и Санкт-Петербурга.\n",
    "* Сравню, сколько треков послушала каждая группа пользователей в понедельник, среду и пятницу."
   ]
  },
  {
   "cell_type": "markdown",
   "id": "ba3d9960",
   "metadata": {},
   "source": [
    "### Подсчет прослушиваний в каждом городе"
   ]
  },
  {
   "cell_type": "code",
   "execution_count": 16,
   "id": "f611ef19",
   "metadata": {},
   "outputs": [
    {
     "data": {
      "text/plain": [
       "city\n",
       "Moscow              42741\n",
       "Saint-Petersburg    18512\n",
       "Name: time, dtype: int64"
      ]
     },
     "execution_count": 16,
     "metadata": {},
     "output_type": "execute_result"
    }
   ],
   "source": [
    "col = df.groupby(\"city\")[\"time\"].count()\n",
    "col"
   ]
  },
  {
   "cell_type": "markdown",
   "id": "ca17adc7",
   "metadata": {},
   "source": [
    "В Москве прослушиваний больше, чем в Петербурге. Из этого не следует, что московские пользователи чаще слушают музыку. Просто самих пользователей в Москве больше."
   ]
  },
  {
   "cell_type": "markdown",
   "id": "3a6e642a",
   "metadata": {},
   "source": [
    "### Подсчет прослушиваний в каждый из трёх дней"
   ]
  },
  {
   "cell_type": "code",
   "execution_count": 17,
   "id": "231db6ef",
   "metadata": {},
   "outputs": [
    {
     "data": {
      "text/plain": [
       "day\n",
       "Friday       21840\n",
       "Monday       21354\n",
       "Wednesday    18059\n",
       "Name: time, dtype: int64"
      ]
     },
     "execution_count": 17,
     "metadata": {},
     "output_type": "execute_result"
    }
   ],
   "source": [
    "col = df.groupby(\"day\")[\"time\"].count()\n",
    "col"
   ]
  },
  {
   "cell_type": "markdown",
   "id": "eb70ab40",
   "metadata": {},
   "source": [
    "В среднем пользователи из двух городов менее активны по средам. Но картина может измениться, если рассмотреть каждый город в отдельности."
   ]
  },
  {
   "cell_type": "markdown",
   "id": "90fddc71",
   "metadata": {},
   "source": [
    "### Напишу функцию для подсчета прослушиваний для конкретного города и дня"
   ]
  },
  {
   "cell_type": "code",
   "execution_count": 18,
   "id": "f19fcb96",
   "metadata": {},
   "outputs": [],
   "source": [
    "def number_tracks(day , city):\n",
    "    track_list = df[df[\"day\"] == day]\n",
    "    track_list = track_list[track_list[\"city\"] == city]\n",
    "    track_list_count = track_list[\"user_id\"].count()\n",
    "    return track_list_count"
   ]
  },
  {
   "cell_type": "markdown",
   "id": "5f538d4f",
   "metadata": {},
   "source": [
    "### Рассматрю количество прослушиваний в Москве и Санкт-Петербурге по каждому дню"
   ]
  },
  {
   "cell_type": "code",
   "execution_count": 39,
   "id": "5414c8c1",
   "metadata": {},
   "outputs": [
    {
     "name": "stdout",
     "output_type": "stream",
     "text": [
      "Прослушиваний в Москве по понедельникам: 15740\n"
     ]
    }
   ],
   "source": [
    "print('Прослушиваний в Москве по понедельникам:',number_tracks(\"Monday\" , \"Moscow\"))"
   ]
  },
  {
   "cell_type": "code",
   "execution_count": 41,
   "id": "e7435cf4",
   "metadata": {},
   "outputs": [
    {
     "name": "stdout",
     "output_type": "stream",
     "text": [
      "Прослушиваний в Санкт-Петербурге по понедельникам: 5614\n"
     ]
    }
   ],
   "source": [
    "print('Прослушиваний в Санкт-Петербурге по понедельникам:',number_tracks(\"Monday\" , \"Saint-Petersburg\"))"
   ]
  },
  {
   "cell_type": "code",
   "execution_count": 43,
   "id": "bcbcdd03",
   "metadata": {},
   "outputs": [
    {
     "name": "stdout",
     "output_type": "stream",
     "text": [
      "Прослушиваний в Москве по средам: 11056\n"
     ]
    }
   ],
   "source": [
    "print('Прослушиваний в Москве по средам:',number_tracks(\"Wednesday\" , \"Moscow\"))"
   ]
  },
  {
   "cell_type": "code",
   "execution_count": 44,
   "id": "d1227db9",
   "metadata": {},
   "outputs": [
    {
     "name": "stdout",
     "output_type": "stream",
     "text": [
      "Прослушиваний в Санкт-Петербурге по средам: 7003\n"
     ]
    }
   ],
   "source": [
    "print('Прослушиваний в Санкт-Петербурге по средам:',number_tracks(\"Wednesday\" , \"Saint-Petersburg\"))"
   ]
  },
  {
   "cell_type": "code",
   "execution_count": 45,
   "id": "77d6277e",
   "metadata": {},
   "outputs": [
    {
     "name": "stdout",
     "output_type": "stream",
     "text": [
      "Прослушиваний в Москве по пятницам: 15945\n"
     ]
    }
   ],
   "source": [
    "print('Прослушиваний в Москве по пятницам:',number_tracks(\"Friday\" , \"Moscow\"))"
   ]
  },
  {
   "cell_type": "code",
   "execution_count": 46,
   "id": "525dea3c",
   "metadata": {
    "scrolled": true
   },
   "outputs": [
    {
     "name": "stdout",
     "output_type": "stream",
     "text": [
      "Прослушиваний в Санкт-Петербурге по пятницам: 5895\n"
     ]
    }
   ],
   "source": [
    "print('Прослушиваний в Санкт-Петербурге по пятницам:',number_tracks(\"Friday\" , \"Saint-Petersburg\"))"
   ]
  },
  {
   "cell_type": "markdown",
   "id": "eb12a967",
   "metadata": {},
   "source": [
    "### Строю таблицу с результатами"
   ]
  },
  {
   "cell_type": "code",
   "execution_count": 25,
   "id": "663632ec",
   "metadata": {},
   "outputs": [
    {
     "data": {
      "text/html": [
       "<div>\n",
       "<style scoped>\n",
       "    .dataframe tbody tr th:only-of-type {\n",
       "        vertical-align: middle;\n",
       "    }\n",
       "\n",
       "    .dataframe tbody tr th {\n",
       "        vertical-align: top;\n",
       "    }\n",
       "\n",
       "    .dataframe thead th {\n",
       "        text-align: right;\n",
       "    }\n",
       "</style>\n",
       "<table border=\"1\" class=\"dataframe\">\n",
       "  <thead>\n",
       "    <tr style=\"text-align: right;\">\n",
       "      <th></th>\n",
       "      <th>city</th>\n",
       "      <th>monday</th>\n",
       "      <th>wednesday</th>\n",
       "      <th>Friday</th>\n",
       "    </tr>\n",
       "  </thead>\n",
       "  <tbody>\n",
       "    <tr>\n",
       "      <th>0</th>\n",
       "      <td>Moscow</td>\n",
       "      <td>15740</td>\n",
       "      <td>11056</td>\n",
       "      <td>15945</td>\n",
       "    </tr>\n",
       "    <tr>\n",
       "      <th>1</th>\n",
       "      <td>Saint-Petersburg</td>\n",
       "      <td>5614</td>\n",
       "      <td>7003</td>\n",
       "      <td>5895</td>\n",
       "    </tr>\n",
       "  </tbody>\n",
       "</table>\n",
       "</div>"
      ],
      "text/plain": [
       "               city  monday  wednesday  Friday\n",
       "0            Moscow   15740      11056   15945\n",
       "1  Saint-Petersburg    5614       7003    5895"
      ]
     },
     "execution_count": 25,
     "metadata": {},
     "output_type": "execute_result"
    }
   ],
   "source": [
    "pd.DataFrame(data = [[\"Moscow\" , 15740 , 11056 , 15945] , [\"Saint-Petersburg\" , 5614 , 7003 , 5895]] , columns = [\"city\" , \"monday\" , \"wednesday\" , \"Friday\"])"
   ]
  },
  {
   "cell_type": "markdown",
   "id": "4c694e9f",
   "metadata": {},
   "source": [
    "Данные показывают разницу поведения пользователей:\n",
    "\n",
    "- В Москве пик прослушиваний приходится на понедельник и пятницу, а в среду заметен спад.\n",
    "- В Петербурге, наоборот, больше слушают музыку по средам. Активность в понедельник и пятницу здесь почти в равной мере уступает среде.\n",
    "\n",
    "Значит, данные говорят о существующей разнице в прослушиваниях."
   ]
  },
  {
   "cell_type": "markdown",
   "id": "88ff8bae",
   "metadata": {},
   "source": [
    "## Музыка в начале и в конце недели"
   ]
  },
  {
   "cell_type": "markdown",
   "id": "9bd04784",
   "metadata": {},
   "source": [
    "Согласно второй гипотезе, утром в понедельник в Москве преобладают одни жанры, а в Петербурге — другие. Так же и вечером пятницы преобладают разные жанры — в зависимости от города."
   ]
  },
  {
   "cell_type": "markdown",
   "id": "3957f3bb",
   "metadata": {},
   "source": [
    "### Разделю данные по городам"
   ]
  },
  {
   "cell_type": "code",
   "execution_count": 26,
   "id": "c763cc33",
   "metadata": {},
   "outputs": [],
   "source": [
    "moscow_general = df[df[\"city\"] == \"Moscow\"]"
   ]
  },
  {
   "cell_type": "code",
   "execution_count": 27,
   "id": "c695c4c5",
   "metadata": {},
   "outputs": [],
   "source": [
    "spb_general = df[df[\"city\"] == \"Saint-Petersburg\"]"
   ]
  },
  {
   "cell_type": "markdown",
   "id": "3636f198",
   "metadata": {},
   "source": [
    "### Создам функцию для нахождения топ-10 жанров тех треков, которые прослушивали в указанный день, в промежутке между двумя отметками времени"
   ]
  },
  {
   "cell_type": "markdown",
   "id": "7fe4a8bc",
   "metadata": {},
   "source": [
    "Функция будет принимать четыре параметра:\n",
    "- таблица с данными,\n",
    "- день недели,\n",
    "- начальная временная метка в формате,\n",
    "- последняя временная метка в формате."
   ]
  },
  {
   "cell_type": "code",
   "execution_count": 47,
   "id": "1a489ad4",
   "metadata": {},
   "outputs": [],
   "source": [
    "def genre_weekday(df, day, time1, time2):\n",
    "    # последовательная фильтрация\n",
    "    # оставляю в genre_df только те строки df, у которых день равен day\n",
    "    genre_df = df[df[\"day\"] == day]\n",
    "    # оставляю в genre_df только те строки genre_df, у которых время меньше time2\n",
    "    genre_df = genre_df[genre_df[\"time\"] > time1]\n",
    "    # оставляю в genre_df только те строки genre_df, у которых время больше time1\n",
    "    genre_df = genre_df[genre_df[\"time\"] < time2]\n",
    "    # сгруппирую отфильтрованный датафрейм по столбцу с названиями жанров, возьму столбец genre и посчитаю кол-во строк для каждого жанра методом count()\n",
    "    genre_df_grouped = genre_df.groupby(\"genre\")[\"genre\"].count()\n",
    "    # отсортирую результат по убыванию (чтобы в начале Series оказались самые популярные жанры)\n",
    "    genre_df_sorted = genre_df_grouped.sort_values(ascending=False)\n",
    "    # верну Series с 10 самыми популярными жанрами в указанный отрезок времени заданного дня\n",
    "    return genre_df_sorted[:10]"
   ]
  },
  {
   "cell_type": "markdown",
   "id": "1f68cd3e",
   "metadata": {},
   "source": [
    "### Cравню результаты функции для Москвы и Санкт-Петербурга в понедельник утром (с 7:00 до 11:00) и в пятницу вечером (с 17:00 до 23:00)"
   ]
  },
  {
   "cell_type": "code",
   "execution_count": 50,
   "id": "2f672b42",
   "metadata": {},
   "outputs": [
    {
     "data": {
      "text/plain": [
       "genre\n",
       "pop            781\n",
       "dance          549\n",
       "electronic     480\n",
       "rock           474\n",
       "hiphop         286\n",
       "ruspop         186\n",
       "world          181\n",
       "rusrap         175\n",
       "alternative    164\n",
       "unknown        161\n",
       "Name: genre, dtype: int64"
      ]
     },
     "execution_count": 50,
     "metadata": {},
     "output_type": "execute_result"
    }
   ],
   "source": [
    "genre_weekday(moscow_general , \"Monday\" , \"07:00\" , \"11:00\")"
   ]
  },
  {
   "cell_type": "code",
   "execution_count": 30,
   "id": "3c782e24",
   "metadata": {},
   "outputs": [
    {
     "data": {
      "text/plain": [
       "genre\n",
       "pop            218\n",
       "dance          182\n",
       "rock           162\n",
       "electronic     147\n",
       "hiphop          80\n",
       "ruspop          64\n",
       "alternative     58\n",
       "rusrap          55\n",
       "jazz            44\n",
       "classical       40\n",
       "Name: genre, dtype: int64"
      ]
     },
     "execution_count": 30,
     "metadata": {},
     "output_type": "execute_result"
    }
   ],
   "source": [
    "genre_weekday(spb_general , \"Monday\" , \"07:00\" , \"11:00\")"
   ]
  },
  {
   "cell_type": "code",
   "execution_count": 31,
   "id": "ccf7fb3a",
   "metadata": {},
   "outputs": [
    {
     "data": {
      "text/plain": [
       "genre\n",
       "pop            713\n",
       "rock           517\n",
       "dance          495\n",
       "electronic     482\n",
       "hiphop         273\n",
       "world          208\n",
       "ruspop         170\n",
       "alternative    163\n",
       "classical      163\n",
       "rusrap         142\n",
       "Name: genre, dtype: int64"
      ]
     },
     "execution_count": 31,
     "metadata": {},
     "output_type": "execute_result"
    }
   ],
   "source": [
    "genre_weekday(moscow_general , \"Friday\" , \"17:00\" , \"23:00\")"
   ]
  },
  {
   "cell_type": "code",
   "execution_count": 32,
   "id": "32ffc077",
   "metadata": {
    "scrolled": true
   },
   "outputs": [
    {
     "data": {
      "text/plain": [
       "genre\n",
       "pop            256\n",
       "electronic     216\n",
       "rock           216\n",
       "dance          210\n",
       "hiphop          97\n",
       "alternative     63\n",
       "jazz            61\n",
       "classical       60\n",
       "rusrap          59\n",
       "world           54\n",
       "Name: genre, dtype: int64"
      ]
     },
     "execution_count": 32,
     "metadata": {},
     "output_type": "execute_result"
    }
   ],
   "source": [
    "genre_weekday(spb_general , \"Friday\" , \"17:00\" , \"23:00\")"
   ]
  },
  {
   "cell_type": "markdown",
   "id": "0fcee87d",
   "metadata": {},
   "source": [
    "Если сравнить топ-10 жанров в понедельник утром, можно сделать такие выводы:\n",
    "\n",
    "В Москве и Петербурге слушают похожую музыку. Единственное отличие — в московский рейтинг вошёл жанр “world”, а в петербургский — джаз и классика.\n",
    "\n",
    "В Москве пропущенных значений оказалось так много, что значение 'unknown' заняло десятое место среди самых популярных жанров. Значит, пропущенные значения занимают существенную долю в данных и угрожают достоверности исследования.\n",
    "\n",
    "Вечер пятницы не меняет эту картину. Некоторые жанры поднимаются немного выше, другие спускаются, но в целом топ-10 остаётся тем же самым.\n",
    "\n",
    "Таким образом, вторая гипотеза подтвердилась лишь частично:\n",
    "Пользователи слушают похожую музыку в начале недели и в конце.\n",
    "\n",
    "Разница между Москвой и Петербургом не слишком выражена. В Москве чаще слушают русскую популярную музыку, в Петербурге — джаз.\n",
    "\n",
    "Однако пропуски в данных ставят под сомнение этот результат. В Москве их так много, что рейтинг топ-10 мог бы выглядеть иначе, если бы не утерянные данные о жанрах."
   ]
  },
  {
   "cell_type": "markdown",
   "id": "1aa9efee",
   "metadata": {},
   "source": [
    "## Жанровые предпочтения в Москве и Петербурге"
   ]
  },
  {
   "cell_type": "markdown",
   "id": "de0f2722",
   "metadata": {},
   "source": [
    "Гипотеза: Петербург — столица рэпа, музыку этого жанра там слушают чаще, чем в Москве. А Москва — город контрастов, в котором, тем не менее, преобладает поп-музыка."
   ]
  },
  {
   "cell_type": "markdown",
   "id": "eb3db12b",
   "metadata": {},
   "source": [
    "### Сгруппирую таблицу moscow_general по жанру и посчитаю прослушивания треков каждого жанра"
   ]
  },
  {
   "cell_type": "code",
   "execution_count": 33,
   "id": "8e7ba687",
   "metadata": {},
   "outputs": [],
   "source": [
    "moscow_general = df[df[\"city\"] == \"Moscow\"]\n",
    "moscow_genres = moscow_general.groupby(\"genre\")[\"genre\"].count()\n",
    "moscow_genres = moscow_genres.sort_values(ascending=False)"
   ]
  },
  {
   "cell_type": "code",
   "execution_count": 34,
   "id": "f8c9be6c",
   "metadata": {
    "scrolled": true
   },
   "outputs": [
    {
     "name": "stdout",
     "output_type": "stream",
     "text": [
      "genre\n",
      "pop            5892\n",
      "dance          4435\n",
      "rock           3965\n",
      "electronic     3786\n",
      "hiphop         2096\n",
      "classical      1616\n",
      "world          1432\n",
      "alternative    1379\n",
      "ruspop         1372\n",
      "rusrap         1161\n",
      "Name: genre, dtype: int64\n"
     ]
    }
   ],
   "source": [
    "print(moscow_genres.head(10))"
   ]
  },
  {
   "cell_type": "markdown",
   "id": "0cca4a22",
   "metadata": {},
   "source": [
    "### Сгруппирую таблицу spb_general по жанру и посчитаю прослушивания треков каждого жанра"
   ]
  },
  {
   "cell_type": "code",
   "execution_count": 35,
   "id": "5bdd4955",
   "metadata": {},
   "outputs": [],
   "source": [
    "spb_general = df[df[\"city\"] == \"Saint-Petersburg\"]\n",
    "spb_genres = spb_general.groupby(\"genre\")[\"genre\"].count()\n",
    "spb_genres = spb_genres.sort_values(ascending=False)"
   ]
  },
  {
   "cell_type": "code",
   "execution_count": 36,
   "id": "c644648b",
   "metadata": {},
   "outputs": [
    {
     "name": "stdout",
     "output_type": "stream",
     "text": [
      "genre\n",
      "pop            2431\n",
      "dance          1932\n",
      "rock           1879\n",
      "electronic     1736\n",
      "hiphop          960\n",
      "alternative     649\n",
      "classical       646\n",
      "rusrap          564\n",
      "ruspop          538\n",
      "world           515\n",
      "Name: genre, dtype: int64\n"
     ]
    }
   ],
   "source": [
    "print(spb_genres.head(10))"
   ]
  },
  {
   "cell_type": "markdown",
   "id": "f16b305a",
   "metadata": {},
   "source": [
    "Гипотеза частично подтвердилась:\n",
    "\n",
    "Поп-музыка — самый популярный жанр в Москве, как и предполагала гипотеза. Более того, в топ-10 жанров встречается близкий жанр — русская популярная музыка.\n",
    "\n",
    "Вопреки ожиданиям, рэп одинаково популярен в Москве и Петербурге."
   ]
  },
  {
   "cell_type": "markdown",
   "id": "1955f2a1",
   "metadata": {},
   "source": [
    "# Итоги исследования "
   ]
  },
  {
   "cell_type": "markdown",
   "id": "4962a77b",
   "metadata": {},
   "source": [
    "Проверил три гипотезы и установил:\n",
    "\n",
    "1. День недели по-разному влияет на активность пользователей в Москве и Петербурге.\n",
    "Первая гипотеза полностью подтвердилась.\n",
    "\n",
    "2. Музыкальные предпочтения не сильно меняются в течение недели — будь то Москва или Петербург. Небольшие различия заметны в начале недели, по понедельникам:\n",
    "- в Москве слушают музыку жанра “world”,\n",
    "- в Петербурге — джаз и классику.\n",
    "\n",
    "Таким образом, вторая гипотеза подтвердилась лишь отчасти. Этот результат мог оказаться иным, если бы не пропуски в данных.\n",
    "3. Во вкусах пользователей Москвы и Петербурга больше общего чем различий. Вопреки ожиданиям, предпочтения жанров в Петербурге напоминают московские.\n",
    "\n",
    "Третья гипотеза не подтвердилась. Если различия в предпочтениях и существуют, на основной массе пользователей они незаметны."
   ]
  }
 ],
 "metadata": {
  "kernelspec": {
   "display_name": "Python 3 (ipykernel)",
   "language": "python",
   "name": "python3"
  },
  "language_info": {
   "codemirror_mode": {
    "name": "ipython",
    "version": 3
   },
   "file_extension": ".py",
   "mimetype": "text/x-python",
   "name": "python",
   "nbconvert_exporter": "python",
   "pygments_lexer": "ipython3",
   "version": "3.9.13"
  }
 },
 "nbformat": 4,
 "nbformat_minor": 5
}
