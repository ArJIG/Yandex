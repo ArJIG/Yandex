{
 "cells": [
  {
   "cell_type": "markdown",
   "id": "7fc7c27d",
   "metadata": {},
   "source": [
    "# Исследование надежности заемщиков"
   ]
  },
  {
   "cell_type": "markdown",
   "id": "d2ff9f41",
   "metadata": {},
   "source": [
    "# Цель исследования"
   ]
  },
  {
   "cell_type": "markdown",
   "id": "b55aa2e4",
   "metadata": {},
   "source": [
    "Определить, как разные характеристики клиента влияют на факт погашения кредита в срок.\n",
    "Результаты исследования будут учтены при построении модели кредитного скоринга — специальной системы, которая оценивает способность потенциального заёмщика вернуть кредит банку.\n",
    "\n",
    "- Необходимо ответить на следующие вопросы:\n",
    "-- Есть ли зависимость между количеством детей и возвратом кредита в срок?\n",
    "-- Есть ли зависимость между семейным положением и возвратом кредита в срок?\n",
    "-- Есть ли зависимость между уровнем дохода и возвратом кредита в срок?\n",
    "-- Как разные цели кредита влияют на его возврат в срок?"
   ]
  },
  {
   "cell_type": "markdown",
   "id": "fdb3cdba",
   "metadata": {},
   "source": [
    "## Загрузка библиотек и обзор данных"
   ]
  },
  {
   "cell_type": "markdown",
   "id": "4ae57f59",
   "metadata": {},
   "source": [
    "### Загрузка библиотек"
   ]
  },
  {
   "cell_type": "code",
   "execution_count": 27,
   "id": "4e57e8a2",
   "metadata": {},
   "outputs": [],
   "source": [
    "import pandas as pd"
   ]
  },
  {
   "cell_type": "markdown",
   "id": "304a74b7",
   "metadata": {},
   "source": [
    "### Считаем данные из csv-файла в датафрейм и сохраним в переменную data"
   ]
  },
  {
   "cell_type": "code",
   "execution_count": 28,
   "id": "ae5a0ed9",
   "metadata": {},
   "outputs": [],
   "source": [
    "try:\n",
    "    data = pd.read_csv('/datasets/data.csv')\n",
    "except:\n",
    "    data = pd.read_csv('https://code.s3.yandex.net/datasets/data.csv')"
   ]
  },
  {
   "cell_type": "markdown",
   "id": "cbaae5e8",
   "metadata": {},
   "source": [
    "### Выводим первые 5 строчек датафрейма data на экран"
   ]
  },
  {
   "cell_type": "code",
   "execution_count": 29,
   "id": "77696a75",
   "metadata": {
    "scrolled": true
   },
   "outputs": [
    {
     "data": {
      "text/html": [
       "<div>\n",
       "<style scoped>\n",
       "    .dataframe tbody tr th:only-of-type {\n",
       "        vertical-align: middle;\n",
       "    }\n",
       "\n",
       "    .dataframe tbody tr th {\n",
       "        vertical-align: top;\n",
       "    }\n",
       "\n",
       "    .dataframe thead th {\n",
       "        text-align: right;\n",
       "    }\n",
       "</style>\n",
       "<table border=\"1\" class=\"dataframe\">\n",
       "  <thead>\n",
       "    <tr style=\"text-align: right;\">\n",
       "      <th></th>\n",
       "      <th>children</th>\n",
       "      <th>days_employed</th>\n",
       "      <th>dob_years</th>\n",
       "      <th>education</th>\n",
       "      <th>education_id</th>\n",
       "      <th>family_status</th>\n",
       "      <th>family_status_id</th>\n",
       "      <th>gender</th>\n",
       "      <th>income_type</th>\n",
       "      <th>debt</th>\n",
       "      <th>total_income</th>\n",
       "      <th>purpose</th>\n",
       "    </tr>\n",
       "  </thead>\n",
       "  <tbody>\n",
       "    <tr>\n",
       "      <th>0</th>\n",
       "      <td>1</td>\n",
       "      <td>-8437.673028</td>\n",
       "      <td>42</td>\n",
       "      <td>высшее</td>\n",
       "      <td>0</td>\n",
       "      <td>женат / замужем</td>\n",
       "      <td>0</td>\n",
       "      <td>F</td>\n",
       "      <td>сотрудник</td>\n",
       "      <td>0</td>\n",
       "      <td>253875.639453</td>\n",
       "      <td>покупка жилья</td>\n",
       "    </tr>\n",
       "    <tr>\n",
       "      <th>1</th>\n",
       "      <td>1</td>\n",
       "      <td>-4024.803754</td>\n",
       "      <td>36</td>\n",
       "      <td>среднее</td>\n",
       "      <td>1</td>\n",
       "      <td>женат / замужем</td>\n",
       "      <td>0</td>\n",
       "      <td>F</td>\n",
       "      <td>сотрудник</td>\n",
       "      <td>0</td>\n",
       "      <td>112080.014102</td>\n",
       "      <td>приобретение автомобиля</td>\n",
       "    </tr>\n",
       "    <tr>\n",
       "      <th>2</th>\n",
       "      <td>0</td>\n",
       "      <td>-5623.422610</td>\n",
       "      <td>33</td>\n",
       "      <td>Среднее</td>\n",
       "      <td>1</td>\n",
       "      <td>женат / замужем</td>\n",
       "      <td>0</td>\n",
       "      <td>M</td>\n",
       "      <td>сотрудник</td>\n",
       "      <td>0</td>\n",
       "      <td>145885.952297</td>\n",
       "      <td>покупка жилья</td>\n",
       "    </tr>\n",
       "    <tr>\n",
       "      <th>3</th>\n",
       "      <td>3</td>\n",
       "      <td>-4124.747207</td>\n",
       "      <td>32</td>\n",
       "      <td>среднее</td>\n",
       "      <td>1</td>\n",
       "      <td>женат / замужем</td>\n",
       "      <td>0</td>\n",
       "      <td>M</td>\n",
       "      <td>сотрудник</td>\n",
       "      <td>0</td>\n",
       "      <td>267628.550329</td>\n",
       "      <td>дополнительное образование</td>\n",
       "    </tr>\n",
       "    <tr>\n",
       "      <th>4</th>\n",
       "      <td>0</td>\n",
       "      <td>340266.072047</td>\n",
       "      <td>53</td>\n",
       "      <td>среднее</td>\n",
       "      <td>1</td>\n",
       "      <td>гражданский брак</td>\n",
       "      <td>1</td>\n",
       "      <td>F</td>\n",
       "      <td>пенсионер</td>\n",
       "      <td>0</td>\n",
       "      <td>158616.077870</td>\n",
       "      <td>сыграть свадьбу</td>\n",
       "    </tr>\n",
       "  </tbody>\n",
       "</table>\n",
       "</div>"
      ],
      "text/plain": [
       "   children  days_employed  dob_years education  education_id  \\\n",
       "0         1   -8437.673028         42    высшее             0   \n",
       "1         1   -4024.803754         36   среднее             1   \n",
       "2         0   -5623.422610         33   Среднее             1   \n",
       "3         3   -4124.747207         32   среднее             1   \n",
       "4         0  340266.072047         53   среднее             1   \n",
       "\n",
       "      family_status  family_status_id gender income_type  debt   total_income  \\\n",
       "0   женат / замужем                 0      F   сотрудник     0  253875.639453   \n",
       "1   женат / замужем                 0      F   сотрудник     0  112080.014102   \n",
       "2   женат / замужем                 0      M   сотрудник     0  145885.952297   \n",
       "3   женат / замужем                 0      M   сотрудник     0  267628.550329   \n",
       "4  гражданский брак                 1      F   пенсионер     0  158616.077870   \n",
       "\n",
       "                      purpose  \n",
       "0               покупка жилья  \n",
       "1     приобретение автомобиля  \n",
       "2               покупка жилья  \n",
       "3  дополнительное образование  \n",
       "4             сыграть свадьбу  "
      ]
     },
     "execution_count": 29,
     "metadata": {},
     "output_type": "execute_result"
    }
   ],
   "source": [
    "data.head(5)"
   ]
  },
  {
   "cell_type": "markdown",
   "id": "b5e8a37f",
   "metadata": {},
   "source": [
    "### Выводим основную информацию о датафрейме с помощью метода info"
   ]
  },
  {
   "cell_type": "code",
   "execution_count": 4,
   "id": "61a10b4c",
   "metadata": {},
   "outputs": [
    {
     "name": "stdout",
     "output_type": "stream",
     "text": [
      "<class 'pandas.core.frame.DataFrame'>\n",
      "RangeIndex: 21525 entries, 0 to 21524\n",
      "Data columns (total 12 columns):\n",
      " #   Column            Non-Null Count  Dtype  \n",
      "---  ------            --------------  -----  \n",
      " 0   children          21525 non-null  int64  \n",
      " 1   days_employed     19351 non-null  float64\n",
      " 2   dob_years         21525 non-null  int64  \n",
      " 3   education         21525 non-null  object \n",
      " 4   education_id      21525 non-null  int64  \n",
      " 5   family_status     21525 non-null  object \n",
      " 6   family_status_id  21525 non-null  int64  \n",
      " 7   gender            21525 non-null  object \n",
      " 8   income_type       21525 non-null  object \n",
      " 9   debt              21525 non-null  int64  \n",
      " 10  total_income      19351 non-null  float64\n",
      " 11  purpose           21525 non-null  object \n",
      "dtypes: float64(2), int64(5), object(5)\n",
      "memory usage: 2.0+ MB\n"
     ]
    }
   ],
   "source": [
    "data.info()"
   ]
  },
  {
   "cell_type": "markdown",
   "id": "2c36c70e",
   "metadata": {},
   "source": [
    "В таблице двенадцать столбцов. Тип данных во всех столбцах — object, float и int.\n",
    "\n",
    "Согласно документации к данным:\n",
    "\n",
    "- children — количество детей в семье;\n",
    "- days_employed — общий трудовой стаж в днях;\n",
    "- dob_years — возраст клиента в годах;\n",
    "- education — уровень образования клиента;\n",
    "- education_id — идентификатор уровня образования;\n",
    "- family_status — семейное положение;\n",
    "- family_status_id — идентификатор семейного положения;\n",
    "- gender — пол клиента;\n",
    "- income_type — тип занятости;\n",
    "- debt — имел ли задолженность по возврату кредитов;\n",
    "- total_income — ежемесячный доход;\n",
    "- purpose — цель получения кредита;\n",
    "\n",
    "Количество значений в столбцах различается. Значит, в данных есть пропущенные значения."
   ]
  },
  {
   "cell_type": "code",
   "execution_count": null,
   "id": "d3a4a0aa",
   "metadata": {},
   "outputs": [],
   "source": [
    "df.describe()"
   ]
  },
  {
   "cell_type": "markdown",
   "id": "93d886c8",
   "metadata": {},
   "source": [
    "В каждой строке таблицы — данные о заёмщике. Предварительно можно утверждать, что информации достаточно для ответов на вопросы.\n",
    "\n",
    "Встречаются пропуски в данных, заметны артефакты (например, отрицательное количество дней стажа), возможны дубликаты, и, скорее всего, потребуется изменение формата в колонках для удобства."
   ]
  },
  {
   "cell_type": "markdown",
   "id": "1cf71f7e",
   "metadata": {},
   "source": [
    "## Предобработка данных"
   ]
  },
  {
   "cell_type": "markdown",
   "id": "a4e4d7b3",
   "metadata": {},
   "source": [
    "### Выводим количество пропущенных значений для каждого столбца"
   ]
  },
  {
   "cell_type": "code",
   "execution_count": 5,
   "id": "d9a2c20f",
   "metadata": {},
   "outputs": [
    {
     "data": {
      "text/plain": [
       "children               0\n",
       "days_employed       2174\n",
       "dob_years              0\n",
       "education              0\n",
       "education_id           0\n",
       "family_status          0\n",
       "family_status_id       0\n",
       "gender                 0\n",
       "income_type            0\n",
       "debt                   0\n",
       "total_income        2174\n",
       "purpose                0\n",
       "dtype: int64"
      ]
     },
     "execution_count": 5,
     "metadata": {},
     "output_type": "execute_result"
    }
   ],
   "source": [
    "data.isna().sum()"
   ]
  },
  {
   "cell_type": "markdown",
   "id": "c33623a5",
   "metadata": {},
   "source": [
    "### Cтолбец с пропущенными значениями — total_income — хранит данные о доходах. На сумму дохода сильнее всего влияет тип занятости, поэтому заполнить пропуски в этом столбце нужно медианным значением по каждому типу из столбца income_type. "
   ]
  },
  {
   "cell_type": "code",
   "execution_count": 6,
   "id": "9ad4ba20",
   "metadata": {},
   "outputs": [],
   "source": [
    "for t in data['income_type'].unique():\n",
    "    data.loc[(data['income_type'] == t) & (data['total_income'].isna()), 'total_income'] = \\\n",
    "    data.loc[(data['income_type'] == t), 'total_income'].median()"
   ]
  },
  {
   "cell_type": "markdown",
   "id": "5bd284eb",
   "metadata": {},
   "source": [
    "### Обработаем значения в столбце трудового стажа: заменим все отрицательные значения положительными с помощью метода abs"
   ]
  },
  {
   "cell_type": "code",
   "execution_count": 7,
   "id": "193c7453",
   "metadata": {},
   "outputs": [],
   "source": [
    "data['days_employed'] = data['days_employed'].abs()"
   ]
  },
  {
   "cell_type": "markdown",
   "id": "ce892f93",
   "metadata": {},
   "source": [
    "### Для каждого типа занятости выведем медианное значение трудового стажа days_employed в днях"
   ]
  },
  {
   "cell_type": "code",
   "execution_count": 8,
   "id": "fba3edd2",
   "metadata": {},
   "outputs": [
    {
     "data": {
      "text/plain": [
       "income_type\n",
       "безработный        366413.652744\n",
       "в декрете            3296.759962\n",
       "госслужащий          2689.368353\n",
       "компаньон            1547.382223\n",
       "пенсионер          365213.306266\n",
       "предприниматель       520.848083\n",
       "сотрудник            1574.202821\n",
       "студент               578.751554\n",
       "Name: days_employed, dtype: float64"
      ]
     },
     "execution_count": 8,
     "metadata": {},
     "output_type": "execute_result"
    }
   ],
   "source": [
    "data.groupby('income_type')['days_employed'].agg('median')"
   ]
  },
  {
   "cell_type": "markdown",
   "id": "40d08797",
   "metadata": {},
   "source": [
    "У двух типов (безработные и пенсионеры) аномально большие значения"
   ]
  },
  {
   "cell_type": "markdown",
   "id": "13b215e2",
   "metadata": {},
   "source": [
    "### Выведем перечень уникальных значений столбца children"
   ]
  },
  {
   "cell_type": "code",
   "execution_count": 9,
   "id": "aaefc29d",
   "metadata": {},
   "outputs": [
    {
     "data": {
      "text/plain": [
       "array([ 1,  0,  3,  2, -1,  4, 20,  5])"
      ]
     },
     "execution_count": 9,
     "metadata": {},
     "output_type": "execute_result"
    }
   ],
   "source": [
    "data['children'].unique()"
   ]
  },
  {
   "cell_type": "markdown",
   "id": "91aaacb1",
   "metadata": {},
   "source": [
    "### Удаление строк, в которых встречаются аномальные значения в столбце с детьми"
   ]
  },
  {
   "cell_type": "code",
   "execution_count": 10,
   "id": "32de91b7",
   "metadata": {},
   "outputs": [],
   "source": [
    "data = data[(data['children'] != -1) & (data['children'] != 20)]"
   ]
  },
  {
   "cell_type": "markdown",
   "id": "f72356ea",
   "metadata": {},
   "source": [
    "### Убедимся, что артефакты удалены"
   ]
  },
  {
   "cell_type": "code",
   "execution_count": 11,
   "id": "212dc3ad",
   "metadata": {},
   "outputs": [
    {
     "data": {
      "text/plain": [
       "array([1, 0, 3, 2, 4, 5])"
      ]
     },
     "execution_count": 11,
     "metadata": {},
     "output_type": "execute_result"
    }
   ],
   "source": [
    "data['children'].unique()"
   ]
  },
  {
   "cell_type": "markdown",
   "id": "9b485147",
   "metadata": {},
   "source": [
    "### Заполним пропуски в столбце days_employed медианными значениями каждого типа занятости income_type"
   ]
  },
  {
   "cell_type": "code",
   "execution_count": 12,
   "id": "ed38d225",
   "metadata": {},
   "outputs": [],
   "source": [
    "for t in data['income_type'].unique():\n",
    "    data.loc[(data['income_type'] == t) & (data['days_employed'].isna()), 'days_employed'] = \\\n",
    "    data.loc[(data['income_type'] == t), 'days_employed'].median()"
   ]
  },
  {
   "cell_type": "markdown",
   "id": "94b5c62f",
   "metadata": {},
   "source": [
    "### Убедимся, что все пропуски заполнены"
   ]
  },
  {
   "cell_type": "code",
   "execution_count": 13,
   "id": "86dcd804",
   "metadata": {},
   "outputs": [
    {
     "data": {
      "text/plain": [
       "children            0\n",
       "days_employed       0\n",
       "dob_years           0\n",
       "education           0\n",
       "education_id        0\n",
       "family_status       0\n",
       "family_status_id    0\n",
       "gender              0\n",
       "income_type         0\n",
       "debt                0\n",
       "total_income        0\n",
       "purpose             0\n",
       "dtype: int64"
      ]
     },
     "execution_count": 13,
     "metadata": {},
     "output_type": "execute_result"
    }
   ],
   "source": [
    "data.isna().sum()"
   ]
  },
  {
   "cell_type": "markdown",
   "id": "3aef9722",
   "metadata": {},
   "source": [
    "### Замените вещественный тип данных в столбце total_income на целочисленный"
   ]
  },
  {
   "cell_type": "code",
   "execution_count": 14,
   "id": "1d8511d3",
   "metadata": {},
   "outputs": [],
   "source": [
    "data['total_income'] = data['total_income'].astype(int)"
   ]
  },
  {
   "cell_type": "markdown",
   "id": "395494b0",
   "metadata": {},
   "source": [
    "### Приведем к нижнему регистру столбец education"
   ]
  },
  {
   "cell_type": "code",
   "execution_count": 15,
   "id": "eae51cb5",
   "metadata": {},
   "outputs": [],
   "source": [
    "data['education'] = data['education'].str.lower()"
   ]
  },
  {
   "cell_type": "markdown",
   "id": "03de4886",
   "metadata": {},
   "source": [
    "### Выведите на экран количество строк-дубликатов в данных"
   ]
  },
  {
   "cell_type": "code",
   "execution_count": 16,
   "id": "9d971697",
   "metadata": {},
   "outputs": [
    {
     "data": {
      "text/plain": [
       "71"
      ]
     },
     "execution_count": 16,
     "metadata": {},
     "output_type": "execute_result"
    }
   ],
   "source": [
    "data.duplicated().sum()"
   ]
  },
  {
   "cell_type": "markdown",
   "id": "2807176e",
   "metadata": {},
   "source": [
    "### Удаление дубликатов"
   ]
  },
  {
   "cell_type": "code",
   "execution_count": 17,
   "id": "ee5b6978",
   "metadata": {},
   "outputs": [],
   "source": [
    "data = data.drop_duplicates()"
   ]
  },
  {
   "cell_type": "markdown",
   "id": "d7aeef6f",
   "metadata": {},
   "source": [
    "## Категоризация данных"
   ]
  },
  {
   "cell_type": "markdown",
   "id": "8679086e",
   "metadata": {},
   "source": [
    "### На основании диапазонов, указанных ниже, создаем в датафрейме столбец total_income_category с категориями:\n",
    "- 0–30000 — 'E'\n",
    "- 30001–50000 — 'D'\n",
    "- 50001–200000 — 'C'\n",
    "- 200001–1000000 — 'B'\n",
    "- 1000001 и выше — 'A'"
   ]
  },
  {
   "cell_type": "code",
   "execution_count": 18,
   "id": "1eb36697",
   "metadata": {},
   "outputs": [],
   "source": [
    "def categorize_income(income):\n",
    "    try:\n",
    "        if 0 <= income <= 30000:\n",
    "            return 'E'\n",
    "        elif 30001 <= income <= 50000:\n",
    "            return 'D'\n",
    "        elif 50001 <= income <= 200000:\n",
    "            return 'C'\n",
    "        elif 200001 <= income <= 1000000:\n",
    "            return 'B'\n",
    "        elif income >= 1000001:\n",
    "            return 'A'\n",
    "    except:\n",
    "        pass"
   ]
  },
  {
   "cell_type": "code",
   "execution_count": 19,
   "id": "d9dbc9bd",
   "metadata": {},
   "outputs": [],
   "source": [
    "data['total_income_category'] = data['total_income'].apply(categorize_income)"
   ]
  },
  {
   "cell_type": "markdown",
   "id": "e6b9b8d4",
   "metadata": {},
   "source": [
    "### Выведем перечень уникальных целей взятия кредита"
   ]
  },
  {
   "cell_type": "code",
   "execution_count": 20,
   "id": "904674fb",
   "metadata": {},
   "outputs": [
    {
     "data": {
      "text/plain": [
       "array(['покупка жилья', 'приобретение автомобиля',\n",
       "       'дополнительное образование', 'сыграть свадьбу',\n",
       "       'операции с жильем', 'образование', 'на проведение свадьбы',\n",
       "       'покупка жилья для семьи', 'покупка недвижимости',\n",
       "       'покупка коммерческой недвижимости', 'покупка жилой недвижимости',\n",
       "       'строительство собственной недвижимости', 'недвижимость',\n",
       "       'строительство недвижимости', 'на покупку подержанного автомобиля',\n",
       "       'на покупку своего автомобиля',\n",
       "       'операции с коммерческой недвижимостью',\n",
       "       'строительство жилой недвижимости', 'жилье',\n",
       "       'операции со своей недвижимостью', 'автомобили',\n",
       "       'заняться образованием', 'сделка с подержанным автомобилем',\n",
       "       'получение образования', 'автомобиль', 'свадьба',\n",
       "       'получение дополнительного образования', 'покупка своего жилья',\n",
       "       'операции с недвижимостью', 'получение высшего образования',\n",
       "       'свой автомобиль', 'сделка с автомобилем',\n",
       "       'профильное образование', 'высшее образование',\n",
       "       'покупка жилья для сдачи', 'на покупку автомобиля', 'ремонт жилью',\n",
       "       'заняться высшим образованием'], dtype=object)"
      ]
     },
     "execution_count": 20,
     "metadata": {},
     "output_type": "execute_result"
    }
   ],
   "source": [
    "data['purpose'].unique()"
   ]
  },
  {
   "cell_type": "markdown",
   "id": "bd5db821",
   "metadata": {},
   "source": [
    "### Создадим функцию, которая на основании данных из столбца purpose сформирует новый столбец purpose_category, в который войдут следующие категории:\n",
    "- 'операции с автомобилем'\n",
    "- 'операции с недвижимостью'\n",
    "- 'проведение свадьбы'\n",
    "- 'получение образования'"
   ]
  },
  {
   "cell_type": "code",
   "execution_count": 21,
   "id": "1431ba9a",
   "metadata": {},
   "outputs": [],
   "source": [
    "def categorize_purpose(row):\n",
    "    try:\n",
    "        if 'автом' in row:\n",
    "            return 'операции с автомобилем'\n",
    "        elif 'жил' in row or 'недвиж' in row:\n",
    "            return 'операции с недвижимостью'\n",
    "        elif 'свад' in row:\n",
    "            return 'проведение свадьбы'\n",
    "        elif 'образов' in row:\n",
    "            return 'получение образования'\n",
    "    except:\n",
    "        return 'нет категории'"
   ]
  },
  {
   "cell_type": "code",
   "execution_count": 22,
   "id": "6c3e46d9",
   "metadata": {},
   "outputs": [],
   "source": [
    "data['purpose_category'] = data['purpose'].apply(categorize_purpose)"
   ]
  },
  {
   "cell_type": "markdown",
   "id": "661c0287",
   "metadata": {},
   "source": [
    "## Исследование данных"
   ]
  },
  {
   "cell_type": "markdown",
   "id": "2938fd19",
   "metadata": {},
   "source": [
    "### Проверка на зависимость между количеством детей и возвратом кредита в срок"
   ]
  },
  {
   "cell_type": "code",
   "execution_count": 23,
   "id": "702d8d80",
   "metadata": {},
   "outputs": [
    {
     "data": {
      "text/html": [
       "<div>\n",
       "<style scoped>\n",
       "    .dataframe tbody tr th:only-of-type {\n",
       "        vertical-align: middle;\n",
       "    }\n",
       "\n",
       "    .dataframe tbody tr th {\n",
       "        vertical-align: top;\n",
       "    }\n",
       "\n",
       "    .dataframe thead tr th {\n",
       "        text-align: left;\n",
       "    }\n",
       "\n",
       "    .dataframe thead tr:last-of-type th {\n",
       "        text-align: right;\n",
       "    }\n",
       "</style>\n",
       "<table border=\"1\" class=\"dataframe\">\n",
       "  <thead>\n",
       "    <tr>\n",
       "      <th></th>\n",
       "      <th>sum</th>\n",
       "      <th>count</th>\n",
       "      <th>mean</th>\n",
       "    </tr>\n",
       "    <tr>\n",
       "      <th></th>\n",
       "      <th>debt</th>\n",
       "      <th>debt</th>\n",
       "      <th>debt</th>\n",
       "    </tr>\n",
       "    <tr>\n",
       "      <th>children</th>\n",
       "      <th></th>\n",
       "      <th></th>\n",
       "      <th></th>\n",
       "    </tr>\n",
       "  </thead>\n",
       "  <tbody>\n",
       "    <tr>\n",
       "      <th>0</th>\n",
       "      <td>1063</td>\n",
       "      <td>14091</td>\n",
       "      <td>0.075438</td>\n",
       "    </tr>\n",
       "    <tr>\n",
       "      <th>1</th>\n",
       "      <td>444</td>\n",
       "      <td>4808</td>\n",
       "      <td>0.092346</td>\n",
       "    </tr>\n",
       "    <tr>\n",
       "      <th>2</th>\n",
       "      <td>194</td>\n",
       "      <td>2052</td>\n",
       "      <td>0.094542</td>\n",
       "    </tr>\n",
       "    <tr>\n",
       "      <th>3</th>\n",
       "      <td>27</td>\n",
       "      <td>330</td>\n",
       "      <td>0.081818</td>\n",
       "    </tr>\n",
       "    <tr>\n",
       "      <th>4</th>\n",
       "      <td>4</td>\n",
       "      <td>41</td>\n",
       "      <td>0.097561</td>\n",
       "    </tr>\n",
       "    <tr>\n",
       "      <th>5</th>\n",
       "      <td>0</td>\n",
       "      <td>9</td>\n",
       "      <td>0.000000</td>\n",
       "    </tr>\n",
       "  </tbody>\n",
       "</table>\n",
       "</div>"
      ],
      "text/plain": [
       "           sum  count      mean\n",
       "          debt   debt      debt\n",
       "children                       \n",
       "0         1063  14091  0.075438\n",
       "1          444   4808  0.092346\n",
       "2          194   2052  0.094542\n",
       "3           27    330  0.081818\n",
       "4            4     41  0.097561\n",
       "5            0      9  0.000000"
      ]
     },
     "execution_count": 23,
     "metadata": {},
     "output_type": "execute_result"
    }
   ],
   "source": [
    "data_new = data.pivot_table(index = \"children\" , values = \"debt\" , aggfunc = [\"sum\" , \"count\" , \"mean\"])\n",
    "data_new"
   ]
  },
  {
   "cell_type": "markdown",
   "id": "1eb5eda6",
   "metadata": {},
   "source": [
    "- 75% без детей\n",
    "- 92% с одним ребенком\n",
    "- 81% с двумя детьми\n",
    "- 81% c тремя детьми\n",
    "- 97% с четырьмя детьми\n",
    "- 100% с 5 детьми\n",
    "\n",
    "Так как выборки несбалансированны, мы с уверенностью можем сравнить самые большие (сопоставимые по размеру категории заемщиков). Сравнивая категрии с без детей, с одним ребенком или двумя, можно сделать вывод, что с увеличением количества детей, растет процент заемщиков без долга."
   ]
  },
  {
   "cell_type": "markdown",
   "id": "55cd00f2",
   "metadata": {},
   "source": [
    "### Проверка на зависимость между семейным положением и возвратом кредита в срок"
   ]
  },
  {
   "cell_type": "code",
   "execution_count": 24,
   "id": "450973bf",
   "metadata": {},
   "outputs": [
    {
     "data": {
      "text/html": [
       "<div>\n",
       "<style scoped>\n",
       "    .dataframe tbody tr th:only-of-type {\n",
       "        vertical-align: middle;\n",
       "    }\n",
       "\n",
       "    .dataframe tbody tr th {\n",
       "        vertical-align: top;\n",
       "    }\n",
       "\n",
       "    .dataframe thead tr th {\n",
       "        text-align: left;\n",
       "    }\n",
       "\n",
       "    .dataframe thead tr:last-of-type th {\n",
       "        text-align: right;\n",
       "    }\n",
       "</style>\n",
       "<table border=\"1\" class=\"dataframe\">\n",
       "  <thead>\n",
       "    <tr>\n",
       "      <th></th>\n",
       "      <th>sum</th>\n",
       "      <th>count</th>\n",
       "      <th>mean</th>\n",
       "    </tr>\n",
       "    <tr>\n",
       "      <th></th>\n",
       "      <th>debt</th>\n",
       "      <th>debt</th>\n",
       "      <th>debt</th>\n",
       "    </tr>\n",
       "    <tr>\n",
       "      <th>family_status</th>\n",
       "      <th></th>\n",
       "      <th></th>\n",
       "      <th></th>\n",
       "    </tr>\n",
       "  </thead>\n",
       "  <tbody>\n",
       "    <tr>\n",
       "      <th>Не женат / не замужем</th>\n",
       "      <td>273</td>\n",
       "      <td>2796</td>\n",
       "      <td>0.097639</td>\n",
       "    </tr>\n",
       "    <tr>\n",
       "      <th>в разводе</th>\n",
       "      <td>84</td>\n",
       "      <td>1189</td>\n",
       "      <td>0.070648</td>\n",
       "    </tr>\n",
       "    <tr>\n",
       "      <th>вдовец / вдова</th>\n",
       "      <td>63</td>\n",
       "      <td>951</td>\n",
       "      <td>0.066246</td>\n",
       "    </tr>\n",
       "    <tr>\n",
       "      <th>гражданский брак</th>\n",
       "      <td>385</td>\n",
       "      <td>4134</td>\n",
       "      <td>0.093130</td>\n",
       "    </tr>\n",
       "    <tr>\n",
       "      <th>женат / замужем</th>\n",
       "      <td>927</td>\n",
       "      <td>12261</td>\n",
       "      <td>0.075606</td>\n",
       "    </tr>\n",
       "  </tbody>\n",
       "</table>\n",
       "</div>"
      ],
      "text/plain": [
       "                       sum  count      mean\n",
       "                      debt   debt      debt\n",
       "family_status                              \n",
       "Не женат / не замужем  273   2796  0.097639\n",
       "в разводе               84   1189  0.070648\n",
       "вдовец / вдова          63    951  0.066246\n",
       "гражданский брак       385   4134  0.093130\n",
       "женат / замужем        927  12261  0.075606"
      ]
     },
     "execution_count": 24,
     "metadata": {},
     "output_type": "execute_result"
    }
   ],
   "source": [
    "data_new = data.pivot_table(index = \"family_status\" , values = \"debt\" , aggfunc = [\"sum\" , \"count\" , \"mean\"])\n",
    "data_new"
   ]
  },
  {
   "cell_type": "markdown",
   "id": "cb54045a",
   "metadata": {},
   "source": [
    "- 97% для не женатых\n",
    "- 93% для гражданских браков\n",
    "- 75% для женатых и замужних\n",
    "- 70% в разводе\n",
    "- 66% для вдов и вдавцов\n",
    "\n",
    "Можно утверждать, что заемщики состоящие или состоявшие в браке, более надежны."
   ]
  },
  {
   "cell_type": "markdown",
   "id": "3127635e",
   "metadata": {},
   "source": [
    "### Проверка на зависимость между уровнем дохода и возвратом кредита в срок"
   ]
  },
  {
   "cell_type": "code",
   "execution_count": 25,
   "id": "6345a5af",
   "metadata": {},
   "outputs": [
    {
     "data": {
      "text/html": [
       "<div>\n",
       "<style scoped>\n",
       "    .dataframe tbody tr th:only-of-type {\n",
       "        vertical-align: middle;\n",
       "    }\n",
       "\n",
       "    .dataframe tbody tr th {\n",
       "        vertical-align: top;\n",
       "    }\n",
       "\n",
       "    .dataframe thead tr th {\n",
       "        text-align: left;\n",
       "    }\n",
       "\n",
       "    .dataframe thead tr:last-of-type th {\n",
       "        text-align: right;\n",
       "    }\n",
       "</style>\n",
       "<table border=\"1\" class=\"dataframe\">\n",
       "  <thead>\n",
       "    <tr>\n",
       "      <th></th>\n",
       "      <th>sum</th>\n",
       "      <th>count</th>\n",
       "      <th>mean</th>\n",
       "    </tr>\n",
       "    <tr>\n",
       "      <th></th>\n",
       "      <th>debt</th>\n",
       "      <th>debt</th>\n",
       "      <th>debt</th>\n",
       "    </tr>\n",
       "    <tr>\n",
       "      <th>total_income_category</th>\n",
       "      <th></th>\n",
       "      <th></th>\n",
       "      <th></th>\n",
       "    </tr>\n",
       "  </thead>\n",
       "  <tbody>\n",
       "    <tr>\n",
       "      <th>A</th>\n",
       "      <td>2</td>\n",
       "      <td>25</td>\n",
       "      <td>0.080000</td>\n",
       "    </tr>\n",
       "    <tr>\n",
       "      <th>B</th>\n",
       "      <td>354</td>\n",
       "      <td>5014</td>\n",
       "      <td>0.070602</td>\n",
       "    </tr>\n",
       "    <tr>\n",
       "      <th>C</th>\n",
       "      <td>1353</td>\n",
       "      <td>15921</td>\n",
       "      <td>0.084982</td>\n",
       "    </tr>\n",
       "    <tr>\n",
       "      <th>D</th>\n",
       "      <td>21</td>\n",
       "      <td>349</td>\n",
       "      <td>0.060172</td>\n",
       "    </tr>\n",
       "    <tr>\n",
       "      <th>E</th>\n",
       "      <td>2</td>\n",
       "      <td>22</td>\n",
       "      <td>0.090909</td>\n",
       "    </tr>\n",
       "  </tbody>\n",
       "</table>\n",
       "</div>"
      ],
      "text/plain": [
       "                        sum  count      mean\n",
       "                       debt   debt      debt\n",
       "total_income_category                       \n",
       "A                         2     25  0.080000\n",
       "B                       354   5014  0.070602\n",
       "C                      1353  15921  0.084982\n",
       "D                        21    349  0.060172\n",
       "E                         2     22  0.090909"
      ]
     },
     "execution_count": 25,
     "metadata": {},
     "output_type": "execute_result"
    }
   ],
   "source": [
    "data_new = data.pivot_table(index = \"total_income_category\" , values = \"debt\" , aggfunc = [\"sum\" , \"count\" , \"mean\"])\n",
    "data_new"
   ]
  },
  {
   "cell_type": "markdown",
   "id": "32efb020",
   "metadata": {},
   "source": [
    "Если сравнить только две самые большие категории C (50 - 200) и B (200 - 1 млн), выходит что заемщики с более высоким доходом являются более надежными."
   ]
  },
  {
   "cell_type": "markdown",
   "id": "70e8f2f9",
   "metadata": {},
   "source": [
    "### Определим как разные цели кредита влияют на его возврат в срок"
   ]
  },
  {
   "cell_type": "code",
   "execution_count": 26,
   "id": "fd9142d3",
   "metadata": {},
   "outputs": [
    {
     "data": {
      "text/html": [
       "<div>\n",
       "<style scoped>\n",
       "    .dataframe tbody tr th:only-of-type {\n",
       "        vertical-align: middle;\n",
       "    }\n",
       "\n",
       "    .dataframe tbody tr th {\n",
       "        vertical-align: top;\n",
       "    }\n",
       "\n",
       "    .dataframe thead tr th {\n",
       "        text-align: left;\n",
       "    }\n",
       "\n",
       "    .dataframe thead tr:last-of-type th {\n",
       "        text-align: right;\n",
       "    }\n",
       "</style>\n",
       "<table border=\"1\" class=\"dataframe\">\n",
       "  <thead>\n",
       "    <tr>\n",
       "      <th></th>\n",
       "      <th>sum</th>\n",
       "      <th>count</th>\n",
       "      <th>mean</th>\n",
       "    </tr>\n",
       "    <tr>\n",
       "      <th></th>\n",
       "      <th>debt</th>\n",
       "      <th>debt</th>\n",
       "      <th>debt</th>\n",
       "    </tr>\n",
       "    <tr>\n",
       "      <th>purpose_category</th>\n",
       "      <th></th>\n",
       "      <th></th>\n",
       "      <th></th>\n",
       "    </tr>\n",
       "  </thead>\n",
       "  <tbody>\n",
       "    <tr>\n",
       "      <th>операции с автомобилем</th>\n",
       "      <td>400</td>\n",
       "      <td>4279</td>\n",
       "      <td>0.093480</td>\n",
       "    </tr>\n",
       "    <tr>\n",
       "      <th>операции с недвижимостью</th>\n",
       "      <td>780</td>\n",
       "      <td>10751</td>\n",
       "      <td>0.072551</td>\n",
       "    </tr>\n",
       "    <tr>\n",
       "      <th>получение образования</th>\n",
       "      <td>369</td>\n",
       "      <td>3988</td>\n",
       "      <td>0.092528</td>\n",
       "    </tr>\n",
       "    <tr>\n",
       "      <th>проведение свадьбы</th>\n",
       "      <td>183</td>\n",
       "      <td>2313</td>\n",
       "      <td>0.079118</td>\n",
       "    </tr>\n",
       "  </tbody>\n",
       "</table>\n",
       "</div>"
      ],
      "text/plain": [
       "                          sum  count      mean\n",
       "                         debt   debt      debt\n",
       "purpose_category                              \n",
       "операции с автомобилем    400   4279  0.093480\n",
       "операции с недвижимостью  780  10751  0.072551\n",
       "получение образования     369   3988  0.092528\n",
       "проведение свадьбы        183   2313  0.079118"
      ]
     },
     "execution_count": 26,
     "metadata": {},
     "output_type": "execute_result"
    }
   ],
   "source": [
    "data_new = data.pivot_table(index = \"purpose_category\", values = \"debt\" , aggfunc = [\"sum\" , \"count\" , \"mean\"])\n",
    "data_new"
   ]
  },
  {
   "cell_type": "markdown",
   "id": "a63748af",
   "metadata": {},
   "source": [
    "Самые рискованные кредиты идут на недвижимость и свадьбы.\n",
    "Кредиты на автомобили и образование люди стараются вернуть в срок."
   ]
  },
  {
   "cell_type": "markdown",
   "id": "be90d2a1",
   "metadata": {},
   "source": [
    "### Определим возможные причины появления пропусков в исходных данных"
   ]
  },
  {
   "cell_type": "markdown",
   "id": "80c47243",
   "metadata": {},
   "source": [
    "Пропуски встрачаются в двух столбцах - дни трудового стажа и доходы.\n",
    "\n",
    "Дни трудового стажа: человек может не работать, уволиться, скорее всего этот столбец считается автоматически.\n",
    "\n",
    "В столбце с доходом человек также может уволиться и в настоящее время не работать.\n",
    "\n",
    "Самый вероятные причины - человеческий фактор или техническая ошибка."
   ]
  },
  {
   "cell_type": "markdown",
   "id": "fef48dc2",
   "metadata": {},
   "source": [
    "### Определим, почему заполнить пропуски медианным значением — лучшее решение для количественных переменных"
   ]
  },
  {
   "cell_type": "markdown",
   "id": "d2d6593e",
   "metadata": {},
   "source": [
    "Возможно сработает и среднее значение, если нет анамольно больших и маленьких значений. \n",
    "\n",
    "В случае, когда в данных большой разброс значений - медиана покажет более корректный результат и усреднит значения, так как медиана менее чувствительна к выбросам."
   ]
  },
  {
   "cell_type": "markdown",
   "id": "a50c7c6f",
   "metadata": {},
   "source": [
    "## Вывод"
   ]
  },
  {
   "cell_type": "markdown",
   "id": "20b0e909",
   "metadata": {},
   "source": [
    "За основу проекта был взят датасет статистики платежестпособности клиентов банка.\n",
    "\n",
    "Цель исследования: Поиск закономерностей между семейным положением и колличеством детей при погашении кредита. \n",
    "\n",
    "При первичном ознакомлении с данными были выявлены следующие недостатки - достаточно большое колличество пропусков (2174 пропусков в стлобцах дохода и рабочего стажа). Методом поиска медианы были добавлены недостающие значения в столбец доходов и трудового стажа (для трудового стажа использовалась медиана по типу занятости). Также из датасета были удалены дубликаты и аномальные значение. Для категоризации данных были добавлены категории людей по доходу (5 категорий) и категории цели кредита (4 категории). \n",
    "\n",
    "- Далее мы приступили к проверке первой гипотезы - поиск закономерности между возвратом кредита в срок и колличеством детей. Анализ показал, что сравнивая самые большие по численности категории семей, процент возврата вредитов рос вместе с колличеством детей. Так, самый низкий результат был у семей без детей, порядка 75%. Категории семей с одним и двумя детьми показали результат выше - 92% и 94% соответсвенно. \n",
    "\n",
    "- Приступаем к проверке следующей гиппотезы - зависимость между семейным положением и возврата кредита в срок. Результат показал, что люди, не находящиеся в отношениях, имеют большей процент возврата кредита в срок - 97%. Самые низкие результаты показали люди разведенные - 70%, овдавевшие - 66% или женатые - 75%. Также высокий показатель возврата средств у людей в гражданском браке - 93%. Исходя из исследования, можно сделать вывод, что наибольший показатель возврата денежных средств вовремя, демонстрируют люди без отношений или в гражданском браке. \n",
    "\n",
    "- В следующем исследовании мы анализируем зависимость между уровнем дохода и возвратом кредита в срок. Разделив доходы на категории, в выборке образовались две самые многочисленные группы людей - группа В имеет доход от 200 до 1 млн. рублей, и группа С с доходом от 50 до 200 тыс. рублей. Согласно данным, граждане, имеющие более низкие доходы, чаще стараются вернуть вовремя кредитные средства - 84%, для людей с уровнем дохода от 200 до 1 млн. рублей процент составил только 70%. \n",
    "\n",
    "- В следующем исследовании мы ищем зависимость между целью кредита и возвратом денег в срок. Согласно данным, самыми рискованными кредитами являются сделки с недвижимостью - 72% воозврата денежных средств в срок, и кредиты на проведение свадеб - 79%. Кредиты на образование и покупку машины, являются самыми безопастными - 79% для образования и 93% для автомобилей. \n",
    "\n",
    "- Можно сделать общий вывод, что приоритетными для банка кредиты, должны выдаваться людям с детьми, не состоящих в браке, с уровнем дохода до 200 тыс. рублей. Приоритетные цели кредита - образование и покупка автомобиля. Каких кредитов стоит опаться - в число рискованныых категорий попадают люди без детей, разведенных или овдавевшие, с доходом более 200 тыс. рублей. Самыми рискованными категориями являются сделки с недвижимостью и кредиты на свадьбу. Для более точной обработки данных, могу порекомендовать в столбце с доходами и днями стажа, ввести специальное обозначение для неработающих людей."
   ]
  }
 ],
 "metadata": {
  "kernelspec": {
   "display_name": "Python 3 (ipykernel)",
   "language": "python",
   "name": "python3"
  },
  "language_info": {
   "codemirror_mode": {
    "name": "ipython",
    "version": 3
   },
   "file_extension": ".py",
   "mimetype": "text/x-python",
   "name": "python",
   "nbconvert_exporter": "python",
   "pygments_lexer": "ipython3",
   "version": "3.9.13"
  }
 },
 "nbformat": 4,
 "nbformat_minor": 5
}
